{
 "cells": [
  {
   "cell_type": "markdown",
   "metadata": {},
   "source": [
    "<!--<h1 style=\"color:MediumSeaGreen;\"></h1>\n",
    "  \n",
    "    \n",
    "<p style=\"color:MediumSeaGreen;\">    asdasd </p>\n",
    "For adding space in html &nbsp;&nbsp;&nbsp;&nbsp;&nbsp;&nbsp;&nbsp;&nbsp;  \n",
    "comment -->\n",
    "<img src=\"Qubes_course/images/qbraid-logo.png\"\n",
    "    height=\"10\" width=\"60\"\n",
    "     style=\"float: left; margin-right: 40px; margin-left: 10px;\" />\n",
    "     \n",
    "<font size=5 color=b64c35>[Understanding the UI](./Tutorials/qbraid_tutorials/UI.ipynb)&nbsp;&nbsp;&nbsp;&nbsp;&nbsp; [Python](./Tutorials/qbraid_tutorials/python/Python_tutorial.ipynb) &nbsp;&nbsp;&nbsp;&nbsp;&nbsp;[QuBes Course](./Qubes_course/0_Introduction.ipynb) &nbsp;&nbsp;&nbsp;&nbsp;&nbsp;[FAQs](#Frequently-asked-questions)</font>\n",
    "     \n",
    "<font size=5 color=b64c35>&nbsp;&nbsp;&nbsp;&nbsp;&nbsp;&nbsp;&nbsp;&nbsp;&nbsp;&nbsp;&nbsp;&nbsp;&nbsp;&nbsp;&nbsp;&nbsp;&nbsp;&nbsp;&nbsp;&nbsp;&nbsp;[Piazza](http://piazza.com/qbraid/spring2020/101)</font><font size=3 color=b64c35>(code: qubit)</font><font size=5 color=b64c35>&nbsp;&nbsp; &nbsp;&nbsp;[Feedback](./feedback.ipynb)\n"
   ]
  },
  {
   "cell_type": "markdown",
   "metadata": {},
   "source": [
    "<h1 style=\"color:MediumSeaGreen;\">Welcome to qBraid!</h1>\n",
    "\n",
    "We are so glad that you are here! Whether you are an absolute quantum beginner (QuBe), a quantum intermediate (QuInt) or a quantum professional (QuPro), we have something for you. \n",
    "\n",
    "Our **mission** is to facilitate the quantum computing revolution; to do this, we are creating a *one-stop* platform for developing and running quantum algorithms, *as well as* learning about quantum computing. We believe that in order for the potential of quantum computing to be realized, for it to really be applied to all the fields it promises to revolutionize, it must be widely accessible. We are here to help the next generation of programmers to \"think quantum\".\n",
    "\n",
    "In this welcome page, you will find: <br>\n",
    "1. <a href=\"#understanding_UI\">Instructions on how to navigate the User Interface</a> <br>\n",
    "2. <a href=\"#writing_program\">Instructions on how to write and run a quantum program on our platform</a> <br>\n",
    "3. <a href=\"#courses_and_tutorials\">A description of our quantum computing courses and tutorials</a> <br>\n",
    "\n",
    "\n",
    "At qBraid, you can start developing and running quantum programs right away without having to install *anything* on your local machine. You will have access to state-of-the-art libraries for applications of quantum computing, and you will be able to run the quantum algorithms you develop on the state-of-the-art quantum hardware offered by providers around the world (note: *we* do not develop quantum hardware!). We believe that running a quantum program should be as simple as checking your email. To see this in action for yourself, run the following code cell to draw your first quantum circuit. You can click anywhere in the following code cell and press `Shift+Enter` to run it. Run the second code cell to execute the quantum circuit.\n",
    "\n"
   ]
  },
  {
   "cell_type": "code",
   "execution_count": null,
   "metadata": {},
   "outputs": [],
   "source": [
    "from qiskit import *\n",
    "from qiskit import Aer\n",
    "\n",
    "# Create a Quantum Circuit acting on a single qubit\n",
    "circ = QuantumCircuit(1,1)\n",
    "\n",
    "# Add a Hadamard (H) gate on qubit 0, putting this qubit in superposition.\n",
    "circ.h(0)\n",
    "circ.draw(output='mpl')\n",
    "#the second wire represents the classical bit in which the outcome of the future measurement will be stored."
   ]
  },
  {
   "cell_type": "code",
   "execution_count": null,
   "metadata": {},
   "outputs": [],
   "source": [
    "circ.measure(0,0)\n",
    "\n",
    "# Import Aer and execute\n",
    "from qiskit import Aer, execute\n",
    "backend_sim = Aer.get_backend('qasm_simulator')\n",
    "\n",
    "sim = execute(circ, backend_sim, shots=1000)\n",
    "sim_result = sim.result()\n",
    "counts = sim_result.get_counts(circ)\n",
    "\n",
    "print('==================================')\n",
    "print('\\nBelow is the output of executing the circuit 1000 times.')\n",
    "print('\\n==================================')\n",
    "print('\\nAlso, congratulations on running a quantum program!')\n",
    "print('\\n==================================')\n",
    "\n",
    "# We can plot the outcomes stored in the variable 'counts' using the following code:\n",
    "from qiskit.visualization import plot_histogram\n",
    "plot_histogram(counts)"
   ]
  },
  {
   "cell_type": "markdown",
   "metadata": {},
   "source": [
    "If you are new to quantum computing, you may not know what the above lines of code actually do - and that's okay! We are so excited to welcome you to learn on our platform. At qBraid, you'll have access to:\n",
    "1. Two in-depth courses (one for [QuBes](./Qube/0_Introduction.ipynb), and one for [QuInts](./Qube/0_Introduction.ipynb)), which combine the basic theoretical foundations of quantum computing with hands-on experience writing and running quantum algorithms on our platform. \n",
    "2. Tutorials on various advanced topics."
   ]
  },
  {
   "cell_type": "markdown",
   "metadata": {},
   "source": [
    "<h2 style=\"color:#b64c35;\">Understanding the User Interface:  </h2>  <a name=\"understanding_UI\"></a>\n",
    "\n",
    "qBraid is built on top of the open source platform *jupyterlab*. The heart and soul of jupyterlab are *jupyter notebooks*, such as this 'Welcome.ipynb' page. In a single jupyter notebook, you can take notes, write and run code, make animations, and do plenty of other cool things. This makes the jupyter notebook setting perfectly suited for learning an interdisciplinary subject like quantum computing, which is situated at the interface of Mathematics, Physics and Computer science. \n",
    "\n",
    "If you are already familiar with jupyterlab, feel free to skip ahead. Otherwise, we are happy to guide you through the user interface, which is very intuitive. Click on the following link to open the tutorial notebook (this should take you only about 10-15 minutes):\n",
    "\n",
    "<b><font size=\"3\">[Understanding the user interface](./Tutorials/qbraid_tutorials/UI.ipynb)</font><b/>"
   ]
  },
  {
   "cell_type": "markdown",
   "metadata": {},
   "source": [
    "<h2 style=\"color:#b64c35;\">Instructions for writing and running a quantum program:</h2><a name=\"writing_program\"></a>\n",
    "\n",
    "Writing and running a quantum program is as simple as editing the code cells at the start of this notebook, and executing them.\n",
    "\n",
    "When you run your quantum programs at qBraid, the benefits are:\n",
    "1. No setup required - so you don't have to worry about installing packages and dependencies yourself. We will have all major quantum hardware backends available and ready to go.\n",
    "2. Interoperability, meaning that you only have to write your code once, and it can run on all available quantum hardware. (coming soon)\n",
    "3. Access to state-of-the-art libraries for quantum chemistry, machine learning, and quantum cryptography, as well as in-depth tutorials on specific algorithms (coming soon).\n",
    "\n",
    "- If you are new to programming quantum algorithms, but you have some formal background in quantum computing, we recommend that you visit Section 2 of [this notebook](./qBraid_for_your_college_class.ipynb), where we will guide you through running your first quantum program. \n",
    "- If you are new to programming quantum algorithms as well as quantum computing, we suggest that you start your journey from our [Qubes course](./Qube/0_Introduction.ipynb).\n",
    "- If you are familiar with both quantum programming and quantum computing, below are simple step-by-step instructions on how to get started running a quantum program. These are easier *done* than *said*.. so you can follow along by looking at the animation below.\n",
    "<!-- qBraid currently supports -->"
   ]
  },
  {
   "cell_type": "markdown",
   "metadata": {},
   "source": [
    "<font size = 3 color=b64c35>**(i) Create a new folder**</font>\n",
    "\n",
    "First off, you should know that all of qBraid's content is contained in the folder `qBraid Resources`. Since this folder is Read-Only, you will start by creating a new folder at the same level.\n",
    "\n",
    "Make sure to back out to the top level by clicking on the folder icon (see the animation).\n",
    "\n",
    "Then, to create a new folder, click on the folder icon with a '+' overlayed (again, easier to show than to describe, so see below). You can rename the folder you created by right clicking on it.\n",
    "\n",
    "<font size = 3 color=b64c35>**(ii) Create a new notebook**</font>\n",
    "\n",
    "Once you are inside your folder, click on the `+` icon to create a new *notebook* (these are how files are referred to in jupyter). This will bring up the Launcher, which provides you with options to create various types of files. Click on 'Python 3' under the notebook heading to create a new (Python 3 language based) jupyter notebook. The default name for all new notebooks is 'Untitled.ipynb'. You can rename it by right clicking on the file. \n",
    "\n",
    "<font size = 3 color=b64c35>**(iii) Start coding**</font>\n",
    "\n",
    "This is it! You can now start typing Python code in the first cell of your new notebook, and you can add new cells by clicking on the `+` icon above the notebook. You can run the code in a cell by pressing `Shift+Enter`.\n",
    "\n",
    "To begin writing a quantum program, all that is left to do is to import the relevant packages. To get started, you can simply copy the quantum program at the top of this welcome notebook.\n",
    "\n",
    "<img src=\"./create_notebook.gif\"  height=\"700\" width=\"800\" />"
   ]
  },
  {
   "cell_type": "markdown",
   "metadata": {},
   "source": [
    "<h1 style=\"color:MediumSeaGreen;\">Quantum computing courses and tutorials:</h1> <a name=\"courses_and_tutorials\"></a>\n",
    "\n",
    "Education is at the core of our mission. Whether you've just heard of quantum computing and want to explore it, or if you believe this is a skill that you want to put to use in your career, we want to help you reach that next level.\n",
    "\n",
    "<!--\n",
    "\n",
    "<h2 style=\"color:#b64c35;\">Qubes </h2>With qBraid, we are trying to lower the learning curve for the Qubes, and provide a hassle-free platform for using different quantum computers for Quints and Qupro. For Qubes, we plan to:\n",
    "\n",
    "1. have jupyter notebooks for introducing the just enough quantum mechanics fundamentals required for quantum computation.\n",
    "2. have extensive tutorials for learning and mastering quantum computation. \n",
    "3. have a jupyter based GUI for running different algorithms.\n",
    "4. make learning quantum computation FUN! This is actually the most important goal of qBraid.\n",
    "\n",
    "<h2 style=\"color:#b64c35;\">Quints </h2>\n",
    "For Quints, we plan to:\n",
    "1. have everything setup and ready to go, so you don't have to worry about installing packages and dependencies yourself.\n",
    "2. have interoperatibility, where you would only have to write your code for a given algorithm once, and it will run on all different hardwares.\n",
    "3. have all major hardware backends available.\n",
    "4. have all the essential algorithm for quantum chemistry, machine learning tutorials ready and working.\n",
    "\n",
    "\n",
    "\n",
    "In order for you to take the maximum advantage of various tools available at qBraid, we have created a tutorials library that is categorized based on the tasks. There are the goto resources for someone working on a project. Check out the tutorials library here. -->\n",
    "\n",
    "<h2 style=\"color:#b64c35;\">QuBes course </h2>\n",
    "\n",
    "If you are completely new to quantum computing, look no further. Our QuBes course assumes no previous knowledge about quantum theory and a minimal mathematical background. It provides you with a great amount of physical intuition, while introducing enough basic mathematical concepts to allow you to understand and appreciate some of the many counterintuitive features of quantum mechanics, as well as the power of quantum computing.\n",
    "\n",
    "This course is primarily intended for junior and senior high school students. There is really no prerequisite other than a curiosity about quantum computing. If you give us the initial spark, we will provide plenty of interactive material to keep you engaged, and to help you familiarize with the concepts you have learned.\n",
    "\n",
    "You can find the course here: \n",
    "\n",
    "[Qubes course](./Qubes_course/0_Introduction.ipynb)"
   ]
  },
  {
   "cell_type": "markdown",
   "metadata": {},
   "source": [
    "<h2 style=\"color:#b64c35;\">QuInts course (coming soon)</h2>\n",
    "\n",
    "The QuInts course is aimed at undergraduate students or advanced high school students. Alternatively, if you have completed the Qubes course, the Quints course will be the perfect next step for you to learn much more about quantum computing.\n",
    "\n",
    "We do not assume any knowledge about quantum mechanics or quantum computing. However, compared to the Qubes course, we will assume that you have a bit more mathematical maturity. This will allows to explore some of the concepts more in detail, and overall to have a brisker pace and cover more material."
   ]
  },
  {
   "cell_type": "markdown",
   "metadata": {},
   "source": [
    "<h2 style=\"color:#b64c35;\">Tutorials on advanced topics (coming soon) </h2>\n",
    "\n",
    "As you become more familiar with writing your own programs, you'll find tutorials for more advanced applications on our platform, such as simulation of quantum chemistry, Variational-Quantum-Eigensolver (VQE), etc."
   ]
  },
  {
   "cell_type": "markdown",
   "metadata": {},
   "source": [
    "<h1 style=\"color:MediumSeaGreen;\">Frequently asked questions</h1>\n",
    "\n",
    "Recently, there have been many exciting quantum computing developments, which in turn have led to a lot of buzz about quantum computing in the media! Although we are also very excited about this buzz, we would like to start off by clearing the air about what quantum computing can and cannot do. Hopefully, this will help you set your expectations right, and will allows us to convey to you the real promise of quantum computers behind a veil of hype.\n",
    "\n",
    "<font color=b64c35>**So, what is quantum computing?**</font><br />\n",
    "Quantum computing is a new paradigm for computation that harnesses the power of quantum mechanics. This lets a quantum computer solve *SOME* tasks exponentially faster than the best known algorithms for classical computers.\n",
    "\n",
    "<font color=b64c35>**Can you use a quantum computer to make computer games run much faster? How about better graphics? Browsing the internet faster?**</font><br />\n",
    "No, no, and no. As we mentioned, above quantum computers are being built to solve certain class of problems. In the long run it is possible that we may end up using quantum computers for much broader tasks. But the current scientific concensus is that using quantum computers for games and other things that we do on classical computers won't happen for at least another 15-20 years. \n",
    "\n",
    "<font color=b64c35>**What sort of tasks can a quantum computer perform faster than a classical computer?**</font><br />\n",
    "Simulating the behavior of certain quantum mechanical systems is prohibitively difficult - while it's theoretically possible, we're talking thousands or millions of years on the world's best supercomputers. Quantum computers will make such tasks feasible: the same problems could be computed in months, weeks, or less. These simulations are not just interesting to a small community of researchers in quantum physics. Far from it: they are at the heart of drug discovery in the pharmaceutical industry, and of the design of new nanomaterials. In this way, quantum computers could be used to accelerate tasks from finding more effective treatments for diseases to creating stronger and lighter building materials.\n",
    "\n",
    "Cryptography, the way we secure our personal and other information, is also a hot topic in quantum computation. Did you know that the methods employed for securing most credit card transactions fundamentally rests on the assumption that it is very hard to factor large numbers? Although this is (at least currently) the case for classical computers, we know that quantum computers can factor large numbers efficiently (i.e. in a feasible time-frame), and they will thus be able to completely break all of this cryptographic infrastructure.\n",
    "\n",
    "<!-- <p><span style=\"color:red\"> Simplified wording ^ </span>.</p> -->\n",
    "\n",
    "<font color=b64c35>**Does this mean that you can learn quantum computing and hack the most popular encryption protocols anytime soon?**</font><br />\n",
    "No. In order to break them, you would need quantum computers with a large number of qubits (a qubit being the quantum equivalent of a bit, both of which you will learn a lot more about in this course). The current technological state-of-the-art allows us to realize quantum computers with far fewer qubits than is required to break the commonly used encryption protocols. Moreover, the kind of qubits that are available right now are far from perfect: they are quite noisy. We are still some time away from having a quantum computer that can quickly factor large numbers. By some estimates, we will get there in 10 years, and by others it will take 20 years or more.\n",
    "\n",
    "<font color=b64c35>**So, what kind of tasks can you perform on near term quantum computers?**</font><br />\n",
    "The era of quantum computing is in its infancy. We are in the exciting first stages of a revolution in the field of computing. Right now, we have quantum computers with 50-100 noisy qubits. It turns out that such few noisy qubits are already enough to perform some specialized tasks faster than classical computers. Very recently, Google published their results demonstrating an experiment where a quantum computer was able to perform a certain calculation in 200 seconds - the same calculation would have taken a classical computer more than 10,000 years! You can see Google's celebration video <a href=\"https://www.youtube.com/watch?v=-ZNEzzDcllU\">here</a>, and a great explanation of what exactly they did <a href=\"https://www.youtube.com/watch?v=vTYp5Kd9nMA\">here</a>. The future is bright, and with further experimental and theoretical advances, we hope that some really important problems in quantum chemistry and high energy physics may become tractable soon enough.\n",
    "\n",
    "Based on the current scenario, here are the reasons for learning quantum computing: <br />\n",
    "- Quantum computing is still a nascent field with a potential to revolutionize the world of computing;\n",
    "- Understanding its most core fundamentals, and being able to run basic computations is within the reach of this introductory course;\n",
    "- A working knowledge of classical programming is increasingly often listed as a requirement for occupations in industry, and expertise in classical programming is in even higher demand. We expect a similar trend to take place in the next decades for quantum computing;\n",
    "- Quantum computing is cool! It challenges your intuition, and it pushes you to think both rigorously and outside-the-box. It is a unique combination of Mathematics, Physics and Computer Science."
   ]
  },
  {
   "cell_type": "code",
   "execution_count": null,
   "metadata": {},
   "outputs": [],
   "source": []
  }
 ],
 "metadata": {
  "kernelspec": {
   "display_name": "Python 3",
   "language": "python",
   "name": "python3"
  },
  "language_info": {
   "codemirror_mode": {
    "name": "ipython",
    "version": 3
   },
   "file_extension": ".py",
   "mimetype": "text/x-python",
   "name": "python",
   "nbconvert_exporter": "python",
   "pygments_lexer": "ipython3",
   "version": "3.6.7"
  },
  "toc-autonumbering": true,
  "toc-showcode": false,
  "toc-showmarkdowntxt": false,
  "widgets": {
   "application/vnd.jupyter.widget-state+json": {
    "state": {},
    "version_major": 2,
    "version_minor": 0
   }
  }
 },
 "nbformat": 4,
 "nbformat_minor": 4
}
