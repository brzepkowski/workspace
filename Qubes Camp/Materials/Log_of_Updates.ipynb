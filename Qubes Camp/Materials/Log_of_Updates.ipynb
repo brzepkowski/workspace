{
 "cells": [
  {
   "cell_type": "markdown",
   "metadata": {},
   "source": [
    "<h1 style=\"color:MediumSeaGreen;\">Updates</h1>\n",
    "\n",
    "We are currently developing much more content for everyone learning quantum computing. Every now and then we will release new content as well as new features for everyone to use. Everytime we make an update, we will document it in this notebook."
   ]
  },
  {
   "cell_type": "markdown",
   "metadata": {},
   "source": [
    "<font size=3 color=b64c35>**June 1, 2020:**</font> \n",
    "- Added the folder `college-level_notebooks`. This contains a notebook on Grover's algorithm, with programming exercises.\n",
    "- Polished the Qubes course.\n",
    "\n",
    "\n",
    "<font size=3 color=b64c35>**May 12, 2020:**</font> \n",
    "\n",
    "Based on feedback from many people, we have made the following updates:\n",
    "- Split the Background Math notebook into two notebooks (Complex Numbers and Linear Algebra) and split Quantum Teleportation and Deutsch's Algorithm into two notebooks.\n",
    "- Polished the Qubes course."
   ]
  },
  {
   "cell_type": "code",
   "execution_count": null,
   "metadata": {},
   "outputs": [],
   "source": []
  }
 ],
 "metadata": {
  "kernelspec": {
   "display_name": "Python 3",
   "language": "python",
   "name": "python3"
  },
  "language_info": {
   "codemirror_mode": {
    "name": "ipython",
    "version": 3
   },
   "file_extension": ".py",
   "mimetype": "text/x-python",
   "name": "python",
   "nbconvert_exporter": "python",
   "pygments_lexer": "ipython3",
   "version": "3.6.7"
  },
  "widgets": {
   "application/vnd.jupyter.widget-state+json": {
    "state": {},
    "version_major": 2,
    "version_minor": 0
   }
  }
 },
 "nbformat": 4,
 "nbformat_minor": 4
}
