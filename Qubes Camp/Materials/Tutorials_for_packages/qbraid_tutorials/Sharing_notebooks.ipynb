{
 "cells": [
  {
   "cell_type": "markdown",
   "metadata": {},
   "source": [
    "<!-- .<h1 style=\"color:MediumSeaGreen;\" align=\"center\" class=\"tocSkip\"> <center>Complex Numbers</center> </h1>  -->\n",
    "<center><font size=6 color='MediumSeaGreen'><b>Sharing notebooks with students</b> </font></center>"
   ]
  },
  {
   "cell_type": "markdown",
   "metadata": {},
   "source": [
    "To share customized notebooks with students, you will use an integration of github with qbraid. The current solution assumes that you have a github account, and basic familiarity with the github flow (we are currently working on a solution that is independent of github). To set things up:\n",
    "\n",
    "- Start by creating a new repository on your github account. \n",
    "\n",
    "- Once you are back to qBraid, click on the folder icon to back out to the root (main) folder.\n",
    "\n",
    "<img src=\"images/share_notebook_tutorial_fig_1.png\"  height=\"600\" width=\"700\" />\n",
    "\n",
    "- Click on the 'Git Clone' icon, and enter the URL of your github repository (you can find this URL in your github repository by clicking on 'Clone or Download'). The cloned repository should now be visible in qBraid, next to the original `qBraid Resources` folder.\n",
    "\n",
    "<img src=\"images/share_notebook_tutorial_fig_2.png\"  height=\"600\" width=\"700\" />\n",
    "\n",
    "<img src=\"images/share_notebook_tutorial_fig_3.png\"  height=\"600\" width=\"700\" />\n",
    "\n",
    "- Copy a notebook that you wish to edit and paste it in your new folder (you can do so by right-clicking on the notebook you want to copy in the left panel, selecting 'copy', and then selecting 'paste' once you are in your new folder).\n",
    "\n",
    "- Edit to your hearts' content, and remember to save your changes. \n",
    "\n",
    "- Once you are satisfied, click on the 'git' icon in the left sidebar (while you are in your new folder). Then 'stage' your changes, commit to them, and push them to your github repository. \n",
    "\n",
    "<img src=\"images/share_notebook_tutorial_fig_4.png\"  height=\"600\" width=\"700\" />\n",
    "\n",
    "- Finally, to share the updated repository with your class, click [here](https://jupyterhub.github.io/nbgitpuller/link?hub=https://qbraid.com). This link will take you to the following page:\n",
    "\n",
    "<img src=\"images/nbgitpuller.png\"  height=\"600\" width=\"700\" />\n",
    "\n",
    "- Enter the URL of your github repo in the `Git Repository URL` field. Please make sure:\n",
    "     1. to use https://github.com/yourusername/yourrepo.\n",
    "     2. that you make the access to the repository that you want to share with students, public.\n",
    "     \n",
    "  As you enter the URL, you will see a link being generated in the `Generated link appears here` field. That is it! You can just share this         link with students. When students click on this link, they will be redirected to qbraid.com where they can login. Upon login, they will see       that the repository has appeared in their root (main) folder.\n",
    "\n",
    "\n",
    "Note:\n",
    "- If you wish to make changes to the github repository, you can go ahead and do that. The changes do not affect the local repositories of students until the students click the link again.\n",
    "- To get the most recent changes, students will need to click on the link again.\n",
    "- All changes that students may have made to their local clone of your github repository may get deleted when they click on the link to pull most recent changes. So, you should advise students to keep separate copies of the notebooks they are editing."
   ]
  },
  {
   "cell_type": "code",
   "execution_count": null,
   "metadata": {},
   "outputs": [],
   "source": []
  }
 ],
 "metadata": {
  "kernelspec": {
   "display_name": "Python 3",
   "language": "python",
   "name": "python3"
  },
  "language_info": {
   "codemirror_mode": {
    "name": "ipython",
    "version": 3
   },
   "file_extension": ".py",
   "mimetype": "text/x-python",
   "name": "python",
   "nbconvert_exporter": "python",
   "pygments_lexer": "ipython3",
   "version": "3.6.7"
  },
  "widgets": {
   "application/vnd.jupyter.widget-state+json": {
    "state": {},
    "version_major": 2,
    "version_minor": 0
   }
  }
 },
 "nbformat": 4,
 "nbformat_minor": 4
}
