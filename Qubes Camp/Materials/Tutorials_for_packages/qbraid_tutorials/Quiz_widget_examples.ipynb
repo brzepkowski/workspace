{
 "cells": [
  {
   "cell_type": "code",
   "execution_count": 1,
   "metadata": {},
   "outputs": [],
   "source": [
    "# imports\n",
    "from qbraid_quiz_widget import MultipleChoiceQuestion, FreeResponseQuestion, Flashcard"
   ]
  },
  {
   "cell_type": "code",
   "execution_count": 2,
   "metadata": {},
   "outputs": [
    {
     "data": {
      "application/vnd.jupyter.widget-view+json": {
       "model_id": "2b04cd1dd0b744859802a5c8ed6b7a58",
       "version_major": 2,
       "version_minor": 0
      },
      "text/plain": [
       "MultipleChoiceQuestion(jupyterhub_username='jared', resource_id='The_quantum_state_of-wpvg1tevrq')"
      ]
     },
     "metadata": {},
     "output_type": "display_data"
    }
   ],
   "source": [
    "# single widget can be a one-liner:\n",
    "MultipleChoiceQuestion('The_quantum_state_of-wpvg1tevrq')"
   ]
  },
  {
   "cell_type": "code",
   "execution_count": 4,
   "metadata": {},
   "outputs": [
    {
     "data": {
      "application/vnd.jupyter.widget-view+json": {
       "model_id": "f2fed41638694bc994fd61d3074fbe0a",
       "version_major": 2,
       "version_minor": 0
      },
      "text/plain": [
       "Flashcard(jupyterhub_username='jared', resource_id='The_wave_function_of-7fdn807u20')"
      ]
     },
     "metadata": {},
     "output_type": "display_data"
    },
    {
     "data": {
      "application/vnd.jupyter.widget-view+json": {
       "model_id": "2c9d81a8a7e0422c88c7c711d30244af",
       "version_major": 2,
       "version_minor": 0
      },
      "text/plain": [
       "FreeResponseQuestion(jupyterhub_username='jared', resource_id='Are_you_satisfied_wi-ige8w9vlvk')"
      ]
     },
     "metadata": {},
     "output_type": "display_data"
    }
   ],
   "source": [
    "# multiple widgets can be embedded in a single notebook cell:\n",
    "flashcard = Flashcard('The_wave_function_of-7fdn807u20')\n",
    "question = FreeResponseQuestion('Are_you_satisfied_wi-ige8w9vlvk')\n",
    "display(flashcard)\n",
    "display(question)"
   ]
  },
  {
   "cell_type": "code",
   "execution_count": null,
   "metadata": {},
   "outputs": [],
   "source": []
  }
 ],
 "metadata": {
  "kernelspec": {
   "display_name": "Python 3",
   "language": "python",
   "name": "python3"
  },
  "language_info": {
   "codemirror_mode": {
    "name": "ipython",
    "version": 3
   },
   "file_extension": ".py",
   "mimetype": "text/x-python",
   "name": "python",
   "nbconvert_exporter": "python",
   "pygments_lexer": "ipython3",
   "version": "3.6.7"
  }
 },
 "nbformat": 4,
 "nbformat_minor": 4
}
