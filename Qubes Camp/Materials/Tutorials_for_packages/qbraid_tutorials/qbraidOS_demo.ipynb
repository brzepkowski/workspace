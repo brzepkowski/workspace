{
 "cells": [
  {
   "cell_type": "markdown",
   "metadata": {},
   "source": [
    "# Some tests for qBraid\n",
    "Running a Calculation for $BeH_2$ exact diagonalization on qiskit"
   ]
  },
  {
   "cell_type": "code",
   "execution_count": null,
   "metadata": {},
   "outputs": [],
   "source": [
    "# Importing stuff\n",
    "from qiskit.chemistry.drivers import PySCFDriver, UnitsType\n",
    "from qiskit.aqua.algorithms import ExactEigensolver\n",
    "from qiskit.chemistry import QMolecule\n",
    "import warnings\n",
    "from qiskit.chemistry.fermionic_operator import FermionicOperator\n",
    "warnings.filterwarnings(\"ignore\",category=DeprecationWarning)\n",
    "driver = PySCFDriver(atom='Be 0.000 0.0000 0.0000; H 1.291 0.0000 0.000; H -1.291,0.0000, 0.000',\n",
    "             unit=UnitsType.ANGSTROM,\n",
    "                         charge=0, spin=0, basis='sto3g')\n",
    "molecule = driver.run()\n",
    "one_b = molecule.one_body_integrals\n",
    "two_b = molecule.two_body_integrals\n",
    "fer_op = FermionicOperator(h1=one_b, h2=two_b)\n",
    "qub_op = fer_op.mapping('jordan_wigner')\n",
    "ee = ExactEigensolver(qub_op, k=6)\n",
    "ee_result = ee.run()\n",
    "ref_min_eigvals = ee_result['eigvals'][0:6]\n",
    "print(ref_min_eigvals)"
   ]
  },
  {
   "cell_type": "code",
   "execution_count": null,
   "metadata": {},
   "outputs": [],
   "source": [
    "from openfermion.ops._symbolic_operator import SymbolicOperator\n",
    "from openfermion.ops import QubitOperator\n",
    "from qiskit.aqua import Operator\n",
    "from qiskit.quantum_info import Pauli"
   ]
  },
  {
   "cell_type": "code",
   "execution_count": null,
   "metadata": {},
   "outputs": [],
   "source": [
    "from openfermion.hamiltonians import MolecularData\n",
    "\n",
    "# Set parameters to make a simple molecule.\n",
    "diatomic_bond_length = .7414\n",
    "geometry = [('H', (0., 0., 0.)), ('H', (0., 0., diatomic_bond_length))]\n",
    "basis = 'sto-3g'\n",
    "multiplicity = 1\n",
    "charge = 0\n",
    "description = str(diatomic_bond_length)\n",
    "\n",
    "# Make molecule and print out a few interesting facts about it.\n",
    "molecule = MolecularData(geometry, basis, multiplicity,\n",
    "                         charge, description)\n",
    "print('Molecule has automatically generated name {}'.format(\n",
    "    molecule.name))\n",
    "print('Information about this molecule would be saved at:\\n{}\\n'.format(\n",
    "    molecule.filename))\n",
    "print('This molecule has {} atoms and {} electrons.'.format(\n",
    "    molecule.n_atoms, molecule.n_electrons))\n",
    "for atom, atomic_number in zip(molecule.atoms, molecule.protons):\n",
    "    print('Contains {} atom, which has {} protons.'.format(\n",
    "        atom, atomic_number))"
   ]
  },
  {
   "cell_type": "code",
   "execution_count": null,
   "metadata": {},
   "outputs": [],
   "source": [
    "# Set molecule parameters.\n",
    "basis = 'sto-3g'\n",
    "multiplicity = 1\n",
    "bond_length_interval = 0.1\n",
    "n_points = 25\n",
    "\n",
    "# Generate molecule at different bond lengths.\n",
    "hf_energies = []\n",
    "fci_energies = []\n",
    "bond_lengths = []\n",
    "for point in range(3, n_points + 1):\n",
    "    bond_length = bond_length_interval * point\n",
    "    bond_lengths += [bond_length]\n",
    "    description = str(round(bond_length,2))\n",
    "    print(description)\n",
    "    geometry = [('H', (0., 0., 0.)), ('H', (0., 0., bond_length))]\n",
    "    molecule = MolecularData(\n",
    "        geometry, basis, multiplicity, description=description)\n",
    "    \n",
    "    # Load data.\n",
    "    molecule.load()\n",
    "\n",
    "    # Print out some results of calculation.\n",
    "    print('\\nAt bond length of {} angstrom, molecular hydrogen has:'.format(\n",
    "        bond_length))\n",
    "    print('Hartree-Fock energy of {} Hartree.'.format(molecule.hf_energy))\n",
    "    print('MP2 energy of {} Hartree.'.format(molecule.mp2_energy))\n",
    "    print('FCI energy of {} Hartree.'.format(molecule.fci_energy))\n",
    "    print('Nuclear repulsion energy between protons is {} Hartree.'.format(\n",
    "        molecule.nuclear_repulsion))\n",
    "    for orbital in range(molecule.n_orbitals):\n",
    "        print('Spatial orbital {} has energy of {} Hartree.'.format(\n",
    "            orbital, molecule.orbital_energies[orbital]))\n",
    "    hf_energies += [molecule.hf_energy]\n",
    "    fci_energies += [molecule.fci_energy]\n",
    "\n",
    "# Plot.\n",
    "import matplotlib.pyplot as plt\n",
    "%matplotlib inline\n",
    "\n",
    "plt.figure(0)\n",
    "plt.plot(bond_lengths, fci_energies, 'x-')\n",
    "plt.plot(bond_lengths, hf_energies, 'o-')\n",
    "plt.ylabel('Energy in Hartree')\n",
    "plt.xlabel('Bond length in angstrom')\n",
    "plt.show()"
   ]
  },
  {
   "cell_type": "code",
   "execution_count": null,
   "metadata": {},
   "outputs": [],
   "source": [
    "from openfermion.hamiltonians import MolecularData\n",
    "from openfermion.transforms import get_fermion_operator, get_sparse_operator, jordan_wigner\n",
    "from openfermion.utils import get_ground_state\n",
    "import numpy\n",
    "import scipy\n",
    "import scipy.linalg\n",
    "\n",
    "# Load saved file for LiH.\n",
    "diatomic_bond_length = 1.45\n",
    "geometry = [('Li', (0., 0., 0.)), ('H', (0., 0., diatomic_bond_length))]\n",
    "basis = 'sto-3g'\n",
    "multiplicity = 1\n",
    "\n",
    "# Set Hamiltonian parameters.\n",
    "active_space_start = 1\n",
    "active_space_stop = 3\n",
    "\n",
    "# Generate and populate instance of MolecularData.\n",
    "molecule = MolecularData(geometry, basis, multiplicity, description=\"1.45\")\n",
    "molecule.load()\n",
    "\n",
    "# Get the Hamiltonian in an active space.\n",
    "molecular_hamiltonian = molecule.get_molecular_hamiltonian(\n",
    "    occupied_indices=range(active_space_start),\n",
    "    active_indices=range(active_space_start, active_space_stop))\n",
    "\n",
    "# Map operator to fermions and qubits.\n",
    "fermion_hamiltonian = get_fermion_operator(molecular_hamiltonian)\n",
    "qubit_hamiltonian = jordan_wigner(fermion_hamiltonian)\n",
    "qubit_hamiltonian.compress()\n",
    "print('The Jordan-Wigner Hamiltonian in canonical basis follows:\\n{}'.format(qubit_hamiltonian))\n",
    "\n",
    "# Get sparse operator and ground state energy.\n",
    "sparse_hamiltonian = get_sparse_operator(qubit_hamiltonian)\n",
    "energy, state = get_ground_state(sparse_hamiltonian)\n",
    "print('Ground state energy before rotation is {} Hartree.\\n'.format(energy))\n",
    "\n",
    "# Randomly rotate.\n",
    "n_orbitals = molecular_hamiltonian.n_qubits // 2\n",
    "n_variables = int(n_orbitals * (n_orbitals - 1) / 2)\n",
    "numpy.random.seed(1)\n",
    "random_angles = numpy.pi * (1. - 2. * numpy.random.rand(n_variables))\n",
    "kappa = numpy.zeros((n_orbitals, n_orbitals))\n",
    "index = 0\n",
    "for p in range(n_orbitals):\n",
    "    for q in range(p + 1, n_orbitals):\n",
    "        kappa[p, q] = random_angles[index]\n",
    "        kappa[q, p] = -numpy.conjugate(random_angles[index])\n",
    "        index += 1\n",
    "\n",
    "    # Build the unitary rotation matrix.\n",
    "    difference_matrix = kappa + kappa.transpose()\n",
    "    rotation_matrix = scipy.linalg.expm(kappa)\n",
    "\n",
    "    # Apply the unitary.\n",
    "    molecular_hamiltonian.rotate_basis(rotation_matrix)\n",
    "\n",
    "# Get qubit Hamiltonian in rotated basis.\n",
    "qubit_hamiltonian = jordan_wigner(molecular_hamiltonian)\n",
    "qubit_hamiltonian.compress()\n",
    "print('The Jordan-Wigner Hamiltonian in rotated basis follows:\\n{}'.format(qubit_hamiltonian))\n",
    "\n",
    "# Get sparse Hamiltonian and energy in rotated basis.\n",
    "sparse_hamiltonian = get_sparse_operator(qubit_hamiltonian)\n",
    "energy, state = get_ground_state(sparse_hamiltonian)\n",
    "print('Ground state energy after rotation is {} Hartree.'.format(energy))"
   ]
  },
  {
   "cell_type": "markdown",
   "metadata": {},
   "source": [
    "# Checking conversion functions of qBraid"
   ]
  },
  {
   "cell_type": "code",
   "execution_count": null,
   "metadata": {},
   "outputs": [],
   "source": [
    "from qBraid.conversions.qub_op_conversion import convert\n",
    "\n",
    "qiskit_WPO = convert(qubit_hamiltonian)\n",
    "print(qiskit_WPO.print_details())"
   ]
  },
  {
   "cell_type": "code",
   "execution_count": null,
   "metadata": {},
   "outputs": [],
   "source": [
    "of_qo = convert(qub_op,'OPENFERMION')\n",
    "print(of_qo)"
   ]
  },
  {
   "cell_type": "code",
   "execution_count": null,
   "metadata": {},
   "outputs": [],
   "source": []
  }
 ],
 "metadata": {
  "kernelspec": {
   "display_name": "Python 3",
   "language": "python",
   "name": "python3"
  },
  "language_info": {
   "codemirror_mode": {
    "name": "ipython",
    "version": 3
   },
   "file_extension": ".py",
   "mimetype": "text/x-python",
   "name": "python",
   "nbconvert_exporter": "python",
   "pygments_lexer": "ipython3",
   "version": "3.6.7"
  },
  "widgets": {
   "application/vnd.jupyter.widget-state+json": {
    "state": {},
    "version_major": 2,
    "version_minor": 0
   }
  }
 },
 "nbformat": 4,
 "nbformat_minor": 4
}
