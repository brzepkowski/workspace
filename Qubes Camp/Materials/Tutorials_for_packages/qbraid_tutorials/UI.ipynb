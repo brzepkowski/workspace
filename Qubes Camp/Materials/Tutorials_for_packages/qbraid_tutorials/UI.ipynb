{
 "cells": [
  {
   "cell_type": "markdown",
   "metadata": {
    "toc-hr-collapsed": true
   },
   "source": [
    "<h1 style=\"color:MediumSeaGreen;\">Understanding User Interface (UI)</h1>\n",
    "\n",
    "qBraid is running a modified version of an opensource platform known as jupyterlab, which is maintained by the jupyter organization. This is an interactive development enviroment where you can insert text, write and run code, and then share your work with other people. We have made available the google-drive functionality to help people using qbraid share their work. In order for you get the most out of this qBraid, it would help to know little more about this platform. Let's jump right to it. \n",
    "\n",
    "This tutorial has two main sections:\n",
    "1. [Layout](#Layout): This is where we tell you about the different sections in the user interface, e.g menu bar, side bar, main work area, main work area toolbar, etc. This will let us understand and develop intuition for finding the functionality we need to accomplish a given task.\n",
    "2. [Tasks](#Tasks): In this section we will walk you through all the vital actions you will need to perform while learning quantum computing. These include, but not limited to, \n",
    "    - navigating the file structure\n",
    "    - creating a new notebook in a new project folder\n",
    "    - adding a new code cell\n",
    "    - converting a code cell to markdown cell where you can add infromation in form of text\n",
    "    - copying, cutting and pasting cells\n",
    "    - writing python code and running it\n",
    "    - saving your work"
   ]
  },
  {
   "cell_type": "markdown",
   "metadata": {
    "toc-hr-collapsed": false
   },
   "source": [
    "<h1 style=\"color:MediumSeaGreen;\">Layout</h1>\n",
    "\n",
    "In this jupyterlab environment within your web browser, you can edit and manage jupyter notebooks. The **Main Work Area** is the section of the page where you can edit and run code in any notebook which is currently open. You can switch between open notebooks in the top of the Main Work Area, using the **Notebook tabs**. In the **Sidebar**, you will find an extensive set tools for managing your notebooks and projects. Above both the Main Work Area and Sidebar is the **Menu bar**, which contains various commands and options that you will find useful.\n",
    "\n",
    "<br>\n",
    "<img src=\"images/UI_layout.gif\"  height=\"700\" width=\"800\" />\n",
    "<br>\n",
    "\n",
    "Much of this layout is highly configurable; for example, you can change the theme under 'Settings' in the menu bar. To change the layout to the 'Dark' theme, just go to the Menu bar and select:\n",
    "\n",
    "<p style=\"color:red;\">Settings &rarr; Jupyterlab Themes &rarr; Jupyterlab Dark</p>"
   ]
  },
  {
   "cell_type": "markdown",
   "metadata": {
    "toc-hr-collapsed": true
   },
   "source": [
    "<h2 style=\"color:MediumSeaGreen;\">Main work area</h2>\n",
    "\n",
    "The main area is where all the action happens. It contains all of your opened notebooks and documents (e.g images, gifs). You can also configure the layout of this area by clicking and dragging the tabs around.\n",
    "\n",
    "<img src=\"images/changing_layout.gif\"  height=\"700\" width=\"700\" />\n"
   ]
  },
  {
   "cell_type": "markdown",
   "metadata": {},
   "source": [
    "<h3 style=\"color:MediumSeaGreen;\">Main Area Toolbar</h3>\n",
    "\n",
    "The main area toolbar contains common commands for the current notebook and cell (more on that later).\n",
    "\n",
    "<img src=\"images/main_area_toolbar.png\"  height=\"700\" width=\"500\" />\n",
    "\n",
    "The simplest commands are saving your notebook and creating/cutting/copying/pasting cells, and we'll discuss how to use the other functions soon. You can hover over any icon and its function will pop-up. \n"
   ]
  },
  {
   "cell_type": "markdown",
   "metadata": {},
   "source": [
    "<h3 style=\"color:MediumSeaGreen;\" id='Cells'>Cells</h3>\n",
    "The basic elements of jupyter notebooks are Cells. Each command in the Main Area Toolbar will affect the currently highlighted cell; by default, this is the most recently edited cell, but to highlight a particular cell you just need to click anywhere on it.\n",
    "\n",
    "<h4 style=\"color:MediumSeaGreen;\">Types of Cells</h4>\n",
    "There are three types of cells present in the notebooks:\n",
    "\n",
    "1. Code Cell: When you write python code for your project/software, this is type of cell you use. By default, new cells created using the `+` icon in the Main Area Toolbar will be *code cells*. New cells are created below the currently highlighted cell. To execute the code written in a code cell, you can either click on the `▶` button in the Main Area Toolbar, or simply press `Ctl+Enter` while it is highlighted. You can also use `Shift+Enter`, which will run the currently highlighted cell, and then highlight the next cell. If your code has an output command such as `print` or `plot`, this will display underneath the code cell. "
   ]
  },
  {
   "cell_type": "code",
   "execution_count": 2,
   "metadata": {},
   "outputs": [],
   "source": [
    "# Any line that begins with the # symbol is a comment, and is not executed in the python cell. They are useful for making your code readable.\n",
    "\n",
    "# Initialize two numbers a and b\n",
    "a = 2\n",
    "b = 3\n",
    "\n",
    "# Construct the sum of a and b\n",
    "c = a+b\n",
    "\n",
    "# Print the sum\n",
    "print(c)"
   ]
  },
  {
   "cell_type": "markdown",
   "metadata": {},
   "source": [
    "2. Raw Cell: The raw cell is the cell that contains just text output. You cannot change the font size or color. The Raw cell can be added using the `+` icon, and then selecting `Raw` from the drop-down menu in the Main Area Toolbar. We will rarely use the raw cell."
   ]
  },
  {
   "cell_type": "raw",
   "metadata": {},
   "source": [
    "This is a raw cell. "
   ]
  },
  {
   "cell_type": "markdown",
   "metadata": {},
   "source": [
    "3. Markdown cell: this is generally used for text and media information. It is very useful as it offers support to change font-size, color, etc; as well as images and gifs. To add a markdown cell, you can click the `+` icon, and then select 'Markdown' from the drop-down menu. <br> In Markdown cells, the information is entered in the form of text, but certain commands (markup tags) can also 'beautify' the text. You can press the play button in the Main Area Toolbar or press `Shift+Enter` to render the final output. You can double click on the markdown cell to edit. Feel free to double click on any of the cells in this notebook to see the markdown text. Once you're done editing, you can just press the play button or `Shift+Enter` again at any time to re-render the final output.\n",
    "<br><br>\n",
    "\n",
    "<img src=\"images/UI_cells.gif\"  height=\"700\" width=\"800\" />"
   ]
  },
  {
   "cell_type": "markdown",
   "metadata": {},
   "source": [
    "<h2 style=\"color:MediumSeaGreen;\">Sidebar</h2>\n",
    "\n",
    "The sidebar has lot of features which facilitate the development of a large project. The leftmost area of the sidebar is a column of icons which represent categories of information and commands. To the right of these icons is the Sidebar Window, which will contain the information and commands depending on the selected category. Clicking on the highlighted icon again will hide (if visible) / show (if hidden) the sidebar window. Just like the main area toolbar, hovering over a given icon brings up a pop-up text which tells you about the functionality. \n",
    "\n",
    "<img src=\"images/UI_sidebar.gif\"  height=\"700\" width=\"800\" />\n",
    "\n",
    "For now, let's explore the sidebar windows associated with the 'File Browser' icon (the topmost) and the 'Table of Contents' icon (the bottommost).\n",
    "1. File Browser: Selecting this icon will display folders to you. You can organize your work by projects here, e.g. you can create a new folder for each new project. By default, when you login for the first time, you would see the `Welcome.ipynb` notebook, and the sidebar window will show that you are in the `qBraid Resources` folder. This folder contains all the resources that we have created for you. This file, `UI.ipynb`, is located in the `Tutorials` -> `qbraid_tutorials` subfolder. All the modules for the Qubes course are in the `Qube` subfolder. <br> We have made the entire folder read-only, so feel free to play with the tutorials to your heart's content without worrying about messing things up (you won't be able to save edits on these files). You can go to the top folder to create new project folders as well as new notebooks.\n",
    "2. Table of Contents: This is a very useful tool for navigation while reading notebooks. It gives you a very good bird's eye view of the notebook and lets you jump to the sections from the contents. Further, as shown in the above gif, you can toggle different options to jump to either code or text in the notebook."
   ]
  },
  {
   "cell_type": "markdown",
   "metadata": {},
   "source": [
    "<h1 style=\"color:MediumSeaGreen;\">Tasks</h1>\n",
    "\n",
    "While learning quantum computing using this platform, you will need to perform some basic tasks quite often:\n"
   ]
  },
  {
   "cell_type": "markdown",
   "metadata": {},
   "source": [
    "<h2 style=\"color:MediumSeaGreen;\">Creating a notebook</h2>"
   ]
  },
  {
   "cell_type": "markdown",
   "metadata": {},
   "source": [
    "This is what you will do whenever you want to, for example, write and run a quantum program. When you want to create a new notebook, you'll first want to navigate to the folder where you want to create it. To enter a subfolder of the current directory, double click on it. To return to a folder when you're inside one of its subfolders, click on its name in between the blackslashes `/` in the current directory address, located above the `Name` header of the sidebar window. The folder icon is the furthest you can 'back out' and represents the home directory for your account on qBraid. <font color=\"red\"> Since the the `qBraid Resources` folder is Read-only, you will need to make sure your current directory is not a subfolder of it before you can create your own notebook. </font> Make sure to keep your directories organized! \n",
    "<br><br>\n",
    "When you're at the correct directory, click on the `+` icon on top of the 'File Browser' in the sidebar window. This will bring up the Launcher, which provides you with options to create various types of files. Click on 'Python 3' under the notebook heading to create a new (Python 3 language based) jupyter notebook. The default name for all new notebooks is 'Untitled.ipynb'. You can rename it by right clicking on top of the tab or on the notebook in the 'File Browser'. Either of those will bring up a context menu in which one of the options will be 'Rename'.\n",
    "<br><br>\n",
    "<img src=\"images/create_notebook.gif\"  height=\"700\" width=\"800\" />\n",
    " "
   ]
  },
  {
   "cell_type": "markdown",
   "metadata": {},
   "source": [
    "<h2 style=\"color:MediumSeaGreen;\">Making a copy of a notebook</h2>\n",
    "As we have mentioned earlier, the notebooks that we are providing as part of the Qube courses are available in read-only mode. This means that you can change the code and text, and play with everything in the notebook, but you cannot save your changes. This means that all of your changes will be gone once you logout. If you would like to make changes to the tutorial notebook and would like to save them for later, we would recommend making a copy of the notebook. <be> To make a copy, just go to the file browser, and right click on the notebook that you want to copy, click on 'copy' in the context menu. Then navigate to your own project folder and right-click in the empty area and select paste from the context menu."
   ]
  },
  {
   "cell_type": "markdown",
   "metadata": {},
   "source": [
    "<h2 style=\"color:MediumSeaGreen;\">Writing and running code</h2>\n",
    "In order to write and run Python code (which you will need to do in order to write and run your quantum algorithms), you must add code cells to a notebook using the `+` icon. You can write your code in the cell by first double clicking on it, and you can execute the code by pressing the play button  or by typing 'Shift+Enter'. The procedure is illustrated in the <a href=\"#Cells\">Cells.</a> subsection in the Layout section.\n"
   ]
  },
  {
   "cell_type": "markdown",
   "metadata": {},
   "source": [
    "<h2 style=\"color:MediumSeaGreen;\">Copy, cut, and paste cells</h2>\n",
    "Copying, cutting and pasting cells is very intuitive as well. \n",
    "\n",
    "1. Copy: To copy a cell, select the cell by single clicking on it. For a code cell, click on the outside area to the left of the cell. Make sure there is no blinking cursor in the cell. When a cell is selected, a blue bar appears on the side of cell indicating that the cell has been selected. Click the copy icon in the 'Main Area toolbar' to copy the cell. Alternatively, you can just type 'C' to copy the cell.\n",
    "2. Cut: Select the cell that you want to cut and click on the cut icon in the 'Main Area Toolbar'. You can also press 'X' to cut the cell.\n",
    "3. Paste: Once you have either copy/cut a given cell, select the cell below which you want to paste the cell and click on the paste button in the 'Main Area Toolbar'. This will paste the cell below the selected cell. Pressing 'V' also pastes the cell.\n",
    "\n",
    "<font color=\"red\">Note:</font> The above procedure to copy, cut and paste is valid for copying, cutting and pasting entire cells. To copy, cut and paste the text in the cells, use Ctrl+C, Ctrl+X and Ctrl+V respectively, for Windows/Linux.  For mac, use Cmd+C, Cmd+X, Cmd+V.\n"
   ]
  },
  {
   "cell_type": "markdown",
   "metadata": {},
   "source": [
    "<h2 style=\"color:MediumSeaGreen;\">Deleting a cell</h2>\n",
    "Select the cell that needs to be deleted. Then right click on the selected cell and select delete from the context menu.\n"
   ]
  },
  {
   "cell_type": "markdown",
   "metadata": {},
   "source": [
    "<h1 style=\"color:MediumSeaGreen;\">Exploring notebooks</h1>\n",
    "One of the best ways to learn is by doing. We think we have given you enough information to get started. Now, you should start exploring the interface on your own - just play with different options and see what happens. It is very unlikely that you will break anything, so go ahead and explore :)"
   ]
  }
 ],
 "metadata": {
  "kernelspec": {
   "display_name": "Python 3",
   "language": "python",
   "name": "python3"
  },
  "language_info": {
   "codemirror_mode": {
    "name": "ipython",
    "version": 3
   },
   "file_extension": ".py",
   "mimetype": "text/x-python",
   "name": "python",
   "nbconvert_exporter": "python",
   "pygments_lexer": "ipython3",
   "version": "3.6.7"
  },
  "toc-autonumbering": true,
  "toc-showcode": false,
  "toc-showmarkdowntxt": false,
  "toc-showtags": false
 },
 "nbformat": 4,
 "nbformat_minor": 4
}
