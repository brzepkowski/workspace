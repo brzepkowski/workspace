{
 "cells": [
  {
   "cell_type": "markdown",
   "metadata": {},
   "source": [
    "<img src=\"../../images/qiskit_header.png\" alt=\"Note: In order for images to show up in this jupyter notebook you need to select File => Trusted Notebook\" align=\"middle\">"
   ]
  },
  {
   "cell_type": "markdown",
   "metadata": {},
   "source": [
    "# Plotting Data in Qiskit\n",
    "\n",
    "To use this notebook you need to ensure that you have [maptlotlib](https://matplotlib.org/) installed on your system"
   ]
  },
  {
   "cell_type": "markdown",
   "metadata": {},
   "source": [
    "## Table of contents\n",
    "\n",
    "1) [Plot Histogram](#histogram)\n",
    "\n",
    "\n",
    "2) [Interactive Histogram](#interhist)\n",
    "\n",
    "\n",
    "3) [Plot States](#state)\n",
    "\n",
    "\n",
    "4) [Interactive State Plots](#interstate)\n",
    "\n",
    "\n",
    "5) [Bloch Vectors](#bloch)\n"
   ]
  },
  {
   "cell_type": "code",
   "execution_count": null,
   "metadata": {},
   "outputs": [],
   "source": [
    "from qiskit import *\n",
    "from qiskit.visualization import plot_histogram\n",
    "from qiskit.tools.monitor import job_monitor"
   ]
  },
  {
   "cell_type": "code",
   "execution_count": null,
   "metadata": {},
   "outputs": [],
   "source": [
    "IBMQ.load_account()\n",
    "provider = IBMQ.get_provider(group='open')"
   ]
  },
  {
   "cell_type": "markdown",
   "metadata": {},
   "source": [
    "## Plot histogram <a name='histogram'></a>\n",
    "\n",
    "To visualize the data from a quantum circuit run on a real device or `qasm_simulator` we have made a simple function \n",
    "\n",
    "`plot_histogram(data)`\n",
    "\n",
    "As an example we make a 2 qubit Bell state"
   ]
  },
  {
   "cell_type": "code",
   "execution_count": null,
   "metadata": {},
   "outputs": [],
   "source": [
    "# quantum circuit to make a Bell state \n",
    "bell = QuantumCircuit(2, 2)\n",
    "bell.h(0)\n",
    "bell.cx(0, 1)\n",
    "\n",
    "meas = QuantumCircuit(2, 2)\n",
    "meas.measure([0,1], [0,1])\n",
    "\n",
    "# execute the quantum circuit \n",
    "backend = BasicAer.get_backend('qasm_simulator') # the device to run on\n",
    "circ = bell+meas\n",
    "result = execute(circ, backend, shots=1000).result()\n",
    "counts  = result.get_counts(circ)\n",
    "print(counts)"
   ]
  },
  {
   "cell_type": "code",
   "execution_count": null,
   "metadata": {},
   "outputs": [],
   "source": [
    "plot_histogram(counts)"
   ]
  },
  {
   "cell_type": "markdown",
   "metadata": {},
   "source": [
    "### Options when plotting a histogram\n",
    "\n",
    "The `plot_histogram()` has a few options to adjust the output graph. The first option is the `legend` kwarg. This is used to provide a label for the executions. It takes a list of strings use to label each execution's results. This is mostly useful when plotting multiple execution results in the same histogram. The `sort` kwarg is used to adjust the order the bars in the histogram are rendered. It can be set to either ascending order with `asc` or descending order with `dsc`. The `number_to_keep` kwarg takes an integer for the number of terms to show, the rest are grouped together in a single bar called rest. You can adjust the color of the bars with the `color` kwarg which either takes a string or a list of strings for the colors to use for the bars for each execution. You can adjust whether labels are printed above the bars or not with the `bar_labels` kwarg. The last option available is the `figsize` kwarg which takes a tuple of the size in inches to make the output figure."
   ]
  },
  {
   "cell_type": "code",
   "execution_count": null,
   "metadata": {},
   "outputs": [],
   "source": [
    "# Execute 2 qubit Bell state again\n",
    "second_result = execute(circ, backend, shots=1000).result()\n",
    "second_counts  = second_result.get_counts(circ)\n",
    "# Plot results with legend\n",
    "legend = ['First execution', 'Second execution']\n",
    "plot_histogram([counts, second_counts], legend=legend)"
   ]
  },
  {
   "cell_type": "code",
   "execution_count": null,
   "metadata": {},
   "outputs": [],
   "source": [
    "plot_histogram([counts, second_counts], legend=legend, sort='desc', figsize=(15,12), \n",
    "               color=['orange', 'black'], bar_labels=False)"
   ]
  },
  {
   "cell_type": "markdown",
   "metadata": {},
   "source": [
    "### Sorting counts by distance from target state\n",
    "\n",
    "Suppose you have an algorithm that encodes the solution into a single bit-string, ex. `1011`.  When running on a real quantum device, unavoidable (but sometimes correctable) noise can corrupt the answer.  The effect of the noise if often better seen if we sort the output bit-strings as a function of some 'distance' from the target bit string.  The `plot_histogram` function supports the `hamming` distance metric as demonstrated below:"
   ]
  },
  {
   "cell_type": "code",
   "execution_count": null,
   "metadata": {},
   "outputs": [],
   "source": [
    "qc = QuantumCircuit(5, 4)\n",
    "qc.x(4)\n",
    "for idx in range(5):\n",
    "    qc.h(idx)\n",
    "qc.barrier()\n",
    "qc.cx(0, 4)\n",
    "qc.cx(1, 4)\n",
    "qc.cx(3, 4)\n",
    "qc.barrier()\n",
    "\n",
    "for idx in range(4):\n",
    "    qc.h(idx)\n",
    "qc.measure([0,1,2,3], [0,1,2,3])\n",
    "qc.draw()"
   ]
  },
  {
   "cell_type": "markdown",
   "metadata": {},
   "source": [
    "#### Original sorting"
   ]
  },
  {
   "cell_type": "code",
   "execution_count": null,
   "metadata": {},
   "outputs": [],
   "source": [
    "backend = provider.get_backend('ibmqx4')\n",
    "exp_job = execute(qc, backend)\n",
    "job_monitor(exp_job)\n",
    "exp_counts = exp_job.result().get_counts()\n",
    "plot_histogram(exp_counts)"
   ]
  },
  {
   "cell_type": "markdown",
   "metadata": {},
   "source": [
    "#### Sorting by Hamming distance\n",
    "\n",
    "The Hamming distance is a measure of how many bit flips it takes to get from a bit-string to the target bit-string.  As a general rule, it is harder for noise to flip several bits in the string than it is to flip a single-bit.  We can see this by sorting by this Hamming distance."
   ]
  },
  {
   "cell_type": "code",
   "execution_count": null,
   "metadata": {},
   "outputs": [],
   "source": [
    "plot_histogram(exp_counts, sort='hamming', target_string='1011')"
   ]
  },
  {
   "cell_type": "markdown",
   "metadata": {},
   "source": [
    "### Using the output from plot_histogram()\n",
    "\n",
    "When using the plot_histogram() function it returns a `matplotlib.Figure` for the rendered visualization. Jupyter notebooks understand this return type and render it for us in this tutorial, but when running outside of Jupyter you do not have this feature automatically. However, the `matplotlib.Figure` class natively has methods to both display and save the visualization. You can call `.show()` on the returned object from `plot_histogram()` to open the image in a new window (assuming your configured matplotlib backend is interactive). Or alternatively you can call `.savefig('out.png')` to save the figure to `out.png`. The `savefig()` method takes a path so you can adjust the location and filename where you're saving the output."
   ]
  },
  {
   "cell_type": "markdown",
   "metadata": {},
   "source": [
    "## Interactive histogram plots for Jupyter Notebooks. <a name='interhist'></a>\n",
    "\n",
    "There is an alternate function for plotting histograms when running in a Jupyter notebook. This function `iplot_histogram()` is made using an externally hosted JS library for use in Jupyter notebooks. The interactive plot can only be used if you're running inside a Jupyter notebook and only if you have external connectivity to the host with the JS library. If you use `iplot_histogram()` outside of a Jupyter notebook it will fail."
   ]
  },
  {
   "cell_type": "code",
   "execution_count": null,
   "metadata": {},
   "outputs": [],
   "source": [
    "from qiskit.visualization import iplot_histogram"
   ]
  },
  {
   "cell_type": "code",
   "execution_count": null,
   "metadata": {},
   "outputs": [],
   "source": [
    "# Run in interactive mode\n",
    "iplot_histogram(counts)"
   ]
  },
  {
   "cell_type": "markdown",
   "metadata": {},
   "source": [
    "## Plot State <a name='state'></a>"
   ]
  },
  {
   "cell_type": "markdown",
   "metadata": {},
   "source": [
    "In many situations you want to see the state of a quantum computer. This could be for debugging. Here we assume you have this state (either from simulation or state tomography) and the goal is to visualize the quantum state. This requires exponential resources, so we advise to only view the state of small quantum systems. There are several functions for generating different types of visualization of a quantum state\n",
    "\n",
    "```\n",
    "plot_state_city(quantum_state)\n",
    "plot_state_paulivec(quantum_state)\n",
    "plot_state_qsphere(quantum_state)\n",
    "plot_state_hinton(quantum_state)\n",
    "plot_bloch_multivector(quantum_state)\n",
    "```\n",
    "\n",
    "A quantum state is either a state matrix $\\rho$ (Hermitian matrix) or statevector $|\\psi\\rangle$ (complex vector). The state matrix is related to the statevector by \n",
    "\n",
    "$$\\rho = |\\psi\\rangle\\langle \\psi|,$$\n",
    "\n",
    "and is more general as it can represent mixed states (positive sum of statevectors) \n",
    "\n",
    "$$\\rho = \\sum_k p_k |\\psi_k\\rangle\\langle \\psi_k |.$$\n",
    "\n",
    "The visualizations generated by the functions are:\n",
    "- `'plot_state_city'`: The standard view for quantum states where the real and imaginary (imag) parts of the state matrix are plotted like a city.\n",
    "- `'plot_state_qsphere'`: The Qiskit unique view of a quantum state where the amplitude and phase of the state vector are plotted in a spherical ball. The amplitude is the thickness of the arrow and the phase is the color. For mixed states it will show different `'qsphere'` for each component.\n",
    "- `'plot_state_paulivec'`: The representation of the state matrix using Pauli operators as the basis $\\rho=\\sum_{q=0}^{d^2-1}p_jP_j/d$.\n",
    "- `'plot_state_hinton'`: Same as `'city'` but where the size of the element represents the value of the matrix element.\n",
    "- `'plot_bloch_multivector'`: The projection of the quantum state onto the single qubit space and plotting on a bloch sphere."
   ]
  },
  {
   "cell_type": "code",
   "execution_count": null,
   "metadata": {},
   "outputs": [],
   "source": [
    "from qiskit.visualization import plot_state_city, plot_bloch_multivector\n",
    "from qiskit.visualization import plot_state_paulivec, plot_state_hinton\n",
    "from qiskit.visualization import plot_state_qsphere"
   ]
  },
  {
   "cell_type": "code",
   "execution_count": null,
   "metadata": {},
   "outputs": [],
   "source": [
    "# execute the quantum circuit \n",
    "backend = BasicAer.get_backend('statevector_simulator') # the device to run on\n",
    "result = execute(bell, backend).result()\n",
    "psi  = result.get_statevector(bell)"
   ]
  },
  {
   "cell_type": "code",
   "execution_count": null,
   "metadata": {},
   "outputs": [],
   "source": [
    "plot_state_city(psi)"
   ]
  },
  {
   "cell_type": "code",
   "execution_count": null,
   "metadata": {},
   "outputs": [],
   "source": [
    "plot_state_hinton(psi)"
   ]
  },
  {
   "cell_type": "code",
   "execution_count": null,
   "metadata": {},
   "outputs": [],
   "source": [
    "plot_state_qsphere(psi)"
   ]
  },
  {
   "cell_type": "code",
   "execution_count": null,
   "metadata": {},
   "outputs": [],
   "source": [
    "plot_state_paulivec(psi)"
   ]
  },
  {
   "cell_type": "code",
   "execution_count": null,
   "metadata": {},
   "outputs": [],
   "source": [
    "plot_bloch_multivector(psi)"
   ]
  },
  {
   "cell_type": "markdown",
   "metadata": {},
   "source": [
    "Here we see that there is no information about the quantum state in the single qubit space as all vectors are zero. "
   ]
  },
  {
   "cell_type": "markdown",
   "metadata": {},
   "source": [
    "### Options when using state plotting functions\n",
    "\n",
    "The various functions for plotting quantum states provide a number of options to adjust how the plots are rendered. Which options are available depends on the function being used."
   ]
  },
  {
   "cell_type": "markdown",
   "metadata": {},
   "source": [
    "**plot_state_city()** options\n",
    "\n",
    "- **title** (str): a string that represents the plot title\n",
    "- **figsize** (tuple): figure size in inches (width, height).\n",
    "- **color** (list): a list of len=2 giving colors for real and imaginary components of matrix elements."
   ]
  },
  {
   "cell_type": "code",
   "execution_count": null,
   "metadata": {},
   "outputs": [],
   "source": [
    "plot_state_city(psi, title=\"My City\", color=['black', 'orange'])"
   ]
  },
  {
   "cell_type": "markdown",
   "metadata": {},
   "source": [
    "**plot_state_hinton()** options\n",
    "\n",
    "- **title** (str): a string that represents the plot title\n",
    "- **figsize** (tuple): figure size in inches (width, height)."
   ]
  },
  {
   "cell_type": "code",
   "execution_count": null,
   "metadata": {},
   "outputs": [],
   "source": [
    "plot_state_hinton(psi, title=\"My Hinton\")"
   ]
  },
  {
   "cell_type": "markdown",
   "metadata": {},
   "source": [
    "**plot_state_paulivec()** options\n",
    "\n",
    "- **title** (str): a string that represents the plot title\n",
    "- **figsize** (tuple): figure size in inches (width, height).\n",
    "- **color** (list or str): color of the expectation value bars."
   ]
  },
  {
   "cell_type": "code",
   "execution_count": null,
   "metadata": {},
   "outputs": [],
   "source": [
    "plot_state_paulivec(psi, title=\"My Paulivec\", color=['purple', 'orange', 'green'])"
   ]
  },
  {
   "cell_type": "markdown",
   "metadata": {},
   "source": [
    "**plot_state_qsphere()** options\n",
    "\n",
    "- **figsize** (tuple): figure size in inches (width, height)."
   ]
  },
  {
   "cell_type": "markdown",
   "metadata": {},
   "source": [
    "**plot_bloch_multivector()** options\n",
    "\n",
    "- **title** (str): a string that represents the plot title\n",
    "- **figsize** (tuple): figure size in inches (width, height)."
   ]
  },
  {
   "cell_type": "code",
   "execution_count": null,
   "metadata": {},
   "outputs": [],
   "source": [
    "plot_bloch_multivector(psi, title=\"My Bloch Spheres\")"
   ]
  },
  {
   "cell_type": "markdown",
   "metadata": {},
   "source": [
    "### Using the output from state plotting functions\n",
    "\n",
    "When using any of the state plotting functions it returns a `matplotlib.Figure` for the rendered visualization. Jupyter notebooks understand this return type and render it for us in this tutorial, but when running outside of Jupyter you do not have this feature automatically. However, the `matplotlib.Figure` class natively has methods to both display and save the visualization. You can call `.show()` on the returned object to open the image in a new window (assuming your configured matplotlib backend is interactive). Or alternatively you can call `.savefig('out.png')` to save the figure to `out.png` in the current working directory. The `savefig()` method takes a path so you can adjust the location and filename where you're saving the output."
   ]
  },
  {
   "cell_type": "markdown",
   "metadata": {},
   "source": [
    "## Interactive State Plots for Jupyter Notebooks <a name='interstate'></a>\n",
    "\n",
    "Just like with `plot_histogram()` there is a second set of functions for each of the functions to plot the quantum state. These functions have the same name but with a prepended `i`:\n",
    "\n",
    "```\n",
    "iplot_state_city(quantum_state)\n",
    "iplot_state_paulivec(quantum_state)\n",
    "iplot_state_qsphere(quantum_state)\n",
    "iplot_state_hinton(quantum_state)\n",
    "iplot_bloch_multivector(quantum_state)\n",
    "```\n",
    "\n",
    "These functions are made using an externally hosted JS library for use in Jupyter notebooks. The interactive plot can only be used if you're running inside a Jupyter notebook and only if you have external connectivity to the host with the JS library. If you use these functions outside of a Jupyter notebook it will fail."
   ]
  },
  {
   "cell_type": "code",
   "execution_count": null,
   "metadata": {},
   "outputs": [],
   "source": [
    "from qiskit.tools.visualization import iplot_state_paulivec"
   ]
  },
  {
   "cell_type": "code",
   "execution_count": null,
   "metadata": {},
   "outputs": [],
   "source": [
    "# Generate an interactive pauli vector plot\n",
    "iplot_state_paulivec(psi)"
   ]
  },
  {
   "cell_type": "markdown",
   "metadata": {},
   "source": [
    "## Plot Bloch Vector <a name='bloch'></a>\n",
    "\n",
    "A standard way of plotting a quantum system is using the Bloch vector. This only works for a single qubit and takes as input the Bloch vector. \n",
    "\n",
    "The Bloch vector is defined as $[x = \\mathrm{Tr}[X \\rho], y = \\mathrm{Tr}[Y \\rho], z = \\mathrm{Tr}[Z \\rho]]$, where $X$, $Y$, and $Z$ are the Pauli operators for a single qubit and $\\rho$ is the state matrix.\n"
   ]
  },
  {
   "cell_type": "code",
   "execution_count": null,
   "metadata": {},
   "outputs": [],
   "source": [
    "from qiskit.visualization import plot_bloch_vector"
   ]
  },
  {
   "cell_type": "code",
   "execution_count": null,
   "metadata": {},
   "outputs": [],
   "source": [
    "plot_bloch_vector([0,1,0])"
   ]
  },
  {
   "cell_type": "markdown",
   "metadata": {},
   "source": [
    "### Options for plot_bloch_vector()\n",
    "\n",
    "- **title** (str): a string that represents the plot title\n",
    "- **figsize** (tuple): Figure size in inches (width, height)."
   ]
  },
  {
   "cell_type": "code",
   "execution_count": null,
   "metadata": {},
   "outputs": [],
   "source": [
    "plot_bloch_vector([0,1,0], title='My Bloch Sphere')"
   ]
  },
  {
   "cell_type": "markdown",
   "metadata": {},
   "source": [
    "### Adjusting the output from plot_bloch_vector()\n",
    "\n",
    "When using the `plot_bloch_vector` function it returns a `matplotlib.Figure` for the rendered visualization. Jupyter notebooks understand this return type and render it for us in this tutorial, but when running outside of Jupyter you do not have this feature automatically. However, the `matplotlib.Figure` class natively has methods to both display and save the visualization. You can call `.show()` on the returned object to open the image in a new window (assuming your configured matplotlib backend is interactive). Or alternatively you can call `.savefig('out.png')` to save the figure to `out.png` in the current working directory. The `savefig()` method takes a path so you can adjust the location and filename where you're saving the output."
   ]
  },
  {
   "cell_type": "code",
   "execution_count": null,
   "metadata": {},
   "outputs": [],
   "source": [
    "import qiskit.tools.jupyter\n",
    "%qiskit_version_table\n",
    "%qiskit_copyright"
   ]
  },
  {
   "cell_type": "code",
   "execution_count": null,
   "metadata": {},
   "outputs": [],
   "source": []
  }
 ],
 "metadata": {
  "anaconda-cloud": {},
  "kernelspec": {
   "display_name": "Python 3",
   "language": "python",
   "name": "python3"
  },
  "language_info": {
   "codemirror_mode": {
    "name": "ipython",
    "version": 3
   },
   "file_extension": ".py",
   "mimetype": "text/x-python",
   "name": "python",
   "nbconvert_exporter": "python",
   "pygments_lexer": "ipython3",
   "version": "3.7.3"
  },
  "varInspector": {
   "cols": {
    "lenName": 16,
    "lenType": 16,
    "lenVar": 40
   },
   "kernels_config": {
    "python": {
     "delete_cmd_postfix": "",
     "delete_cmd_prefix": "del ",
     "library": "var_list.py",
     "varRefreshCmd": "print(var_dic_list())"
    },
    "r": {
     "delete_cmd_postfix": ") ",
     "delete_cmd_prefix": "rm(",
     "library": "var_list.r",
     "varRefreshCmd": "cat(var_dic_list()) "
    }
   },
   "types_to_exclude": [
    "module",
    "function",
    "builtin_function_or_method",
    "instance",
    "_Feature"
   ],
   "window_display": false
  }
 },
 "nbformat": 4,
 "nbformat_minor": 1
}
