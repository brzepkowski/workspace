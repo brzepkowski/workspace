{
 "cells": [
  {
   "cell_type": "markdown",
   "metadata": {},
   "source": [
    "<h1 style=\"color:MediumSeaGreen;\">Module 4: Linear Algebra</h1>"
   ]
  },
  {
   "cell_type": "markdown",
   "metadata": {},
   "source": [
    "<font size=3 color=b64c35>**Exercise 1.**</font> The following widget shows a two-dimensional vector which can be adjusted to point in any direction. You can also modify the vector by adjusting the scalar in front of it. \n",
    "1. Modify the angle and scalar to create the vector $\\big[ \\begin{smallmatrix} 3 \\\\4  \\\\\\end{smallmatrix}\\big]$.\n",
    "2. Can any vector be specified in this way?"
   ]
  },
  {
   "cell_type": "code",
   "execution_count": null,
   "metadata": {},
   "outputs": [],
   "source": [
    "%run python_functions/scale_vector.py"
   ]
  },
  {
   "cell_type": "markdown",
   "metadata": {},
   "source": [
    "<font size=3 color=b64c35>**Exercise 2.**</font> Any vector in two dimensions can be written as linear combination of the standard basis vectors. Using the widget below, scale the basis vectors to construct the vector $p$."
   ]
  },
  {
   "cell_type": "code",
   "execution_count": 1,
   "metadata": {},
   "outputs": [
    {
     "data": {
      "application/vnd.jupyter.widget-view+json": {
       "model_id": "8cab730bcc6743f485234566ef32f6b7",
       "version_major": 2,
       "version_minor": 0
      },
      "text/plain": [
       "VBox(children=(IntSlider(value=1, continuous_update=False, description='\\\\(i\\\\)', max=10, min=-10), IntSlider(…"
      ]
     },
     "metadata": {},
     "output_type": "display_data"
    },
    {
     "data": {
      "application/vnd.jupyter.widget-view+json": {
       "model_id": "07691725b2a94740b21110ff0a1766ad",
       "version_major": 2,
       "version_minor": 0
      },
      "text/plain": [
       "Output(layout=Layout(height='600px'))"
      ]
     },
     "metadata": {},
     "output_type": "display_data"
    }
   ],
   "source": [
    "%run python_functions/vector_basis.py"
   ]
  },
  {
   "cell_type": "markdown",
   "metadata": {},
   "source": [
    "<font size=3 color=b64c35>**Exercise 3.**</font> The widget below allows you to specify a basis of your choice:\n",
    "$$\\left\\{\\vec{a}, \\vec{b}\\right\\} = \\left\\{ \\begin{bmatrix}\n",
    "a_1\\\\\n",
    "a_2\\\\\n",
    "\\end{bmatrix} \\,,\\, \\begin{bmatrix}\n",
    "b_1\\\\\n",
    "b_2\\\\\n",
    "\\end{bmatrix} \\right\\} \\,,$$\n",
    "and to subsequently construct vectors as linear combinations of the basis elements, by specifying the coefficients $\\alpha$ and $\\beta$ in the linear combination, i.e. you can construct the vector \n",
    "\n",
    "$$\\vec{v} = \\alpha \\begin{bmatrix}\n",
    "a_1\\\\\n",
    "a_2\\\\\n",
    "\\end{bmatrix} + \\beta \\begin{bmatrix}\n",
    "b_1\\\\\n",
    "b_2\\\\\n",
    "\\end{bmatrix} $$\n",
    "\n",
    "As you play with the widget, you should think about the following:\n",
    "1. Not all choices for the vectors $\\vec{a}$ and $\\vec{b}$ yield a basis. What are the restrictions on $\\vec{a}$ and $\\vec{b}$ such that we can use them to generate any vector $\\vec{v}$?\n",
    "2. Consider the set of all points that can be generated when the coefficient $\\alpha = 0$. What geometric shape does this set describe?"
   ]
  },
  {
   "cell_type": "code",
   "execution_count": null,
   "metadata": {},
   "outputs": [],
   "source": [
    "%run python_functions/vector_basis_extended.py"
   ]
  },
  {
   "cell_type": "markdown",
   "metadata": {},
   "source": [
    "<font size=3 color=b64c35>**Exercise 4.**</font> We saw in a previous exercise that we can specify a vector by two quantities: 1) its angle $\\theta$ with respect to the $x$-axis and 2) its magnitude. Suppose we wanted to fix one of those quantities and describe the set of all possible vectors of magnitude $|v|=1$. How could we describe this set based on a single parameter $\\theta$? \n",
    "1. Write a two-dimensional vector $v$ whose elements depend on the angle $\\theta$. (Hint: you will use the fact that $\\cos^2\\theta +\\sin^2\\theta=1$.)\n",
    "2. With this expression, write down the specific vectors corresponding to the following values of $\\theta$:\n",
    "  - $\\theta=0$\n",
    "  - $\\theta=\\tfrac{\\pi}{2}$\n",
    "  - $\\theta=\\tfrac{\\pi}{4}$\n",
    "  - $\\theta=-\\tfrac{\\pi}{4}$.\n",
    "3. Rewrite these vectors as a linear combination of the standard basis vectors, $\\big[ \\begin{smallmatrix} 1 \\\\0  \\\\\\end{smallmatrix}\\big]$ and $\\big[ \\begin{smallmatrix} 0 \\\\1  \\\\\\end{smallmatrix}\\big]$.\n",
    "4. The set we described in part 1 is an infinite set (i.e. it contains infinitely many elements). If we were to plot all of these vectors on the $xy$-plane, what geometric shape would we see?"
   ]
  },
  {
   "cell_type": "markdown",
   "metadata": {},
   "source": [
    "<font size=3 color=b64c35>**Exercise 5.**</font> Let's explore what makes a vectors long or short. Suppose we wanted to \"build\" a vector from \"building blocks\": suppose we have ten vectors of magnitude 1, that can be arranged in the direction of either the $x$, $y$, or $z$ axis (subject to the constraints that all vectors along one axis must point in the same direction.).\n",
    "1. Using all \"building blocks\", how can we build the longest possible vector (by adding up the building blocks)?\n",
    "2. Using all ten \"building blocks\", how can we build the shortest possible vector ((by adding up the building blocks)?\n",
    "3. How do the answers to questions 1 and 2 change if we allow vectors along the same axis to point in opposite directions?"
   ]
  },
  {
   "cell_type": "code",
   "execution_count": null,
   "metadata": {},
   "outputs": [],
   "source": [
    "%run python_functions/build_vector.py"
   ]
  },
  {
   "cell_type": "markdown",
   "metadata": {},
   "source": [
    "<font size=3 color=b64c35>**Exercise 6.**</font> It turns out that the inner product of two real vectors $v, w$ can also be written in terms of only the magnitude of each vector and the angle between them:\n",
    "$$ v^T \\cdot w = |v| |w| \\cos{\\theta},$$\n",
    "\n",
    "The inner product of two vectors with a fixed length is directly correlated to the cosine of the angle between them. \n",
    "1. In the case that $w=v$, the angle between them is zero. Show that the equation holds in this case.\n",
    "2. For what value of $\\theta$ is the dot product $v\\cdot w$ maximum?\n",
    "3. For what value of $\\theta$ is the dot product $v\\cdot w$ minimum?\n",
    "4. For what value of $\\theta$ is the dot product $v\\cdot w$ zero?"
   ]
  },
  {
   "cell_type": "code",
   "execution_count": null,
   "metadata": {},
   "outputs": [],
   "source": [
    "%run python_functions/dot_product.py"
   ]
  },
  {
   "cell_type": "markdown",
   "metadata": {},
   "source": [
    "<h1 style=\"color:MediumSeaGreen;\">Module 5: Qubits and Quantum Gates</h1>"
   ]
  },
  {
   "cell_type": "markdown",
   "metadata": {},
   "source": [
    "<font size=3 color=b64c35>**Exercise 1.**</font> Given a state:\n",
    "$$\\begin{align}\\left| \\psi \\right\\rangle=\\alpha \\left| 0 \\right\\rangle+\\beta \\left| 1 \\right\\rangle \\end{align} \\label{general_state}$$\n",
    "\n",
    "If $\\alpha = 0.68$, and $\\beta=0.4+b\\cdot i$ for some real number $b$, what is the value of $b$? \n",
    "\n",
    "*Hint:* Recall that a valid state satisfies $|\\alpha|^2 + |\\beta|^2 = 1$."
   ]
  },
  {
   "cell_type": "markdown",
   "metadata": {},
   "source": [
    "<font size=3 color=b64c35>**Exercise 2.**</font> Given a state\n",
    "$$\\begin{align}\\left| \\psi \\right\\rangle=\\alpha \\left| 0 \\right\\rangle+\\beta \\left| 1 \\right\\rangle \\end{align} \\label{general_state}$$\n",
    "\n",
    "- Suppose $\\alpha = \\frac{1}{2}(1+i)$ and $\\beta=\\frac{1}{2}(1-i)$. Upon measuring, what is the probability of finding the qubit in the state $|0\\rangle$ (i.e.  obtaining 0 as a measurement outcome)?\n",
    "\n",
    "- Suppose $\\alpha = \\sqrt{\\frac23}$, and $\\beta=\\frac{i}{\\sqrt{3}}$. Upon measuring, what is the probability of finding the qubit in state $|1\\rangle$?"
   ]
  },
  {
   "cell_type": "markdown",
   "metadata": {},
   "source": [
    "<font size=3 color=b64c35>**Exercise 3.**</font> Apply first a Hadamard ($H$) gate, then a $Z$ gate, then a Hadamard ($H$) gate to the state $\\left| \\psi \\right\\rangle =  \\left| 0 \\right\\rangle$. What is the resulting state?"
   ]
  },
  {
   "cell_type": "markdown",
   "metadata": {},
   "source": [
    "<font size=3 color=b64c35>**Exercise 4.**</font> Applying single-qubit gates twice in a row sometimes yields some interesting results. Calculate the 2x2 matrix for the following gates: $H^2$, $X^2$, $Y^2$ and $Z^2$. What do you notice about the result?"
   ]
  },
  {
   "cell_type": "markdown",
   "metadata": {},
   "source": [
    "<font size=3 color=b64c35>**Problem 1.**</font> Certain light crystals behave in such a way as two \"slow down\" light as it travels through them. The effect of such a crystal is to add a phase to the light that passes through. For example, the crystal might act as follows:\n",
    "\n",
    "\\begin{align}\n",
    "\\left| 0 \\right> &\\rightarrow \\left| 0 \\right> \\\\\n",
    "\\left| 1 \\right> &\\rightarrow \\left(\\cos\\phi+i\\sin\\phi\\right)\\left| 1\\right>\n",
    "\\end{align}\n",
    "\n",
    "How could we use such a crystal to implement the $Z$ gate on our element above? What phase angle $\\phi$ should the crystal have?"
   ]
  },
  {
   "cell_type": "markdown",
   "metadata": {},
   "source": [
    "<font size=3 color=b64c35>**Problem 2.**</font> Beam splitters come in many types. In the firework example above, we used 50/50 beam splitters. What happens if we use other beamsplitters, such as 60/40 or 70/30? A more generalized version of a Hadamard gate ($Q$) can be written as\n",
    "$$Q=\\begin{bmatrix}\n",
    "\\alpha & \\beta\\\\\n",
    "\\beta & -\\alpha\\\\\n",
    "\\end{bmatrix},$$\n",
    "where $\\alpha$ and $\\beta$ obey the usual normalization rule $|\\alpha|^2+|\\beta|^2=1$. This has the following effect:\n",
    "$$ \\left| 0 \\right \\rangle \\mapsto \\alpha \\left| 0 \\right \\rangle + \\beta \\left| 1 \\right \\rangle\\\\\n",
    "\\left|1\\right\\rangle\\mapsto \\beta \\left| 0 \\right \\rangle - \\alpha \\left| 1 \\right \\rangle.$$\n",
    "First, consider the case with no firework. Suppose we replaced the first beam-splitter with a 60/40 beamsplitter. This means that 60% of the time, the photon will be deflected. \n",
    "1. What is the state of the qubit after the first beamsplitter?\n",
    "2. The second beamsplitter is still a 50/50 beamsplitter. Recalling that this beamsplitter behaves as a Hadamard gate, how does it affect each of these components separately?\n",
    "3. Given your answer to part 2, what is the probability of detecting the photon at detector A, and what about at detector B?"
   ]
  },
  {
   "cell_type": "markdown",
   "metadata": {},
   "source": [
    "<h1 style=\"color:MediumSeaGreen;\">Module 6: Writing Quantum Programs </h1>"
   ]
  },
  {
   "cell_type": "markdown",
   "metadata": {},
   "source": [
    "<font size=3 color=b64c35>**Exercise 1.**</font> \n",
    "\n",
    "- Write and run a program that starts with the state $\\left| 0 \\right\\rangle$, applies the following sequence of gates $X$, $H$, $X$, $H$, and then measures. Estimate the probability of obtaining outcome '0'.\n",
    "\n",
    "- Write and run the program that starts with the state $\\left| 0 \\right\\rangle$, applies the following sequence of gates $H$, $Z$, $H$, $Z$, $H$, and then measures. Estimate the probability of obtaining outcome '0'."
   ]
  },
  {
   "cell_type": "markdown",
   "metadata": {},
   "source": [
    "<font size=3 color=b64c35>**Exercise 2.**</font> You are given two qubits: the first is in the state $\\frac{1}{\\sqrt{2}}(\\left|0 \\right\\rangle - \\left|1\\right\\rangle)$, and the second is in the state $\\frac{1}{\\sqrt{2}}(\\left|0 \\right\\rangle + \\left|1\\right\\rangle)$. What is the joint state of the two qubits? $\\,\\,\\,\\,\\,\\,\\,\\,\\,$ "
   ]
  },
  {
   "cell_type": "markdown",
   "metadata": {},
   "source": [
    "<font size=3 color=b64c35>**Exercise 3.**</font> You are given two qubits: the first is in the state $\\frac{1}{\\sqrt{2}}(\\left|0 \\right\\rangle + i \\left|1\\right\\rangle)$, and the second is in the state $ \\frac{i}{\\sqrt{3}}\\left|0 \\right\\rangle - \\sqrt{\\frac23} \\left|1\\right\\rangle$. What is the joint state of the two qubits? $\\,\\,\\,\\,\\,\\,\\,\\,\\,$ "
   ]
  },
  {
   "cell_type": "markdown",
   "metadata": {},
   "source": [
    "<h1 style=\"color:MediumSeaGreen;\">Module 7: Multi qubit states and gates </h1>"
   ]
  },
  {
   "cell_type": "markdown",
   "metadata": {},
   "source": [
    "<font size=3 color=b64c35>**Exercise 4.**</font> Write down a two qubit state which cannot be written as the product of two single qubit states, and provide a proof of this fact."
   ]
  },
  {
   "cell_type": "markdown",
   "metadata": {},
   "source": [
    "<font size=3 color=b64c35>**Exercise 5.**</font> \n",
    "\n",
    "- You are given the two-qubit state $\\frac12 \\left|00 \\right \\rangle+ \\frac14\\left|01 \\right \\rangle+ \\frac14\\left|10 \\right \\rangle+ \\sqrt{\\frac58} \\left|11 \\right \\rangle$. You measure both qubits. What is the probability of obtaining outcome \"01\" when measuring both qubits?\n",
    "\n",
    "- You are given the two-qubit state $\\frac12 \\left|00 \\right \\rangle+ \\frac14\\left|01 \\right \\rangle+ \\frac14\\left|10 \\right \\rangle+ \\sqrt{\\frac58} \\left|11 \\right \\rangle$. What is the probability of obtaining outcome \"0\" when measuring the first qubit?"
   ]
  },
  {
   "cell_type": "markdown",
   "metadata": {},
   "source": [
    "<font size=3 color=b64c35>**Exercise 6.**</font> \n",
    "\n",
    "- You are given the two-qubit state $\\frac{1}{\\sqrt{3}} \\left|00 \\right \\rangle+ \\frac{1}{\\sqrt{3}}\\left|10 \\right \\rangle + \\frac{1}{\\sqrt{3}} \\left|11 \\right \\rangle$. What is the probability of obtaining outcome \"1\" when measuring the second qubit?\n",
    "\n",
    "- You are given the two-qubit state $\\frac{i}{\\sqrt{3}} \\left|00 \\right \\rangle - \\frac{1}{\\sqrt{3}}\\left|01 \\right \\rangle - \\frac{1}{\\sqrt{3}} \\left|11 \\right \\rangle$. What is the probability of obtaining outcome \"1\" when measuring the first qubit?"
   ]
  },
  {
   "cell_type": "markdown",
   "metadata": {},
   "source": [
    "<font size=3 color=b64c35>**Exercise 7.**</font> \n",
    "\n",
    "- Compute the state $X Z \\left|01\\right\\rangle$.\n",
    "- Compute the state $H H \\left|10 \\right\\rangle$."
   ]
  },
  {
   "cell_type": "markdown",
   "metadata": {},
   "source": [
    "<font size=3 color=b64c35>**Problem 1.**</font> It is often the case that many algorithms start by initializing the state of certain qubits to a few common states, other than the $\\left|0 \\right\\rangle$ or $\\left|1 \\right\\rangle$ states. For example, two other common states are:\n",
    "\n",
    "$$\\begin{array}{1}\\left|+\\right> =\\frac{1}{\\sqrt{2}}\\left( \\left| 0 \\right> + \\left| 1 \\right> \\right)\\\\\n",
    "\\left|-\\right> =\\frac{1}{\\sqrt{2}}\\left( \\left| 0 \\right> + \\left| 1 \\right> \\right)\\end{array}$$\n",
    "These states are referred to as Hadamard basis states, because they are created using just one application of a Hadamard gate. Try implementing the following two-qubit states:\n",
    "1. $\\left|+\\right>\\left|0\\right>=\\tfrac{1}{\\sqrt{2}} \\left| 00 \\right> + \\tfrac{1}{\\sqrt{2}}\\left| 10 \\right> $\n",
    "2. $\\left|0\\right>\\left|-\\right>=\\tfrac{1}{\\sqrt{2}} \\left| 00 \\right> - \\tfrac{1}{\\sqrt{2}}\\left| 01 \\right> $\n",
    "3. $\\left|1\\right>\\left|+\\right>=\\tfrac{1}{\\sqrt{2}} \\left| 10 \\right> + \\tfrac{1}{\\sqrt{2}}\\left| 11 \\right>$\n",
    "4. $\\left|+\\right>\\left|+\\right>=\\tfrac12 \\left| 00 \\right> + \\tfrac12\\left| 01 \\right> + \\tfrac12 \\left| 10 \\right> + \\tfrac12\\left| 11 \\right>$\n",
    "5. $\\left|+\\right>\\left|-\\right>=\\tfrac12 \\left| 00 \\right> - \\tfrac12\\left| 01 \\right> + \\tfrac12 \\left| 10 \\right> - \\tfrac12\\left| 11 \\right>$ <br>\n",
    "\n",
    "To check your answers, verify that the outcomes you obtain when measuring the states you prepared match what you'd expect."
   ]
  },
  {
   "cell_type": "code",
   "execution_count": 4,
   "metadata": {},
   "outputs": [],
   "source": [
    "from qiskit import QuantumCircuit, Aer, execute\n",
    "from fractions import Fraction\n",
    "circ=QuantumCircuit(2,2)\n",
    "\n",
    "#prepare the initial state\n",
    "\n",
    "\n",
    "\n",
    "#execute the circuit to get measurement probabilities\n",
    "circ.measure([0,1],[1,0])\n",
    "backend_sim = Aer.get_backend('qasm_simulator')\n",
    "sim = execute(circ, backend_sim, shots=1024)\n",
    "counts = sim.result().get_counts(circ)"
   ]
  },
  {
   "cell_type": "markdown",
   "metadata": {},
   "source": [
    "<font size=3 color=b64c35>**Problem 2.**</font> Sometimes, experimental quantum computing architectures are not *universal*. It might be the case that they can only apply CNOT gates in one direction. For example, they can use qubit $0$ as the control and qubit $1$ as the target, but not viceversa. \n",
    "\n",
    "What two qubit gate does the following two-qubit circuit implement? \n",
    "\n",
    "<img src=\"images/reverse_cnot.png\" height=\"350\"/>\n",
    "\n",
    "Test its action on the standard basis elements: $\\left| 00 \\right\\rangle$, $\\left| 01 \\right\\rangle$, $\\left| 10\\right\\rangle$, and $\\left| 11 \\right\\rangle$."
   ]
  },
  {
   "cell_type": "code",
   "execution_count": 3,
   "metadata": {},
   "outputs": [
    {
     "name": "stdout",
     "output_type": "stream",
     "text": [
      "|00>:  1\n"
     ]
    }
   ],
   "source": [
    "from qiskit import QuantumCircuit, Aer, execute\n",
    "from fractions import Fraction\n",
    "circ=QuantumCircuit(2,2)\n",
    "\n",
    "#prepare the initial state\n",
    "\n",
    "\n",
    "\n",
    "#implement circuit\n",
    "\n",
    "\n",
    "\n",
    "#execute the circuit\n",
    "circ.measure([0,1],[1,0])\n",
    "backend_sim = Aer.get_backend('qasm_simulator')\n",
    "sim = execute(circ, backend_sim, shots=1024)\n",
    "counts = sim.result().get_counts(circ)\n",
    "for i,j in counts.items():\n",
    "    print(\"|{}>: \".format(i), Fraction(j/1024).limit_denominator(4))"
   ]
  },
  {
   "cell_type": "markdown",
   "metadata": {},
   "source": [
    "<h1 style=\"color:MediumSeaGreen;\">Module 8: Multi qubit states and gates </h1>"
   ]
  },
  {
   "cell_type": "markdown",
   "metadata": {},
   "source": [
    "<font size=3 color=b64c35>**Exercise 1.**</font> Let $a$ and $b$ be bits.\n",
    "\n",
    "- Suppose $a$ and $b$ are equal, what is $a\\oplus b$? What about if $a$ and $b$ are different?\n",
    "- Show that $(a\\oplus b) \\oplus c = a \\oplus (b \\oplus c)$."
   ]
  },
  {
   "cell_type": "markdown",
   "metadata": {},
   "source": [
    "<font size=3 color=b64c35>**Exercise 2.**</font> Recall how the unitary $U_f$ is defined in Module 8. Show that, for any value of the bit $x$, we have $U_f \\left| x\\right>\\left|-\\right>=(-1)^{f(x)}\\left| x\\right>\\left|-\\right>$.\n"
   ]
  },
  {
   "cell_type": "markdown",
   "metadata": {},
   "source": [
    "<h2 style=\"color:MediumSeaGreen;\">Apply Deutsch's Algorithm</h2>\n",
    "\n",
    "Let $f: \\{0,1\\} \\rightarrow \\{0,1\\}$ be some unknown function from one bit to one bit. In the next exercise, you are given a unitary $U_f$ as a black-box, meaning that you get to \"invoke\" it and use it, but you don't get to see how it is built. You are promised that $U_f$ acts on two qubits as follows:\n",
    "\n",
    "$$ (x,y) \\rightarrow (x, y \\oplus f(x))$$\n",
    "\n",
    "Your task is to determine, making just a single invocation to $U_f$, whether $f$ is constant (i.e. $f(0) = f(1)$) or balanced (i.e. $f(0) \\neq f(1)$).\n",
    "\n",
    "In the next cell, we show you how to invoke $U_f$."
   ]
  },
  {
   "cell_type": "code",
   "execution_count": 5,
   "metadata": {},
   "outputs": [
    {
     "data": {
      "image/png": "[encoded data removed]",
      "text/plain": [
       "<Figure size 240.8x138.46 with 1 Axes>"
      ]
     },
     "execution_count": 5,
     "metadata": {},
     "output_type": "execute_result"
    }
   ],
   "source": [
    "from qiskit import *\n",
    "from python_functions.U_f import U_f\n",
    "\n",
    "circ = QuantumCircuit(2)\n",
    "\n",
    "U_f(circ, [0,1])\n",
    "\n",
    "circ.draw(output='mpl')"
   ]
  },
  {
   "cell_type": "markdown",
   "metadata": {},
   "source": [
    "<font size=3 color=b64c35>**Problem.**</font> Write code that uses a single invocation of $U_f$, and determines with certainty whether the function $f$ is constant or balanced."
   ]
  }
 ],
 "metadata": {
  "kernelspec": {
   "display_name": "Python 3",
   "language": "python",
   "name": "python3"
  },
  "language_info": {
   "codemirror_mode": {
    "name": "ipython",
    "version": 3
   },
   "file_extension": ".py",
   "mimetype": "text/x-python",
   "name": "python",
   "nbconvert_exporter": "python",
   "pygments_lexer": "ipython3",
   "version": "3.6.8"
  }
 },
 "nbformat": 4,
 "nbformat_minor": 4
}
