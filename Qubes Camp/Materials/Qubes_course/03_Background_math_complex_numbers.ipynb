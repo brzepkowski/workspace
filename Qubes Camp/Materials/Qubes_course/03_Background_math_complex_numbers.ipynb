{
 "cells": [
  {
   "cell_type": "markdown",
   "metadata": {},
   "source": [
    "<font size=3 color=b64c35>Prev module: </font><font size=4 color=b64c35>[2. Classical computing](./02_Classical_computing.ipynb)</font>  &nbsp;&nbsp;&nbsp; &nbsp;&nbsp; &nbsp;&nbsp;&nbsp; &nbsp;&nbsp; &nbsp;&nbsp;&nbsp; &nbsp;&nbsp; &nbsp;&nbsp;&nbsp; &nbsp;&nbsp; &nbsp;&nbsp;&nbsp; &nbsp;&nbsp; &nbsp;&nbsp;&nbsp; &nbsp;&nbsp; &nbsp;&nbsp;&nbsp; &nbsp;&nbsp; &nbsp;&nbsp;&nbsp; &nbsp;&nbsp; &nbsp;&nbsp;&nbsp; &nbsp;&nbsp; \n",
    "<font size=3 color=b64c35>Next module: </font> <font size=4 color=b64c35>[4. Background math: linear algebra](./04_Background_math_linear_algebra.ipynb)</font>\n",
    "\n",
    "<hr />"
   ]
  },
  {
   "cell_type": "markdown",
   "metadata": {},
   "source": [
    "<h1 style=\"color:MediumSeaGreen;\">Summary</h1>\n",
    "\n",
    "- Python packages: Numpy and Matplotlib\n",
    "- Complex numbers\n",
    "- Operations on complex numbers"
   ]
  },
  {
   "cell_type": "markdown",
   "metadata": {},
   "source": [
    "<h1 style=\"color:MediumSeaGreen;\">Background Math</h1>\n",
    "   \n",
    "> Pure mathematics is, in its way, the poetry of logical ideas. -Albert Einstein\n",
    "\n",
    "Trying to learn quantum mechanics without any knowledge of mathematics is like eating a *sugar-free* and *butter-free* chocolate: it's not actually chocolate, it is just cocoa beans. \n",
    "\n",
    "At qBraid, we are convinced that you will appreciate quantum mechanics (and quantum computing) much more if you understand and master just a few mathematical fundamentals. This module provides just enough mathematical background for you to appreciate basic (but really cool!) concepts in quantum computing.\n",
    "\n",
    "It is possible that not everything in this module will be completely new to you. If that is the case, you will have the opportunity to review familiar tools that we will use frequently in later chapters.\n",
    "\n",
    "The module is interspersed with code snippets (written in Python) which will allow you to visualize and play with some of the ideas you encounter. We believe that this will be particularly helpful if you are learning these topics for the first time."
   ]
  },
  {
   "cell_type": "markdown",
   "metadata": {},
   "source": [
    "<h1 style=\"color:MediumSeaGreen;\">Introduction to NumPy and Matplotlib</h1>\n",
    "\n",
    "We will be using Python as our default programming language for this tutorial series. As we mentioned in the tutorial on Python, packages play a crucial role in enhancing the capabilities of Python. Python does not have inherent support for a lot of the math we will be using, but there are some great packages available that provide all of that. Two of these packages are NumPy and Matplotlib.\n",
    "We will briefly introduce these packages here. Our strategy will be to introduce mathematical concepts first and then have you become more familiar with them by playing with code snippets which use these packages.\n",
    "\n",
    "<font color='b64c35' size=3.5>NumPy</font> <br> \n",
    "Numpy is a python package for scientific computing that mainly focuses on linear algebra. As you progress in your scientific endeavors, you will realize that linear algebra is at the heart of most of modern day computing. It is absolutely fundamental to quantum computing. It is only appropriate to spend some time learning about NumPy.\n",
    "\n",
    "An *array* is an ordered list of numbers. Arrays form the basis for defining vectors and matrices and manipulation of these vectors and matrices is what linear algebra is all about (you will learn more about linear algebra later in this module). Numpy provides various methods to define and manipulate arrays. \n",
    "\n",
    "The following code cells show how to define arrays and retrieve a particular entry in an array."
   ]
  },
  {
   "cell_type": "code",
   "execution_count": null,
   "metadata": {},
   "outputs": [],
   "source": [
    "import numpy\n",
    "array_1 = numpy.array([1,2,3,4,5,6,7,8])\n",
    "print('The numpy array defined above is:',array_1)"
   ]
  },
  {
   "cell_type": "code",
   "execution_count": null,
   "metadata": {},
   "outputs": [],
   "source": [
    "# Indices start at 0. To retrieve the second entry in an array we use\n",
    "sec_entry = array_1[1]\n",
    "print(sec_entry)"
   ]
  },
  {
   "cell_type": "code",
   "execution_count": null,
   "metadata": {},
   "outputs": [],
   "source": [
    "# We can learn the size of an array using following method:\n",
    "size = numpy.size(array_1)\n",
    "print('the size of the array is:',size)"
   ]
  },
  {
   "cell_type": "code",
   "execution_count": null,
   "metadata": {},
   "outputs": [],
   "source": [
    "# Let's define another array:\n",
    "array_2 = numpy.array([1,-2,5,8,6,3,-6,2])\n",
    "\n",
    "# You can perform addition, subtraction, multiplication, and division on arrays using the same symbols as for numbers\n",
    "# These operations will perform *entry by entry* operation - so the result is the sum/difference/product/ratio of \n",
    "# the corresponding entries of the two arrays.\n",
    "\n",
    "# Let's do addition first.\n",
    "array_3 = array_1+array_2\n",
    "print('The sum of the two arrays is: ', array_3)"
   ]
  },
  {
   "cell_type": "code",
   "execution_count": null,
   "metadata": {},
   "outputs": [],
   "source": [
    "# Multiplication (entry by entry)\n",
    "array_4 = array_1*array_2\n",
    "print('The product of the two arrays is: ', array_4)\n",
    "\n",
    "# Division (entry by entry)\n",
    "array_5 = array_1 / array_2\n",
    "print('The division of the two arrays is: ', array_5)"
   ]
  },
  {
   "cell_type": "code",
   "execution_count": null,
   "metadata": {},
   "outputs": [],
   "source": [
    "# You can do even more interesting things like use the array as input for a function like sin/cos. \n",
    "# This line of code returns another array, where each entry is the sine of the corresponding entry in the original array\n",
    "y = numpy.sin(array_1)\n",
    "print('The sin of all the values in array x1 is ',y)"
   ]
  },
  {
   "cell_type": "markdown",
   "metadata": {},
   "source": [
    "<font color='b64c35' size=3.5>Matplotlib</font><br> \n",
    "Matplotlib is a python package for plotting. It is important to represent your data well because it leads to a much better understanding of the underlying phenomenon that you are studying. Matplotlib provides many ways to visualize data. We will give you a couple of examples now, and then introduce new features of Matplotlib as we use them later on."
   ]
  },
  {
   "cell_type": "code",
   "execution_count": null,
   "metadata": {},
   "outputs": [],
   "source": [
    "# We first import matplotlib. Since it's a long name.. let's \"nickname\" it plt \n",
    "# (you can nickname it however you want though, just by changing the code)\n",
    "import matplotlib.pyplot as plt\n",
    "\n",
    "# Let's create an array with values equally spaced in [0,2pi].\n",
    "x_values = numpy.linspace(0,2*numpy.pi, 50)\n",
    "\n",
    "# Let's plot the sin of the list of values in x_values. We can do this using the function .plot\n",
    "plt.plot(x_values, numpy.sin(x_values))"
   ]
  },
  {
   "cell_type": "code",
   "execution_count": null,
   "metadata": {},
   "outputs": [],
   "source": [
    "# Let's reflect everything about the x-axis\n",
    "plt.plot(x_values,-numpy.sin(x_values))"
   ]
  },
  {
   "cell_type": "markdown",
   "metadata": {},
   "source": [
    "<h1 style=\"color:MediumSeaGreen;\">Complex numbers</h1>\n",
    "\n",
    "> Life is complex – it has both real and imaginary parts. – Anonymous\n",
    "\n",
    "Just like life, a complex number has both a <em>real part</em> and an <em>imaginary part</em>. It is likely that throughout all of your math classes, you have learnt many times that the square root of a negative number does not exist. This is true, in the sense that these roots are not *real*. But in the world of complex numbers, negative numbers have square roots as well! As far-fetched as this may seem, it turns out that such a number system finds many applications throughout mathematics. You shouldn't think of complex numbers as an absurd idea just because it does not align with physical intuition. Pure mathematics often studies abstract concepts that do not necessarily have any direct connection with the real world, but nonetheless these concepts are well-defined and interesting in their own right! As it turns out however, complex numbers are not only an abstract mathematical concept, but they have a true connection with the real world: they are at the heart of quantum mechanics!\n",
    "\n",
    "The celebrated *Schrodinger equation*, which governs the evolution of quantum states in time, involves complex numbers. In other words, complex numbers are embedded in a fundamental law of nature! This is why complex numbers appear all throughout quantum mechanics, and should be understood if one wishes to understand the basics of quantum mechanics and quantum computing.\n",
    "\n",
    "The <em>imaginary unit</em> is $i$, where\n",
    "\n",
    "$$i=\\sqrt{-1}$$\n",
    "\n",
    "This lets us define a new number system by taking its multiples e.g. $4i$, $\\pi i$, $\\sqrt{2}i$, $yi$ (where $y$ is any real number). These are all examples of pure <em>imaginary numbers </em>.\n",
    "\n",
    "Adding real numbers and imaginary numbers together gets us complex numbers:\n",
    "\n",
    "$$c=a+ib$$\n",
    "\n",
    "where $a, b$ are real numbers. $a$ is referred to as the <em>real part</em>, and $b$ as the <em>imaginary part</em> of the complex number $c$.\n"
   ]
  },
  {
   "cell_type": "markdown",
   "metadata": {},
   "source": [
    "<font size=3 color=b64c35>**Exercise.**</font> Evaluate $i^3$, $i^4$, $i^5$, and $i^6$. Do you notice a pattern as the exponent of $i$ increases? The code below takes a complex number $1i=i$, and raises it to the second power. First, confirm that the value of $i^2$ gives the correct result. Then, modify the `exponent` variable of the code to check your answers. We will discuss manipulating complex numbers in python very soon."
   ]
  },
  {
   "cell_type": "code",
   "execution_count": null,
   "metadata": {},
   "outputs": [],
   "source": [
    "c=1j\n",
    "exponent=2\n",
    "print('{}+{}i'.format(int((c**exponent).real),int((c**exponent).imag)))"
   ]
  },
  {
   "cell_type": "markdown",
   "metadata": {},
   "source": [
    "<h2 style=\"color:MediumSeaGreen;\">Properties of complex numbers</h2>\n"
   ]
  },
  {
   "cell_type": "markdown",
   "metadata": {},
   "source": [
    "<h3 style=\"color:#b64c35;\">Addition</h3>\n",
    "\n",
    "*Two complex numbers can be added by taking a sum of their real parts and imaginary parts separately*, so that if $c_1=a_1+ib_1$ and $c_2=a_2+ib_2$, then $c_1+c_2=(a_1+a_2)+i(b_1+b_2)$. To understand this concretely, let's consider an example and introduce the \"Complex Plane,\" sometimes called the \"Argand Plane.\"\n",
    "\n",
    "Let $c_1=6+4i$ and $c_2=2+2i$, then the sum is:\n",
    "\n",
    "$$c_1+c_2=(6+4i) + (2+2i)\\,.$$\n",
    "    \n",
    "One of the most intuitive ways to work with complex numbers is to think of them *graphically*. In this framework, the real unit $1$ and the imaginary unit $i$ are *independent components*; so really, a complex number is some point in the 2D plane, usually defined so that its $x$ component is its real part and its $y$ component is its imaginary part. So, if you wanted to plot the complex number $c_1 = 6+4i$, you would use point $p_1 = (6,4)$. Similarly, the complex number $c_2 = 2+2i$ would be the point $p_2 = (2,2)$. This is particularly useful, because complex numbers add just like points in the plane! As you can see in the gif below, the real components add together, and so do the imaginary components, each separately; if you add six \"$1$\"s and four \"$i$\"s to two \"$1$\"s and two \"$i$\"s, of course you end up with eight \"$1$\"s and six \"$i$\"s:\n",
    "\n",
    "$$(6,4) + (2,2) = (8,6)$$\n",
    "$$(6+4i) + (2+2i) = (8+6i)$$\n",
    "\n",
    "This representation of complex numbers allows us to use our graphical intuition beyond addition, including to understand quantities like the *magnitude* and *phase* of complex numbers (both of which are discussed a bit later in this section!). \n",
    "\n",
    "<img src=\"images/complex_add.gif\" height=\"450\" width=\"450\" />"
   ]
  },
  {
   "cell_type": "code",
   "execution_count": null,
   "metadata": {},
   "outputs": [],
   "source": [
    "from qbraid_quiz_widget import MultipleChoiceQuestion\n",
    "MultipleChoiceQuestion('Let_a_5__3i_and_b__1-9nep9ifyf4')"
   ]
  },
  {
   "cell_type": "markdown",
   "metadata": {},
   "source": [
    "<h3 style=\"color:#b64c35;\">Subtraction</h3>\n",
    "\n",
    "Two complex numbers can be subtracted by taking the difference of the their real parts and imaginary parts separately. Let $c_1=a_1+ib_1$ and $c_2=a_2+ib_2$, then $c_1- c_2=(a_1-a_2)+i(b_1- b_2)$.\n",
    "\n",
    "For example, let $c_1=2+3i$ and $c_2=4+5i$, then \n",
    "\n",
    "$$c_1-c_2=(2-4)+i(5-3)=-2+2i$$\n",
    "\n",
    "Python provides native support for complex numbers. In Python, the imaginary unit is represented by the letter 'j' (yes, odd isn't it.. tell us about it..). You can see in the following code snippet how easy it is to use python for working with complex numbers.\n",
    "\n",
    "<!-- <p><span style=\"color:red\">[I want to VISUALIZE the vectors on the Argand plane!]</span>.</p> -->"
   ]
  },
  {
   "cell_type": "code",
   "execution_count": null,
   "metadata": {},
   "outputs": [],
   "source": [
    "c1 = 3+2j\n",
    "c2 = 3+4j\n",
    "# get the imaginary part of a complex number\n",
    "print(c1.imag)"
   ]
  },
  {
   "cell_type": "code",
   "execution_count": null,
   "metadata": {},
   "outputs": [],
   "source": [
    "# add complex numbers\n",
    "c3 = c1+c2\n",
    "print('c1+c2=',c3)\n",
    "# substract complex numbers\n",
    "c4 = c1-c2\n",
    "print('c1-c2=',c4)"
   ]
  },
  {
   "cell_type": "code",
   "execution_count": null,
   "metadata": {},
   "outputs": [],
   "source": [
    "from qbraid_quiz_widget import MultipleChoiceQuestion\n",
    "MultipleChoiceQuestion('Let_a_2__i_and_b__3_-qdsrbmahed')"
   ]
  },
  {
   "cell_type": "markdown",
   "metadata": {},
   "source": [
    "<h3 style=\"color:#b64c35;\">Multiplication</h3>\n",
    "\n",
    "Just like real numbers, complex numbers can also be multiplied. Multiplication for complex numbers is defined by assuming that they obey the <em>distributive property</em>, which holds for real numbers as well.\n",
    "\n",
    "<div class=\"alert alert-block alert-info\">\n",
    "<b>Recall: the distributive property</b> <br> The distributive property states that for numbers $a, b, c$ and $d$:\n",
    "$$(a+b) \\cdot (c+d) = ac + ad + bc + bd$$\n",
    "</div>\n",
    "\n",
    "Let $c_1=2+4i$ and $c_2= 3+6i$ be two complex numbers, using the distributive property, they multiply as follows:\n",
    "\n",
    "\\begin{align}\n",
    "c_1 \\cdot c_2 &= (2+3i) \\cdot (4+ 6i) \\\\\n",
    "&=(2\\cdot4) + (2\\cdot 6i) + (3i \\cdot 4) +(3i\\cdot 6i) \\\\\n",
    "&= (2\\cdot4) + (2\\cdot 6i) + (3i\\cdot 4) +(i^2)(3\\cdot 6) \\\\\n",
    "&= (8 - 18) + (24i) = -10 + 24i.\n",
    "\\end{align}\n",
    "\n",
    "where in the last line we used that, by definition, $i^2 = -1$."
   ]
  },
  {
   "cell_type": "code",
   "execution_count": null,
   "metadata": {},
   "outputs": [],
   "source": [
    "from qbraid_quiz_widget import MultipleChoiceQuestion\n",
    "MultipleChoiceQuestion('Let_a_2i_and_b__34i_-py9zz5pi67')"
   ]
  },
  {
   "cell_type": "code",
   "execution_count": null,
   "metadata": {},
   "outputs": [],
   "source": [
    "from qbraid_quiz_widget import MultipleChoiceQuestion\n",
    "MultipleChoiceQuestion('Let_a_4i_and_b__1i_W-u2cbtye2s6')"
   ]
  },
  {
   "cell_type": "markdown",
   "metadata": {},
   "source": [
    "Such a multiplication rule does not seem, at first, to be as easily \"visualized\" as addition and subtraction. In order to obtain a more enlightning visual representation of multiplication we need to modify our point of view. We refer you to the discussion about \"polar form\" in the Quint course if you are interested to know more."
   ]
  },
  {
   "cell_type": "markdown",
   "metadata": {},
   "source": [
    "<h3 style=\"color:#b64c35;\">Magnitude of a complex number</h3>\n",
    "\n",
    "The *magnitude* of a complex number is the length of its vector representation in the Complex Plane. As you saw above in the gif for complex number addition, the real and imaginary parts of a complex number form the base and perpendicular of a right angled triangle. You can think of the complex number as the hypotenuse of this right angled triangle. So, the magnitude of the complex number can be calculated by Pythagoras' theorem: for a complex number $c = a + ib$, its magnitude is\n",
    "\n",
    "$$ |c| = \\sqrt{a^2 + b^2}.$$\n",
    "\n",
    "<!-- <p><span style=\"color:red\">[snippet plz - i like to visualize pythagoras]</span>.</p> -->\n"
   ]
  },
  {
   "cell_type": "markdown",
   "metadata": {},
   "source": [
    "<h3 style=\"color:#b64c35;\">Conjugate of a complex number</h3>\n",
    "\n",
    "Complex numbers come in pairs. Each complex number has a twin, which we refer to as its <em>complex conjugate</em>, or simply its <em>conjugate</em>. For a complex number $c = a+ib$, its complex conjugate is denoted as $\\bar{c}$, and is defined as: \n",
    "\n",
    "$$\\bar{c} = a-ib.$$\n",
    "\n",
    "In other words, a complex number and its conjugate share the same real part but have opposite imaginary part. What this means is that adding a complex number and its conjugate yields a real number, i.e. $c+\\bar{c} \\in \\mathbb{R}$.\n",
    "\n",
    "But notice also that\n",
    "\n",
    "$$c*\\bar{c} = (a+ib) \\cdot (a-ib) = a^2 -iab + iab + b^2 = a^2 + b^2 = |c|^2.$$ \n",
    "\n",
    "In other words, multiplying a complex number and its conjugate also yields a real number, and moreover this real number is the square of the magnitude! (Notice that a complex number and its conjugate have the same magnitude.)   \n",
    "\n",
    "\n",
    "<!-- <p><span style=\"color:red\">[where snippet at - i wan visualize plz]</span>.</p> -->\n"
   ]
  },
  {
   "cell_type": "code",
   "execution_count": null,
   "metadata": {},
   "outputs": [],
   "source": [
    "# Multiplying two complex numbers:\n",
    "import numpy as np\n",
    "c1 = 1+2j\n",
    "c2 = 3+4j\n",
    "print('Multiplication of c1 and c2:')\n",
    "print(c1*c2)\n",
    "print('Magnitude of c2:')\n",
    "print(np.abs(c2))\n",
    "print('Conjugate of c2:')\n",
    "print(c2.conjugate())\n",
    "print('Let us multiple c2 with its conjugate. Notice that you will get the square of its magnitude.')\n",
    "print(c2*c2.conjugate())"
   ]
  },
  {
   "cell_type": "markdown",
   "metadata": {},
   "source": [
    "<h1 style=\"color:MediumSeaGreen;\">Problems</h1>\n",
    "\n",
    "<font size=3 color=b64c35>**Problem 1.**</font> Let $c_1$ and $c_2$ be two complex numbers. Show that the magnitude of $c_1 \\cdot c_2$ the product of the magnitudes, i.e.\n",
    "\n",
    "$$ |c_1 \\cdot c_2 | = | c_1| \\cdot | c_2| \\,.$$\n",
    "\n",
    "<font size=3 color=b64c35>**Problem 2.**</font> Consider the complex number $3i$, and the following evaluation:\n",
    "$$\\begin{align} 3i \\cdot 3i &= \\sqrt{-3}\\sqrt{-3} \\\\\n",
    "&=\\sqrt{(-3)(-3)} \\\\\n",
    "&=\\sqrt{9} \\\\\n",
    "&=3.\n",
    "\\end{align}$$\n",
    "\n",
    "Consider the following alternative evaluation:\n",
    "$$\\begin{align} 3i \\cdot 3i &= \\sqrt{-3}\\sqrt{-3} \\\\\n",
    "&=\\sqrt{(-3)(-3)} \\\\\n",
    "&=\\sqrt{3}\\sqrt{-1}\\sqrt{3}\\sqrt{-1} \\\\\n",
    "&=\\sqrt{9}(i)(i)\\\\\n",
    "&=3i^2 \\\\\n",
    "&=-3.\n",
    "\\end{align}$$\n",
    "\n",
    "Only one of the two evaluations can be correct: which one? What is your reasoning? "
   ]
  },
  {
   "cell_type": "markdown",
   "metadata": {},
   "source": [
    "<hr />\n",
    "\n",
    "<font size=3 color=b64c35>Prev module: </font><font size=4 color=b64c35>[2. Classical computing](./02_Classical_computing.ipynb)</font>  &nbsp;&nbsp;&nbsp; &nbsp;&nbsp; &nbsp;&nbsp;&nbsp; &nbsp;&nbsp; &nbsp;&nbsp;&nbsp; &nbsp;&nbsp; &nbsp;&nbsp;&nbsp; &nbsp;&nbsp; &nbsp;&nbsp;&nbsp; &nbsp;&nbsp; &nbsp;&nbsp;&nbsp; &nbsp;&nbsp; &nbsp;&nbsp;&nbsp; &nbsp;&nbsp; &nbsp;&nbsp;&nbsp; &nbsp;&nbsp; &nbsp;&nbsp;&nbsp; &nbsp;&nbsp; \n",
    "<font size=3 color=b64c35>Next module: </font> <font size=4 color=b64c35>[4. Background math: linear algebra](./04_Background_math_linear_algebra.ipynb)</font>"
   ]
  }
 ],
 "metadata": {
  "kernelspec": {
   "display_name": "Python 3",
   "language": "python",
   "name": "python3"
  },
  "language_info": {
   "codemirror_mode": {
    "name": "ipython",
    "version": 3
   },
   "file_extension": ".py",
   "mimetype": "text/x-python",
   "name": "python",
   "nbconvert_exporter": "python",
   "pygments_lexer": "ipython3",
   "version": "3.7.6"
  },
  "widgets": {
   "application/vnd.jupyter.widget-state+json": {
    "state": {},
    "version_major": 2,
    "version_minor": 0
   }
  }
 },
 "nbformat": 4,
 "nbformat_minor": 4
}
