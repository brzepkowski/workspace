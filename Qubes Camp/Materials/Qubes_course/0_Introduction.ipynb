{
 "cells": [
  {
   "cell_type": "markdown",
   "metadata": {},
   "source": [
    "<font size=3 color=b64c35>Prev module:</font><font size=4 color=b64c35></font> &nbsp;&nbsp;&nbsp; &nbsp;&nbsp; &nbsp;&nbsp;&nbsp; &nbsp;&nbsp; &nbsp;&nbsp;&nbsp; &nbsp;&nbsp; &nbsp;&nbsp;&nbsp; &nbsp;&nbsp; &nbsp;&nbsp;&nbsp; &nbsp;&nbsp; &nbsp;&nbsp;&nbsp; &nbsp;&nbsp; &nbsp;&nbsp;&nbsp; &nbsp;&nbsp; &nbsp;&nbsp;&nbsp; &nbsp;&nbsp; &nbsp;&nbsp;&nbsp; &nbsp;&nbsp; &nbsp;&nbsp;&nbsp; &nbsp;&nbsp; &nbsp;&nbsp;&nbsp; &nbsp;&nbsp; &nbsp;&nbsp;&nbsp; &nbsp;&nbsp; &nbsp;&nbsp;&nbsp; &nbsp;&nbsp; &nbsp;&nbsp;&nbsp; &nbsp;&nbsp; &nbsp;&nbsp;&nbsp; &nbsp;&nbsp; \n",
    "<font size=3 color=b64c35>Next module: </font> <font size=4 color=b64c35>[1. Quantum Mechanics](./01_Quantum_Mechanics.ipynb)</font> "
   ]
  },
  {
   "cell_type": "markdown",
   "metadata": {},
   "source": [
    "<h1 style=\"color:MediumSeaGreen;\">Welcome to the amazing world of quantum!</h1>\n",
    "\n",
    "The quantum world contains many puzzles - and when we solve them, we can do truly incredible things. Let's start our exploration of this world by thinking about one puzzle in particular. Imagine a box which could be holding a firework. If the firework is present, it is designed to set off as soon as it is hit by a single photon (a particle of light). This means that if you shine a photon through a hole on the box to 'see' if the firework is present, it will be set off. The box has two holes on opposing faces, and you can send in light from one side. If you do so, you will either see the light come out on the opposite side, in which case you conclude that the box is empty, or you will not see any light coming out, in which case you conclude that the firework was present to block it. Of course if this happens, our photon-sensitive firework will set off.\n",
    "\n",
    "The question is: Is there a way to find out if the firework is present or not, without it being set off? Of course: no tricks, no weighing, touching, or interacting with the box in any way but with light and the two holes.\n",
    "\n",
    "<img src=\"images/firework_in_a_box.png\" height=\"200\" width=\"450\" />\n",
    "\n",
    "Take a moment to think about this, and try to come up with an answer. \n",
    "\n",
    "You might be able to convince yourself that this task is simply impossible, because the problem is set up to have no solution. However, it turns out that the task *is possible* if you consider the quantum mechanical behavior of light! In this course, you will learn, amongst many other things, a solution to this puzzle.\n",
    "\n",
    "What we want to emphasize here is that quantum mechanics will present to you many instances which will make you question your understanding of reality. If you rely on everyday physical intuition to solve the above puzzle, it seems utterly impossible to identify the presence of a firework without having it set off, but quantum mechanics surprisingly defies this.\n",
    "\n",
    "What sort of other seemingly impossible (and perhaps more practical!) tasks can we accomplish if we harness the power of quantum mechanics? Welcome to the world of quantum computing!\n",
    "\n",
    "By the end of this course you will have developed a basic, yet rigorous, understanding of the principles of quantum mechanics, and of how quantum computers work. We hope to surprise you along the way, and that you will leave this course fascinated by the world of quantum mechanics and quantum computing. \n"
   ]
  },
  {
   "cell_type": "markdown",
   "metadata": {},
   "source": [
    "<h1 style=\"color:MediumSeaGreen;\">Objectives for this course</h1>\n",
    "\n",
    "- Understand the basics of digital computers\n",
    "- Obtain a basic understanding of quantum mechanics and the mathematics behind it\n",
    "- Understand the basics of quantum computing\n",
    "- Be able to write simple quantum computing algorithms."
   ]
  },
  {
   "cell_type": "markdown",
   "metadata": {},
   "source": [
    "<h1 style=\"color:MediumSeaGreen;\">Methodology</h1>\n",
    "\n",
    "1. We believe that the best way to learn is by doing. Throughout this course, wherever possible, we accompany the theoretical concepts we introduce with code snippets that you can play with and modify, and which allow you to develop a better intuition for quantum computing. \n",
    "2. When introducing the theory of quantum mechanics, we try to present the scientific observations first. This gives you a chance to put yourself in the shoes of the scientists who developed the theory. We encourage you to think about the observations, and develop your version of the theory before going on to read the actual one. \n",
    "2. When introducing abstract concepts, we typically start with an example. In this way, you can try to understand how things work in a specific case before moving on to understand the more general or abstract case.\n",
    "3. The key to understanding something is to first know what you do not understand. We have observed that, many times, it is not quantum mechanics/quantum computing that people struggle with, but rather with the background mathematics. For example, if you are presented with a quantum mechanics concept that relies on a property of complex numbers, you may struggle to appreciate or understand the quantum mechanical concept unless you are comfortable with that property. This is why we have a knowledge map for you to use. Whenever you feel a bit lost, come back to the following map and ask yourself: \"What piece of the puzzle do I not understand?\" You can then go back and review that module.\n",
    "\n",
    "\n",
    "<img src=\"images/Qube_knowledge_map.png\" height=\"550\" width=\"600\"/>\n",
    "\n",
    "<!-- 4. A benefit of this being a self-paced cour -->\n"
   ]
  },
  {
   "cell_type": "markdown",
   "metadata": {},
   "source": [
    "<h1 style=\"color:MediumSeaGreen;\">Outline of the course</h1>\n",
    "\n",
    "<font color=b64c35>**Module 1: Quantum mechanics**</font><br />  The purpose of this module is to introduce you to the world of quantum mechanics. We do so by describing the quintessential *double slit experiment*, which beautifully captures some of the most counterintuitive aspects of how quantum objects behave. If this is the first time you have encountered the double slit experiment, you will find that some of its outcomes are, quite frankly, unbelievable. Such outcomes completely elude an explanation that is compatible with Newtonian physics, and have led physicists to formulate a theory whose predictions match the outcomes of the experiment. This theory is quantum mechanics.\n",
    "\n",
    "<font color=b64c35>**Module 2: Classical computing**</font><br /> In order to appreciate the power of quantum computing, it is important, first of all, to be familiar with how classical computers work. This module gives you a bit of historical context for classical computing, and then goes on to describe its fundamentals in some detail.\n",
    "\n",
    "<font color=b64c35>**Modules 3 and 4: Background mathematics**</font><br /> \n",
    "Mathematics captures the details of the world we live in to a remarkable extent: it provides a language that helps us describe and convey its properties in a formal way. In this module we give you the basic mathematical tools you need to understand the quantum computing modules that follow. It is important that you understand and familiarize yourself with the concepts in this module, as these will constitute the foundation upon which we build quantum computing concepts. We will cover complex numbers in Module 3 and Linear Algebra in Module 4. Together, these form the basic language through which to describe quantum mechanics.\n",
    "\n",
    "<font color=b64c35>**Module 5: Qubits and single qubit quantum gates**</font><br /> \n",
    "This module will be your introduction to the world of quantum computing. You will learn about the basic units of quantum computers: qubits. We will formally introduce single qubit quantum gates, which let you manipulate the information stored in qubits. With the concepts introduced in this module, you will finally be able to answer the puzzle introduced at the start of this notebook.\n",
    "\n",
    "<font color=b64c35>**Module 6: Writing quantum programs**</font><br />\n",
    "If quantum computing is a playground, then by the end of Module 5, you will have learned the rules of the game (as far as single qubits go), and Module 6 is when the games begin. This is when we introduce the python packages that we will use to build quantum circuits and run them on an actual quantum computer (or to simulate them on your classical computer). This module provides plenty of hands-on examples for you to become familiar with writing simple single-qubit programs.\n",
    "\n",
    "<font color=b64c35>**Module 7: Multi-qubit states and multi-qubit quantum gates**</font><br />\n",
    "In Module 7, we will talk about general multi-qubit states and the kind of quantum gates that you can apply to them. We will introduce you to the Bell pair (the maximally entangled state of two qubits), which is crucial in many quantum computing applications. You will have plenty of practice writing simple quantum programs with a few qubits. Note that any quantum computation can be broken up into single-qubit and two-qubit gates: this means that after this module you will understand the building blocks of *any* quantum computation.\n",
    "\n",
    "<font color=b64c35>**Module 8: Deutsch's algorithm**</font><br />\n",
    "In this module, you will learn about one of the most famous quantum algorithms: Deutsch's algorithm. This is the first concrete example you'll see of a task at which quantum computers provide an advantage over classical computers. \n",
    "\n",
    "<font color=b64c35>**Module 9: Quantum teleportation**</font><br />\n",
    "Teleportation reminds most people of Star Trek. *Quantum* teleportation does have some elements in common with popular sci-fi movies and comics. However, it differs in substantial ways (sorry to dampen your expectations...). In this module, you will learn about quantum teleportation, which is essentially a protocol to transfer qubits (and hence quantum information) by only physically transmitting classical information (there are caveats). This protocol can in principle enable one to transfer the state of a qubit across galaxies, but **NOT** *to move that information* faster than the speed of light. \n",
    "\n",
    "<font color=b64c35>**Module 10: Quantum algorithms survey**</font><br />\n",
    "This module is a general survey of the most famous quantum algorithms. We will describe at a high level, quantum algorithms for searching for an item, for factoring numbers, and for simulating quantum systems. \n"
   ]
  },
  {
   "cell_type": "markdown",
   "metadata": {},
   "source": [
    "<h1 style=\"color:MediumSeaGreen;\">What is quantum computing, and what it is not? (FAQ's)</h1>\n",
    "\n",
    "Recently, there have been many exciting developments in the field of quantum computing, which in turn have led to a lot of buzz about quantum computing in the media. Although we are very excited about this buzz too, we would like to start off by clearing the air about what quantum computing can and cannot do. Hopefully, this will help you set reasonable expectations, and will allow us to convey to you the real promise of quantum computers behind the veil of hype.\n",
    "\n",
    "<font color=b64c35>**So, what is quantum computing?**</font><br />\n",
    "Quantum computing is a new paradigm for computation that harnesses the power of quantum mechanics. This lets a quantum computer solve *SOME* tasks exponentially faster than the best known algorithms for classical computers.\n",
    "\n",
    "<font color=b64c35>**Can you use a quantum computer to make computer games run much faster? How about better graphics? Browsing the internet faster?**</font><br />\n",
    "No, no, and no. As we mentioned above, quantum computers are being built to solve certain classes of problems. In the long run, it is possible that we may end up using quantum computers for much broader tasks. But the current scientific concensus is that using quantum computers for games and other things that we do on classical computers won't happen for another 15-20 years. \n",
    "\n",
    "<font color=b64c35>**What sort of tasks can a quantum computer perform faster than a classical computer?**</font><br />\n",
    "Simulating the behavior of certain quantum mechanical systems is prohibitively difficult - while it's theoretically possible, we're talking thousands or millions of years on the world's best supercomputers. Quantum computers will make such tasks feasible: the same problems could be computed in months, weeks, or less. These simulations are not just interesting to a small community of researchers in quantum physics. Far from it: they are at the heart of drug discovery in the pharmaceutical industry, and of the design of new nanomaterials. In this way, quantum computers could be used to accelerate tasks from finding more effective treatments for diseases to creating stronger and lighter building materials.\n",
    "\n",
    "Cryptography, the way we secure our personal and other information, is also a hot topic in quantum computation. Did you know that the methods employed for securing most credit card transactions fundamentally rests on the assumption that it is very hard to factor large numbers? Although this is (at least currently) the case for classical computers, quantum computers can factor large numbers efficiently (i.e. in a feasible time-frame), and they will thus be able to completely break all of this cryptographic infrastructure.\n",
    "\n",
    "<!-- <p><span style=\"color:red\"> Simplified wording ^ </span>.</p> -->\n",
    "\n",
    "<font color=b64c35>**Does this mean that you can learn quantum computing and hack the most popular encryption protocols anytime soon?**</font><br />\n",
    "No. In order to break them, you would need quantum computers with a large number of qubits (a qubit being the quantum equivalent of a bit, both of which you will learn a lot more about in this course). The current technological state-of-the-art allows us to realize quantum computers with far fewer qubits than is required to break the commonly used encryption protocols. Moreover, the kind of qubits that are available right now are far from perfect: they are quite noisy. We are still some time away from having a quantum computer that can quickly factor large numbers. By some estimates, we will get there in 10 years, and by others it will take 20 years or more.\n",
    "\n",
    "<font color=b64c35>**So, what kind of tasks can you perform on near term quantum computers?**</font><br />\n",
    "The era of quantum computing is in its infancy. We are in the exciting first stages of a revolution in the field of computing. Right now, we have quantum computers with 50-100 noisy qubits. It turns out that such few noisy qubits are already enough to perform some specialized tasks faster than classical computers. Very recently, Google published their results demonstrating an experiment where a quantum computer was able to perform a certain calculation in 200 seconds - the same calculation would have taken a classical computer more than 10,000 years! You can see Google's celebration video <a href=\"https://www.youtube.com/watch?v=-ZNEzzDcllU\">here</a>, and a great explanation of what exactly they did <a href=\"https://www.youtube.com/watch?v=vTYp5Kd9nMA\">here</a>. The future is bright, and with further experimental and theoretical advances, we hope that some really important problems in quantum chemistry and high energy physics may become tractable soon enough.\n",
    "\n",
    "Based on the current scenario, here are the reasons for learning quantum computing: <br />\n",
    "- Quantum computing is still a nascent field with a potential to revolutionize the world of computing;\n",
    "- Understanding its most core fundamentals, and being able to run basic computations is within the reach of this introductory course;\n",
    "- A working knowledge of classical programming is increasingly often listed as a requirement for occupations in industry, and expertise in classical programming is in even higher demand. We expect a similar trend to take place in the next decades for quantum computing;\n",
    "- Quantum computing is cool! It challenges your intuition, and it pushes you to think both rigorously and outside-the-box. It is a unique combination of Mathematics, Physics and Computer Science.\n",
    "\n",
    "\n"
   ]
  },
  {
   "cell_type": "markdown",
   "metadata": {},
   "source": [
    "<font size=3 color=b64c35>Prev module:</font><font size=4 color=b64c35></font> &nbsp;&nbsp;&nbsp; &nbsp;&nbsp; &nbsp;&nbsp;&nbsp; &nbsp;&nbsp; &nbsp;&nbsp;&nbsp; &nbsp;&nbsp; &nbsp;&nbsp;&nbsp; &nbsp;&nbsp; &nbsp;&nbsp;&nbsp; &nbsp;&nbsp; &nbsp;&nbsp;&nbsp; &nbsp;&nbsp; &nbsp;&nbsp;&nbsp; &nbsp;&nbsp; &nbsp;&nbsp;&nbsp; &nbsp;&nbsp; &nbsp;&nbsp;&nbsp; &nbsp;&nbsp; &nbsp;&nbsp;&nbsp; &nbsp;&nbsp; &nbsp;&nbsp;&nbsp; &nbsp;&nbsp; &nbsp;&nbsp;&nbsp; &nbsp;&nbsp; &nbsp;&nbsp;&nbsp; &nbsp;&nbsp; &nbsp;&nbsp;&nbsp; &nbsp;&nbsp; &nbsp;&nbsp;&nbsp; &nbsp;&nbsp; \n",
    "<font size=3 color=b64c35>Next module: </font> <font size=4 color=b64c35>[1. Quantum Mechanics](./01_Quantum_Mechanics.ipynb)</font> "
   ]
  },
  {
   "cell_type": "markdown",
   "metadata": {},
   "source": [
    "<!-- <h1 style=\"color:MediumSeaGreen;\">Overview of the course</h1>\n",
    "\n",
    "As human beings we are programmed to crave instant gratification. This is, while knowing that all good things require prolong effort and hard work. We recognize this and would like to offer you a bird's eye view of the course in a single notebook. In the following section, we list the modules of the course while briefly talking about contents of each module. We sincerely hope that you would work through the whole course, but even if you decide to spend few hours on just the following section, you would have decent knowledge about quantum computers and their working. \n",
    "\n",
    "To jump right into it, first section is:\n",
    "1. [Classical computing](1_Classical_computing.ipynb): In order to fully appreciate the magic of quantum computing, it will be nice to learn/refresh classical computing. We will appreciate quantum much more against a backdrop of classcial computing. <br />\n",
    "The basis of all the digital computers we know is just an electrical switch called transistor. The two states of the transistor, 0 and 1, repesent one bit of information. The information is represented in terms of this bit, all your data, pictures, videos, are nothing but 0s and 1s. Check out the following code to see it for yourself. -->"
   ]
  },
  {
   "cell_type": "markdown",
   "metadata": {},
   "source": [
    "<!-- # from scipy import misc\n",
    "# f = misc.face()\n",
    "# import matplotlib.pyplot as plt\n",
    "# # Uncomment the following code to see the picture\n",
    "# # plt.imshow(f)\n",
    "# # plt.show()\n",
    "\n",
    "# ## Uncomment the following code to see matrix for the picture.\n",
    "# # print(f) -->"
   ]
  },
  {
   "cell_type": "markdown",
   "metadata": {},
   "source": [
    "<!-- The takeaway from the above code is that all the data is stored as 0s and 1s which are then converted to appropriate outputs. This stored data/information is manipulated using some basic operations like OR, AND, XOR, NOT, NAND, etc.  gates. Lots of gates may be cascaded to form a circuit. These circuits implement algorithms. To summarize main points for classical computers:\n",
    "1. The basic units of classical/digital computers are bits. Bits could take on values, 0 and 1. For example, two bits could be in any of the following states, 00, 01, 10, and 11. It is important to note that at any given point, a single bit could take only one of the two options, 0 and 1.\n",
    "2. Gate operations are used to manipulate the state of the bits. It is interesting to note that all the basic operations (OR, AND, etc.) could be created using just the NAND gates. NAND gate is a universal gate for classical computers.\n",
    "3. Algorithms for specific tasks are built using gate operations. -->"
   ]
  },
  {
   "cell_type": "markdown",
   "metadata": {},
   "source": [
    "<!-- 2. [Background Math](2_Background_math.ipynb): -->"
   ]
  },
  {
   "cell_type": "markdown",
   "metadata": {},
   "source": [
    "<!-- \n",
    "3. [Quantum mechanics](3_Quantum_Mechanics.ipynb):\n",
    "4. [Qubits and quantum gates](4_Qubit_and_quantum_gates.ipynb):\n",
    "5. [Quantum computation circuits](5_Circuit_model.ipynb):\n",
    "6. [Quantum Algorithms](6_Quantum_algorithms.ipynb):\n",
    " -->"
   ]
  }
 ],
 "metadata": {
  "kernelspec": {
   "display_name": "Python 3",
   "language": "python",
   "name": "python3"
  },
  "language_info": {
   "codemirror_mode": {
    "name": "ipython",
    "version": 3
   },
   "file_extension": ".py",
   "mimetype": "text/x-python",
   "name": "python",
   "nbconvert_exporter": "python",
   "pygments_lexer": "ipython3",
   "version": "3.6.7"
  },
  "toc-autonumbering": true,
  "widgets": {
   "application/vnd.jupyter.widget-state+json": {
    "state": {},
    "version_major": 2,
    "version_minor": 0
   }
  }
 },
 "nbformat": 4,
 "nbformat_minor": 4
}
