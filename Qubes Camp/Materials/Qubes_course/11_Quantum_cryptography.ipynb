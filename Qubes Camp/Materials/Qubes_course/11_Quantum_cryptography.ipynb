{
 "cells": [
  {
   "cell_type": "markdown",
   "metadata": {},
   "source": [
    "# Quantum Cryptography"
   ]
  },
  {
   "cell_type": "markdown",
   "metadata": {},
   "source": [
    "# Cryptography Basics\n",
    "\n",
    "We want to secretly communicate between two agents, Alice and Bob, without some evesdroper, Eve, intercepting the message.\n",
    "\n",
    "<img src=\"images/Alice_Bob_basic.png\">\n",
    "\n",
    "We will want to encrypt the messsage so that an evesdropper Eve cannot understand it."
   ]
  },
  {
   "cell_type": "markdown",
   "metadata": {},
   "source": [
    "## Symmetric Key Encryption\n",
    "\n",
    "Symmetric keys were used for most of history and work very simply.\n",
    "\n",
    "1. Alice encrypts her message using some mapping.\n",
    "2. Alice sends the encrypted message to Bob.\n",
    "3. Bob, who also knows the mapping, decrypts the message.\n",
    "\n",
    "This is, of course, only possible when Alice and Bob both can agree on a way to encrypt and decrypt the key. One of the oldest symmetric encryption schemes is Ceasar's Cipher:\n",
    "\n",
    "<img src=\"images/Caesar_cipher.png\" width=600>\n",
    "\n",
    "Here, each letter in the alphabet is mapped to the letter a fixed number of positions away. This had the benefit of being easy to remember, but also equally easy to break. If Eve knew the encryptions scheme, she only need try 26 possibilities and could encrypt the message.\n",
    "\n",
    "A more involved code was used by the Nazi's in WWII, called the Enigma machine. This very complicated coding machine implemented a much more complicated mapping, ensuring that determining the encryptions scheme was very hard to determine by testing empirically.\n",
    "\n",
    "<img src=\"images/enigma_encryption.png\" wdith=600>\n",
    "\n",
    "The machine had a series of wheels, which controlled multiple layers of mappings. One could only decode the message if they knew the precise position of the wheels on the machine. The overwhelming number of possible positions means it would be impossible to try each one until decoding the message. Moreover, the wheel positions for messages were changed daily, so determining the position for a single message could not help decrypt other messages older than a day. The only weakness in the system was that the change in positions had to be broadcast to all Enigma operators, but as long as no one could decrypt these messages.\n",
    "\n",
    "The breaking of this code has been immortalized in the movie biopic of Alan Turing, *Imitation Game*. The allies were able to build a computer (the first of its kind), to compute possibilities much faster than humans could. Moreover, once the allies had broken the code, they could decrypt the messages detailing how the wheel positions were to be changed for the following day.\n",
    "\n",
    "Ultimately, it is possible to break any symmetric encryption scheme by learning the encryption protocol. An improvement on this system is asymmetric (or public) key encryption, where it is possible to share information by making it very difficulty for an evesdropper to break the code, even with modern supercomputers. The problem becomes, how can we communicate the change in position of the wheels securely?"
   ]
  },
  {
   "cell_type": "markdown",
   "metadata": {},
   "source": [
    "**Exercise.** Suppose we have a Caesar cipher where each letter is shifted two letters to the right in the alphabet. For example, $A\\rightarrow C$, $B\\rightarrow D$, $Y \\rightarrow B$, and $Z\\rightarrow B$. Decrypt the following message: \"K NKMG SWCPVWO\".\n",
    "\n",
    "**Exercise** Suppose each wheel in the Enigma encoding machine has 100 possibilities each. How many possible encryption methods are there for this encoder with five wheels? Don't forget that the plugboard, which itself has a 26! arrangements."
   ]
  },
  {
   "cell_type": "markdown",
   "metadata": {},
   "source": [
    "## Public Key Encryption\n",
    "\n",
    "Alice and Both will each chose a private key, which we will call $a$ for Alice's private key and $b$ for Bob's private key. Alice and Bob will also agree publicly on two prime numbers $g$ and $q$. We will assume that our evesdropper Eve has access to these numbers. Our scheme will ensure that, at the end of the day, Alice and Bob share some information that Eve cannot know. \n",
    "\n",
    "The scheme works using the function:\n",
    "\n",
    "$$X=g^x \\,\\text{mod}\\, q$$\n",
    "\n",
    "1. Alice sends Bob $X(a)$, which she created using her private key.\n",
    "2. Bob sends Alice $X(b)$, which he created using his private key.\n",
    "3. Alice now knows $X(b)$, and computes $X(b)^a$.\n",
    "4. Bob now knows $X(a)$, and computes $X(a)^b$.\n",
    "5. Alice and Bob now share the value $s=X(a)^b=X(b)^a$.\n",
    "\n",
    "How do we know $X(b)^a=X(a)^b$?\n",
    "\n",
    "$$ X(b)^a=(g^b \\,\\text{mod}\\, q)^a={g^a}^b \\,\\text{mod}\\, q=g^{ab} \\,\\text{mod}\\, q$$\n",
    "$$X(a)^b=(g^a \\,\\text{mod}\\, q)^b={g^b}^a \\,\\text{mod}\\, q=g^{ba} \\,\\text{mod}\\, q$$\n",
    "\n",
    "### Eve's Attempts\n",
    "\n",
    "If Eve knew either $a$ or $b$, she could get the secrete value $s$. How could she calculate $a$, for example? Eve knows the value $X(a)$, so why not just solve the eqution\n",
    "$g^a \\,\\text{mod}\\, q$? It turns out that if we use large enough numbers for $g$ and $q$, this equation is very hard to solve on classical computers. Meaning, it is wildly impractical to try to break this public key encryption scheme.\n",
    "\n",
    "Problem solved then? Wrong! As we will see in the next section, Shor's algorithm and a quantum computer can solve the above equation in a reasonable time. However, quantum computers are nowhere near capable of implementing Shor's algorithm, so our encryption protocals are safe for the distant future. Moreover, by the time quantum computers can implement Shor's algorithm, we should also have time to implement a new security protocol based on quantum computers."
   ]
  },
  {
   "cell_type": "markdown",
   "metadata": {},
   "source": [
    "# Shor's Algorithm Sketch\n",
    "\n",
    "Go far enough to explain that we use superposition to solve many problems at once."
   ]
  },
  {
   "cell_type": "markdown",
   "metadata": {},
   "source": [
    "# Quantum Key Distribution\n",
    "\n",
    "Alice and Bob want to share a secret key without an Evesdropper detecting it. If a quantum channel is used, we will show that it is impossible for Eve to evesdrop without arousing the suspicion of Alice and Bob. The scheme works as follows:\n",
    "\n",
    "1. Alice will send Bob a bit, encoded in either the standard basis or the Hadamard basis. The four possibilities are $\\left|0\\right>$, $\\left|1\\right>$, $\\left|0\\right>_H=\\left|+\\right>$, and $\\left|0\\right>_H=\\left|-\\right>$.\n",
    "2. Bob will measure the bit in a random basis (either standard or Hadamard). There are two possibilities here:\n",
    " - Alice and Bob both use the same basis to encode/decode the bit. In this case, Bob will measure the correct bit with 100% success rate.\n",
    " - Alice and Bob use different basis to encode/decode the bit. In this case, Bob will measure the correct bit only 50% of the time.\n",
    "3. Alice and Bob repeat this process for a bunch of bits.\n",
    "4. After the measurements can publicly discuss which bases they used for each bit. \n",
    " - If they used the same basis on a bit, that bit is now one in which both Alice and Bob know secretly. \n",
    " - If they did not use the same basis, the bit is discarded.\n",
    "\n",
    "### Eve's Evesdropping\n",
    "\n",
    "Suppose Eve wanted to try to interfere with this process. What keeps eve from just measuring the bits that Alice sends to Bob? Nothing, but recall that Eve also does not know which basis Alice used to encode the bit. Moreover, you know from the third axiom of quantum mechanics that Eve's measurement will alter the state of the qubit. About 50% of the time, Eve will guess the basis wrong. Suppose Alice sends the $\\left|0\\right>_H=\\left|+\\right>$ state to Bob. Eve chooses to measure incorrectly in the standard basis. Now, the state of the message is either $\\left| 0\\right>$ or $\\left|1\\right>$. Suppose Bob chooses the same basis as Alice did. If not for Eve, Bob would have measured $\\left|+\\right>$ with 100% probability. Now, this chance is only 50%. Bob now has the wrong key!\n",
    "\n",
    "Don't worry. This is actually a good thing for Alice and Bob. Eve's interference has not messed up Alice and Bob, but rather made her presence known! All Alice and Bob need to do is check a few bits they thought they could agree on to ensure that their answers line up. If they don't line up, Alice and Bob know someone is snooping. In this sense, it is always possible to detect Eve using this protocol, making it absolutely secure!\n",
    "\n",
    "Other than measuring this state, you might think of one other idea to interfere with this process. What if Eve made a copy of the state, then wated for Alice and Bob to publicly discuss which basis they used, and then measure the copy she has kept. We can ensure this doesn't happen because of the *No-cloning Theorem*, which guarantees that Alice and Bob cannot make a copy of the message. This theorem is beyond the scope of this course, but you should take believe us that it is provably true!"
   ]
  }
 ],
 "metadata": {
  "kernelspec": {
   "display_name": "Python 3",
   "language": "python",
   "name": "python3"
  },
  "language_info": {
   "codemirror_mode": {
    "name": "ipython",
    "version": 3
   },
   "file_extension": ".py",
   "mimetype": "text/x-python",
   "name": "python",
   "nbconvert_exporter": "python",
   "pygments_lexer": "ipython3",
   "version": "3.6.8"
  }
 },
 "nbformat": 4,
 "nbformat_minor": 4
}
