{
 "cells": [
  {
   "cell_type": "markdown",
   "metadata": {},
   "source": [
    "<font size=3 color=b64c35>Prev module: </font><font size=4 color=b64c35>[3. Background math: complex numbers](./03_Background_math_complex_numbers.ipynb)</font>  &nbsp;&nbsp;&nbsp; &nbsp;&nbsp; &nbsp;&nbsp;&nbsp; &nbsp;&nbsp; &nbsp;&nbsp;&nbsp; &nbsp;&nbsp; &nbsp;&nbsp;&nbsp; &nbsp;&nbsp; &nbsp;&nbsp;&nbsp; &nbsp;&nbsp; &nbsp;&nbsp;&nbsp; &nbsp;&nbsp; &nbsp;&nbsp;&nbsp; &nbsp;&nbsp; &nbsp;&nbsp;&nbsp; &nbsp;&nbsp; &nbsp;&nbsp;&nbsp; &nbsp;&nbsp; \n",
    "<font size=3 color=b64c35>Next module: </font> <font size=4 color=b64c35>[5. Qubits and quantum gates](./05_Qubit_and_quantum_gates.ipynb)</font>\n",
    "\n",
    "<hr />"
   ]
  },
  {
   "cell_type": "markdown",
   "metadata": {},
   "source": [
    "<h1 style=\"color:MediumSeaGreen;\">Summary</h1>\n",
    "\n",
    "- Vectors\n",
    "- Operations on vectors\n",
    "- Matrices\n",
    "- Operations on matrices"
   ]
  },
  {
   "cell_type": "markdown",
   "metadata": {
    "toc-hr-collapsed": false
   },
   "source": [
    "<h1 style=\"color:MediumSeaGreen;\">Linear Algebra</h1>\n",
    "\n",
    "As we continue to study quantum objects, we will find that using the language of *vectors* and *linear operators* to formulate their behavior is extremely well-suited. The wave function that was briefly introduced at the end of the first module can be represented as a function of position - but this is just one possible representation of quantum states, and as it turns out, one that can be quite clunky. It's worth learning the language of vectors to represent these states instead, which will greatly simplify our thinking later on. \n",
    "\n",
    "A **vector** is a mathematical object that we will be working with, and it can be used to represent the wave function of a quantum object. In general there are many operations you could define to transform vectors. Of these potential operations, we will be interested in **linear transformations** because they are the only ones we need to describe the dynamics of quantum states! A vector contains all the the information that can be known about the quantum system.\n",
    "\n",
    "Like their name implies, linear *transformations* allow us to *transform* a given input vector to an output vector. The term *linear* refers to the fact that these transformations follow certain rules, and preserve certain linear structures, which we will discuss in more detail in this module. The mathematical objects that represent linear transformations are called **matrices**. Linear transformations can tell us how a quantum state at a given point point in time evolves as time passes.\n",
    "\n",
    "*In a nutshell, the state of a quantum system is given by a vector, and to calculate the state at a later time, we just need to perform a linear transformation, which is equivalent to multiplying the quantum object's vector by a matrix.*\n",
    "\n",
    "Now, motivations aside, let's get on with some math!"
   ]
  },
  {
   "cell_type": "markdown",
   "metadata": {},
   "source": [
    "<h2 style=\"color:MediumSeaGreen;\">Vectors</h2>\n",
    "\n",
    "Traditionally, vectors are introduced as quantities which have both a magnitude and a direction, such as position, force, acceleration, velocity, etc. These examples typically make sense only in the three-dimensional setting. However, many of the concepts associated with these vectors actually make sense in a wide array of systems, including those with higher dimensions. \n",
    "\n",
    "More generally, a vector is just a collection of numbers, which refer to as *entries*, in a particular structure. To make clear that we are talking about a vector, we will place these numbers in a column enclosed by large brackets. For example:\n",
    "\n",
    "$$\\begin{bmatrix}\n",
    "3\\\\\n",
    "5\n",
    "\\end{bmatrix}, \\quad\n",
    "\\begin{bmatrix}\n",
    "9\\\\\n",
    "1\\\\\n",
    "23\\\\\n",
    "8\n",
    "\\end{bmatrix}, \\quad\n",
    "\\begin{bmatrix}\n",
    "4.2\\\\\n",
    "3.141592...\\\\\n",
    "\\frac{21}{7}\n",
    "\\end{bmatrix}$$\n",
    "\n",
    "are all vectors. The **dimension** of a vector is the number of entries it contains. The three vectors above have dimension 2, 4, and 3, respectively. In quantum mechanics, we will be dealing with vectors of complex numbers, which are no different, such as:\n",
    "\n",
    "$$\\begin{bmatrix}\n",
    "1+3i\\\\\n",
    "5-2i\n",
    "\\end{bmatrix}$$\n",
    "\n",
    "\n",
    "To use more general notation, a vector has the following form:\n",
    "\n",
    "$$\\begin{bmatrix}\n",
    "c_1\\\\\n",
    "c_2\\\\\n",
    "\\vdots\\\\\n",
    "c_n\\\\\n",
    "\\end{bmatrix}$$\n",
    "\n",
    "The latter is an *$n$-dimensional* vector.\n",
    "\n",
    "<div class=\"alert alert-block alert-info\">\n",
    "When the entries (the numbers $c_i$) are all real numbers, we refer to the of all vectors of the form above with the symbol $\\mathbb{R}^n$. When the entries are allowed to be complex, we refer to the set of all such vectors as $\\mathbb{C}^n$. \n",
    "</div>\n"
   ]
  },
  {
   "cell_type": "markdown",
   "metadata": {
    "toc-hr-collapsed": false
   },
   "source": [
    "<h2 style=\"color:MediumSeaGreen;\">Operations on vectors</h2>\n"
   ]
  },
  {
   "cell_type": "markdown",
   "metadata": {},
   "source": [
    "<h3 style=\"color:#b64c35;\">Addition</h3>\n",
    "Vectors can be added together in a straightforward way. For example, if multiple forces of different magnitudes are applied to an object from different angles, the mechanical or civil engineer would use vector addition to find the total force acting on the object. \n",
    "\n",
    "When we add two vectors together, the resulting vector is obtained by adding the components independently.\n",
    "\n",
    "An example: $$\\begin{bmatrix}\n",
    "1\\\\\n",
    "2\\\\\n",
    "\\end{bmatrix} + \\begin{bmatrix}\n",
    "0\\\\\n",
    "3\\\\\n",
    "\\end{bmatrix} = \\begin{bmatrix}\n",
    "1\\\\\n",
    "5\\\\\n",
    "\\end{bmatrix}$$\n",
    "\n",
    "If this sounds familiar, it's because this is just like complex numbers! In fact, the Complex Plane representation of a single complex number, for example $3+2i = (3,2)$ behaves like a 2-dimensional vector $\\begin{bmatrix}\n",
    "3\\\\\n",
    "2\\\\\n",
    "\\end{bmatrix}$ in many ways!\n",
    "\n",
    "More generally, for $n$-dimensional vectors, we have:\n",
    "\n",
    "$$\\begin{bmatrix}\n",
    "c_1\\\\\n",
    "c_2\\\\\n",
    "\\vdots\\\\\n",
    "c_n\\\\\n",
    "\\end{bmatrix} + \\begin{bmatrix}\n",
    "d_1\\\\\n",
    "d_2\\\\\n",
    "\\vdots\\\\\n",
    "d_n\\\\\n",
    "\\end{bmatrix} = \\begin{bmatrix}\n",
    "c_1 + d_1\\\\\n",
    "c_2 + d_2\\\\\n",
    "\\vdots\\\\\n",
    "c_n + d_n\\\\\n",
    "\\end{bmatrix}$$"
   ]
  },
  {
   "cell_type": "markdown",
   "metadata": {},
   "source": [
    "<h3 style=\"color:#b64c35;\">Multiplication by a scalar</h3>\n",
    "\n",
    "What is a 1-dimensional vector? Well, if a vector is a collection of numbers, can a single number compose a collection by itself? Technically yes, the object $\\begin{bmatrix} 2 \\end{bmatrix}$ is technically a collection of one number, but of course it should be equivalent to just the number itself: $2$. Vectors with 1-dimension (a.k.a. plain old real and complex numbers) are called **scalars**. We can multiply an $n$-dimensional vector by a scalar.  Multiplication of a vector by a scalar is performed by separately multiplying each entry of the vector by the scalar. For example, \n",
    "\n",
    "$$ 3 \\cdot \\begin{bmatrix}\n",
    "1\\\\\n",
    "2\\\\\n",
    "\\end{bmatrix} = \\begin{bmatrix}\n",
    "3 \\cdot 1\\\\\n",
    "3 \\cdot 2\\\\\n",
    "\\end{bmatrix} = \\begin{bmatrix}\n",
    "3\\\\\n",
    "6\\\\\n",
    "\\end{bmatrix}$$\n",
    "\n",
    "(If this seems strange at all, recall that multiplication by a number should be equivalent to repeated addition, and use our definition of element-wise addition from before)\n",
    "$$ \\begin{bmatrix}\n",
    "1\\\\\n",
    "2\\\\\n",
    "\\end{bmatrix}+\\begin{bmatrix}\n",
    "1\\\\\n",
    "2\\\\\n",
    "\\end{bmatrix}+\\begin{bmatrix}\n",
    "1\\\\\n",
    "2\\\\\n",
    "\\end{bmatrix}=\\begin{bmatrix}\n",
    "3\\\\\n",
    "6\\\\\n",
    "\\end{bmatrix}$$\n",
    "\n",
    "Of course, multiplication by a number should also be equivalent to *scaling* by that factor (hence the name, scalar). We can see this visually:\n",
    "\n",
    "<img src=\"images/mult_vec_scalar.gif\" height=\"450\" width=\"450\" />\n",
    "\n",
    "More generally, any $n$-dimensional vector multiplied by some scalar $\\lambda$ obeys:\n",
    "$$\\lambda \\cdot \\begin{bmatrix}\n",
    "c_1\\\\\n",
    "c_2\\\\\n",
    "\\vdots\\\\\n",
    "c_n\\\\\n",
    "\\end{bmatrix} = \\begin{bmatrix}\n",
    "\\lambda \\cdot c_1\\\\\n",
    "\\lambda \\cdot c_2\\\\\n",
    "\\vdots\\\\\n",
    "\\lambda \\cdot c_n\\\\\n",
    "\\end{bmatrix}\n",
    "$$\n",
    "\n",
    "<!--  <p><span style=\"color:blue\">[snippet to play with multiplication]</span>.</p>   DONE! -->\n",
    " "
   ]
  },
  {
   "cell_type": "markdown",
   "metadata": {},
   "source": [
    "<font size=3 color=b64c35>**Exercise.**</font> The following widget shows a two-dimensional vector which can be adjusted to point in any direction. You can also modify the vector by adjusting the scalar in front of it. \n",
    "1. Modify the angle and scalar to create the vector $\\big[ \\begin{smallmatrix} 3 \\\\4  \\\\\\end{smallmatrix}\\big]$.\n",
    "2. Can any vector be specified in this way?"
   ]
  },
  {
   "cell_type": "code",
   "execution_count": null,
   "metadata": {},
   "outputs": [],
   "source": [
    "%run python_functions/scale_vector.py"
   ]
  },
  {
   "cell_type": "markdown",
   "metadata": {},
   "source": [
    "<h3 style=\"color:#b64c35;\">A special set of vectors: the standard basis</h3>\n",
    "\n",
    "As we proceed, it will often be helpful to think of vectors as a combination of a few simpler ones. Take a moment and try to think of what the simplest vectors of 3 elements looks like. If you said any of the following three: $$\\begin{bmatrix} 1\\\\ 0\\\\ 0 \\end{bmatrix},\\,\\, \\begin{bmatrix} 0\\\\ 1\\\\ 0 \\end{bmatrix},\\,\\, \\begin{bmatrix} 0\\\\ 0\\\\ 1 \\end{bmatrix},\\,\\,$$ \n",
    "\n",
    "then quite a lot mathematicians agree with you! By scaling each of these vectors individually and adding them together, you can reproduce any vector of three elements:\n",
    "\n",
    "$$ \\begin{bmatrix}\n",
    "c_1\\\\\n",
    "c_2\\\\\n",
    "c_3\\\\\n",
    "\\end{bmatrix}  = c_1 \\cdot \\begin{bmatrix}\n",
    "1\\\\\n",
    "0\\\\\n",
    "0\\\\\n",
    "\\end{bmatrix} + c_2 \\begin{bmatrix}\n",
    "0\\\\\n",
    "1\\\\\n",
    "0\\\\\n",
    "\\end{bmatrix} +  c_3 \\begin{bmatrix}\n",
    "0\\\\\n",
    "0\\\\\n",
    "1\\\\\n",
    "\\end{bmatrix}$$\n",
    "\n",
    "In technical jargon, the fact that I can write the vector $\\begin{bmatrix} c_1\\\\ c_2\\\\ c_3 \\end{bmatrix}$ as a sum of scaled versions of these three vectors means that $\\begin{bmatrix} c_1\\\\ c_2\\\\ c_3 \\end{bmatrix}$ is a **linear combination** of these three vectors.\n",
    "A vector is a \"linear combination\" of **any** vectors that can be scaled and then added together to reproduce it. For example, $\\begin{bmatrix} 0\\\\ 1\\\\ 1 \\end{bmatrix}$ is a linear combination of the two vectors $\\begin{bmatrix}\n",
    "0\\\\\n",
    "1\\\\\n",
    "0\\\\\n",
    "\\end{bmatrix}$ and $\\begin{bmatrix}\n",
    "0\\\\\n",
    "0\\\\\n",
    "1\\\\\n",
    "\\end{bmatrix}$; but it is *not* a linear combination of the two vectors $\\begin{bmatrix}\n",
    "1\\\\\n",
    "0\\\\\n",
    "0\\\\\n",
    "\\end{bmatrix}$ and $\\begin{bmatrix}\n",
    "0\\\\\n",
    "0\\\\\n",
    "1\\\\\n",
    "\\end{bmatrix}$, because there is no way to scale and combine these two vectors that will ever lead to a nonzero second element!\n",
    "\n",
    "What makes the full three vectors special, as referenced before, is that no matter what, there will always be a way to scale and combine them to reproduce any 3-dimensional vector. This is why it is referred to as the **standard basis** for 3-dimensional vectors. In general, the standard basis of the set of $n$-dimensional vectors are the $n$ vectors:\n",
    "\n",
    "$$ \\begin{bmatrix}\n",
    "1\\\\\n",
    "0\\\\\n",
    "0\\\\\n",
    "\\vdots\\\\\n",
    "0\\\\\n",
    "\\end{bmatrix},\\,\\,\\begin{bmatrix}\n",
    "0\\\\\n",
    "1\\\\\n",
    "0\\\\\n",
    "\\vdots\\\\\n",
    "0\\\\\n",
    "\\end{bmatrix},\\,\\,\\begin{bmatrix}\n",
    "0\\\\\n",
    "0\\\\\n",
    "1\\\\\n",
    "\\vdots\\\\\n",
    "0\\\\\n",
    "\\end{bmatrix},\\,\\, \\ldots\\,\\, \\begin{bmatrix}\n",
    "0\\\\\n",
    "0\\\\\n",
    "0\\\\\n",
    "\\vdots\\\\\n",
    "1\\\\\n",
    "\\end{bmatrix}$$\n",
    "\n",
    "You can think of the standard basis as a special set of vectors which *defines* a preferred coordinate system. If you think of a vector as a geometrical object which lives in $n$-dimensional real or complex space, then the standard basis provides the *axes* of the coordinate system, and the coefficients $c_i$'s are the *coordinates* of the vector in this system. \n",
    "\n",
    "However, the standard basis is not the only choice of coordinate system: one could choose a different set of $n$ vectors, and this would change the coordinates which specify the vector.\n",
    "\n",
    "\n",
    "\n",
    "Any set of $n$ vectors, in which no single vector is any linear combination of any of the others, serves as a valid alternative basis for the set of all possible $n$-dimensional vectors."
   ]
  },
  {
   "cell_type": "markdown",
   "metadata": {},
   "source": [
    "<font size=3 color=b64c35>**Example.**</font> As an example, the standard basis in 2 dimensions is $\\left\\{\\begin{bmatrix}\n",
    "1\\\\\n",
    "0\\\\\n",
    "\\end{bmatrix}, \\begin{bmatrix}\n",
    "0\\\\\n",
    "1\\\\\n",
    "\\end{bmatrix}\\right\\}$. One could choose instead the coordinate system specified by the \"basis vectors\" $\\left\\{\\begin{bmatrix}\n",
    "1\\\\\n",
    "1\\\\\n",
    "\\end{bmatrix}, \\begin{bmatrix}\n",
    "1\\\\\n",
    "-1\\\\\n",
    "\\end{bmatrix}\\right\\}$. Call the latter set $\\mathcal{B}'$.\n",
    "\n",
    "Then, take for instance the vector represented in the standard basis as $\\begin{bmatrix}\n",
    "2\\\\\n",
    "-2\\\\\n",
    "\\end{bmatrix}$. In the new basis $\\mathcal{B}'$, this vector is represented as $\\begin{bmatrix}\n",
    "0\\\\\n",
    "2\\\\\n",
    "\\end{bmatrix}_{\\mathcal{B}'}$. You can check in fact that \n",
    "\n",
    "$$ 0 \\cdot \\begin{bmatrix}\n",
    "1\\\\\n",
    "1\\\\\n",
    "\\end{bmatrix} + 2 \\cdot \\begin{bmatrix}\n",
    "1\\\\\n",
    "-1\\\\\n",
    "\\end{bmatrix} = \\begin{bmatrix}\n",
    "2\\\\\n",
    "-2\\\\\n",
    "\\end{bmatrix}.$$"
   ]
  },
  {
   "cell_type": "markdown",
   "metadata": {},
   "source": [
    "<font size=3 color=b64c35>**Exercise.**</font> Any vector in two dimensions can be written as linear combination of the standard basis vectors. Using the widget below, scale the basis vectors to construct the vector $v$."
   ]
  },
  {
   "cell_type": "code",
   "execution_count": null,
   "metadata": {},
   "outputs": [],
   "source": [
    "%run python_functions/vector_basis.py"
   ]
  },
  {
   "cell_type": "markdown",
   "metadata": {},
   "source": [
    "<font size=3 color=b64c35>**Exercise.**</font> The widget below allows you to specify a basis of your choice:\n",
    "$$\\left\\{\\vec{a}, \\vec{b}\\right\\} = \\left\\{ \\begin{bmatrix}\n",
    "a_1\\\\\n",
    "a_2\\\\\n",
    "\\end{bmatrix} \\,,\\, \\begin{bmatrix}\n",
    "b_1\\\\\n",
    "b_2\\\\\n",
    "\\end{bmatrix} \\right\\} \\,,$$\n",
    "and to subsequently construct vectors as linear combinations of the basis elements, by specifying the coefficients $\\alpha$ and $\\beta$ in the linear combination, i.e. you can construct the vector \n",
    "\n",
    "$$\\vec{v} = \\alpha \\begin{bmatrix}\n",
    "a_1\\\\\n",
    "a_2\\\\\n",
    "\\end{bmatrix} + \\beta \\begin{bmatrix}\n",
    "b_1\\\\\n",
    "b_2\\\\\n",
    "\\end{bmatrix} $$\n",
    "\n",
    "As you play with the widget, you should think about the following:\n",
    "1. Not all choices for the vectors $\\vec{a}$ and $\\vec{b}$ yield a basis. What are the restrictions on $\\vec{a}$ and $\\vec{b}$ such that we can use them to generate any vector $\\vec{v}$?\n",
    "2. Consider the set of all points that can be generated when the coefficient $\\alpha = 0$. What geometric shape does this set describe?"
   ]
  },
  {
   "cell_type": "code",
   "execution_count": null,
   "metadata": {},
   "outputs": [],
   "source": [
    "%run python_functions/vector_basis_extended.py"
   ]
  },
  {
   "cell_type": "markdown",
   "metadata": {},
   "source": [
    "<h3 style=\"color:#b64c35;\">Magnitude of vectors</h3>\n",
    "\n",
    "<img src=\"images/vec_mag.gif\" height=\"450\" width=\"450\" />\n",
    "\n",
    "In 2 or 3 dimensions, you may be used to thinking of the **magnitude** of a vector as its *physical length* when represented in a 2 or 3-dimensional coordinate system. For example, the displacement vector $v = \\begin{bmatrix} x\\\\ y \\end{bmatrix}$, describing a particle's horizontal and vertical position, has a length that can be calculated using the Pythagorean Theorem: $c^2 = x^2 + y^2$.\n",
    "\n",
    "The concept of magnitude, which is also called the **norm**, is very similar for any higher dimensional complex vector - for any complex vector $v = \\begin{bmatrix} v_1\\\\ v_2\\\\ \\vdots\\\\ v_n \\end{bmatrix}$, we define the magnitude $|v|$ in terms of the sum of the squares of the **magnitudes of its entries**:\n",
    "\n",
    "$$|v|^2 = |v_1|^2 + |v_2|^2 + \\ldots + |v_n|^2$$\n",
    "\n",
    "Meaning that \n",
    "\n",
    "$$|v| = \\sqrt{\\sum_{i=1}^n |v_i|^2}$$\n",
    "\n",
    "This is the extension of the Pythagorean Theorem to more than just two dimensions, but rememeber: if an entry of a vector $v_i$ is complex, we don't just square it in this definition. The square of the magnitude of a complex number is the complex number *times its own complex conjugate*: $|v_i|^2 = v \\cdot\\bar{v}$. "
   ]
  },
  {
   "cell_type": "markdown",
   "metadata": {},
   "source": [
    "<font size=3 color=b64c35>**Exercise.**</font> We saw in a previous exercise that we can specify a vector by two quantities: 1) its angle $\\theta$ with respect to the $x$-axis and 2) its magnitude. Suppose we wanted to fix one of those quantities and describe the set of all possible vectors of magnitude $|v|=1$. How could we describe this set based on a single parameter $\\theta$? \n",
    "1. Write a two-dimensional vector $v$ whose elements depend on the angle $\\theta$. (Hint: you will use the fact that $\\cos^2\\theta +\\sin^2\\theta=1$.)\n",
    "2. With this expression, write down the specific vectors corresponding to the following values of $\\theta$:\n",
    "  - $\\theta=0$\n",
    "  - $\\theta=\\tfrac{\\pi}{2}$\n",
    "  - $\\theta=\\tfrac{\\pi}{4}$\n",
    "  - $\\theta=-\\tfrac{\\pi}{4}$.\n",
    "3. Rewrite these vectors as a linear combination of the standard basis vectors, $\\big[ \\begin{smallmatrix} 1 \\\\0  \\\\\\end{smallmatrix}\\big]$ and $\\big[ \\begin{smallmatrix} 0 \\\\1  \\\\\\end{smallmatrix}\\big]$.\n",
    "4. The set we described in part 1 is an infinite set (i.e. it contains infinitely many elements). If we were to plot all of these vectors on the $xy$-plane, what geometric shape would we see?"
   ]
  },
  {
   "cell_type": "markdown",
   "metadata": {},
   "source": [
    "<font size=3 color=b64c35>**Exercise.**</font> Let's explore what makes a vectors long or short. Suppose we wanted to \"build\" a vector from \"building blocks\": suppose we have ten vectors of magnitude 1, that can be arranged in the direction of either the $x$, $y$, or $z$ axis (subject to the constraints that all vectors along one axis must point in the same direction.).\n",
    "1. Using all \"building blocks\", how can we build the longest possible vector (by adding up the building blocks)?\n",
    "2. Using all ten \"building blocks\", how can we build the shortest possible vector ((by adding up the building blocks)?\n",
    "3. How do the answers to questions 1 and 2 change if we allow vectors along the same axis to point in opposite directions?"
   ]
  },
  {
   "cell_type": "code",
   "execution_count": null,
   "metadata": {},
   "outputs": [],
   "source": [
    "%run python_functions/build_vector.py"
   ]
  },
  {
   "cell_type": "markdown",
   "metadata": {},
   "source": [
    "<h3 style=\"color:#b64c35;\">Multiplying vectors</h3>\n",
    "\n",
    "Now let's talk about *multiplying* vectors. We define the product of **two real vectors $v$ and $w$**, called the **inner product** or **dot product**, as the *sum of the products of the corresponding elements of $v$ and $w$*. \n",
    "\n",
    "$$\\text{Inner Product}(v, w) = (v_1\\cdot w_1) + (v_2\\cdot w_2) + \\ldots + (v_n\\cdot w_n) \\,.$$\n",
    "\n",
    "You will find the inner product between $v$ and $w$ often written in the following form:\n",
    "\n",
    "$$v^T \\cdot w = \\begin{bmatrix} v_1 & v_2 & \\ldots & v_n \\end{bmatrix}\\cdot \\begin{bmatrix} w_1\\\\ w_2\\\\ \\vdots\\\\ w_n \\end{bmatrix}$$\n",
    "\n",
    "Here\n",
    "\n",
    "$$v^T= \\begin{bmatrix} v_1 & v_2 & \\ldots & v_n \\end{bmatrix} $$\n",
    "\n",
    "is referred to as $v$ **transposed**. It is nothing but $v$ with its elements laid out in a row rather than in a column. \n",
    "\n",
    "In most contexts, vectors are columns of entries, in which case they are referred to as *column vectors*. Transposing a column vector into a row vector does not affect the properties we've discussed so far: it is simply a notational choice, whose motivation will become more apparent once we discuss the multiplication of matrices and vectors.\n",
    "\n",
    "**Note:** The inner product of two vectors is **just a scalar**, just a number. This is different from the addition or subtraction of vectors, which returns another vector."
   ]
  },
  {
   "cell_type": "markdown",
   "metadata": {},
   "source": [
    "<font color='b64c35' size=4.5>Square of a Vector</font><br> \n",
    "\n",
    "Equipped with multiplication of two vectors, can I square a vector? Well, I can certainly take the inner product between a vector and itself:\n",
    "\n",
    "$$v^T \\cdot v = (v_1 \\cdot v_1) + \\ldots + (v_n \\cdot v_n) = v_1^2 + v_2^2 + \\ldots + v_n^2$$\n",
    "\n",
    "But wait a moment - this is exactly the same expression as the square of the magnitude of $v$! This is no coincidence; this equality is highly suggestive even in the notation we use:\n",
    "$$v^T \\cdot v = |v|^2$$\n",
    "So the inner product of a vector with itself, the natural way to \"square\" the vector, is actually equal to the square of the magnitude of the vector.\n",
    "\n",
    "<font color='b64c35' size=4.5>Complex Vectors</font><br> \n",
    "\n",
    "When taking inner products of vectors with complex entries, there is a single additional caveat. Not only is the first vector transposed, but each entry is also replaced by its *complex conjugate*:\n",
    "\n",
    "$$\\text{Inner Product}(c, d) = \\begin{bmatrix} \\bar{c_1} & \\bar{c_2} \\end{bmatrix} \\cdot \\begin{bmatrix} d_1\\\\d_2 \\end{bmatrix}$$\n",
    "\n",
    "With this additional step, the process is referred to as taking the **conjugate transpose**. To make it distinct from transposition without complex conjugation, this operation (which is also called the **adjoint** in quantum mechanics) is denoted with the $\\dagger$ symbol, called \"dagger\" instead of $T$. So, just like how the inner product between two real vectors $v$ and $w$ looks like $v^T\\cdot w$, the inner product between two complex vectors $c$ and $d$ looks like $c^\\dagger d$:\n",
    "\n",
    "$$ c^\\dagger \\cdot d = \\begin{bmatrix} \\bar{c_1} & \\bar{c_2} & \\ldots & \\bar{c_n} \\end{bmatrix} \\cdot \\begin{bmatrix} d_1\\\\ d_2\\\\ \\vdots\\\\ d_n \\end{bmatrix} $$\n",
    "\n",
    "Let's tackle a concrete example:\n",
    "\n",
    "$$\\text{Inner Product}\\Bigg(\\begin{bmatrix} 5-2i\\\\ 3+1i \\end{bmatrix},\\, \\begin{bmatrix} 4+3i \\\\ 6-3i \\end{bmatrix} \\Bigg) = \\begin{bmatrix} 5+2i & 3-1i \\end{bmatrix} \\cdot \\begin{bmatrix} 4+3i \\\\ 6-3i \\end{bmatrix} = (5+2i)\\cdot(4+3i) + (3-1i)\\cdot(6-3i) \\\\ = \\big(20+(15i+8i)+6i^2\\big) + \\big(18+(-9i-6i)+3i^2\\big) = (20 + 23i - 6) + (18 - 15i - 3) = 29 + 8i$$ \n",
    "\n",
    "Just like real vectors, the inner product returns just a number, but of course this time it can be a complex number.\n",
    "\n",
    "Why do we do this adjoint thing? What's wrong with just treating complex vectors the same? Let's check out what the square of a complex vector is to get a hint!\n",
    "\n",
    "$$c^\\dagger \\cdot c = \\begin{bmatrix} \\bar{c_1} & \\bar{c_2} & \\ldots & \\bar{c_n} \\end{bmatrix} \\cdot \\begin{bmatrix} c_1\\\\ c_2\\\\ \\vdots\\\\ c_n \\end{bmatrix} = (\\bar{c_1} c_1) + (\\bar{c_2} c_2) + \\ldots + (\\bar{c_n} c_n) = |c_1|^2 + |c_2|^2 + \\ldots + |c_n|^2$$\n",
    "\n",
    "So by defining the inner product on complex vectors to conjugate all the elements of one vector, we guarantee that the inner product of a vector with itself equals its magnitude!\n",
    "\n",
    "$$c^\\dagger c = |c|^2$$ "
   ]
  },
  {
   "cell_type": "markdown",
   "metadata": {},
   "source": [
    "<font size=3 color=b64c35>**Exercise.**</font> It turns out that the inner product of two real vectors $v, w$ can also be written in terms of only the magnitude of each vector and the angle between them:\n",
    "$$ v^T \\cdot w = |v| |w| \\cos{\\theta},$$\n",
    "\n",
    "The inner product of two vectors with a fixed length is directly correlated to the cosine of the angle between them. \n",
    "1. In the case that $w=v$, the angle between them is zero. Show that the equation holds in this case.\n",
    "2. For what value of $\\theta$ is the dot product $v\\cdot w$ maximum?\n",
    "3. For what value of $\\theta$ is the dot product $v\\cdot w$ minimum?\n",
    "4. For what value of $\\theta$ is the dot product $v\\cdot w$ zero?"
   ]
  },
  {
   "cell_type": "code",
   "execution_count": null,
   "metadata": {},
   "outputs": [],
   "source": [
    "%run python_functions/dot_product.py"
   ]
  },
  {
   "cell_type": "markdown",
   "metadata": {},
   "source": [
    "This last condition turns out to be really useful. In four or more dimensions, when we can no longer define an angle (geometrically speaking) between to vectors. Instead, we can define the generalization of perpendicular-ness as follows: \n",
    ">Two $n$-dimensional vectors $v$ and $w$ are **orthogonal** if and only if their inner product is equal to zero: $v^T \\cdot w = 0$."
   ]
  },
  {
   "cell_type": "markdown",
   "metadata": {},
   "source": [
    "<h3 style=\"color:#b64c35;\">Vectors in NumPy</h3>\n",
    "\n",
    "Manipulating vectors and matrices is where the `numpy` module truly shines. You can spend some time familiarizing with vectors and their operations by playing with the following code snippets."
   ]
  },
  {
   "cell_type": "markdown",
   "metadata": {},
   "source": [
    "**Row Vector.** A row vector is created using the function `array` in `numpy`. The entries of the vector are separated by a comma and are enclosed in a square bracket. The following line defines a three dimensional vector."
   ]
  },
  {
   "cell_type": "code",
   "execution_count": null,
   "metadata": {},
   "outputs": [],
   "source": [
    "import numpy as np\n",
    "row_vec = np.array([9, 8, 6])\n",
    "print(row_vec)"
   ]
  },
  {
   "cell_type": "markdown",
   "metadata": {},
   "source": [
    "**Column Vector.** To create a column vector, we need to make a 2D `numpy` `array`. To do this we need to create a \"list of lists\". As you saw with the row vector, the list of things corresponded to a row. To create a column, we just need two or more rows. Hence, each element of a column vector is actually a row containing only a single element. By creating a list of single element rows, we create a column vector as follows:"
   ]
  },
  {
   "cell_type": "code",
   "execution_count": null,
   "metadata": {},
   "outputs": [],
   "source": [
    "col_vec = np.array([[1], \n",
    "                  [2], \n",
    "                  [3]])\n",
    "print(col_vec)"
   ]
  },
  {
   "cell_type": "markdown",
   "metadata": {},
   "source": [
    "**Getting Vector Elements.** Once we have defined a vector, it is easy to extract a single element by specifying its index. Indices are ordered in ascending order starting from $0$. Let's get the second element of both `row_vec` and `col_vec`."
   ]
  },
  {
   "cell_type": "code",
   "execution_count": null,
   "metadata": {},
   "outputs": [],
   "source": [
    "print('The second entry of row_vec is', row_vec[1])\n",
    "print('The second entry of col_vec is', col_vec[1])"
   ]
  },
  {
   "cell_type": "markdown",
   "metadata": {},
   "source": [
    "Notice that the second entry of the column vector is not just a number, as was the case in the row vector. Instead it is a list with a single element inside it. To get the actual number, we can do the following:"
   ]
  },
  {
   "cell_type": "code",
   "execution_count": null,
   "metadata": {},
   "outputs": [],
   "source": [
    "print(col_vec[1][0])"
   ]
  },
  {
   "cell_type": "markdown",
   "metadata": {},
   "source": [
    "Here, we have taken the second element of the column vector (corresponding to the second row), and then taken from *that* row the first and only element inside, using the `'0'` index.\n",
    "\n",
    "**Turning Column Vectors to Row Vectors.** To turn a column vector into a row vector, we use the transpose function:"
   ]
  },
  {
   "cell_type": "code",
   "execution_count": null,
   "metadata": {},
   "outputs": [],
   "source": [
    "row_vec_transposed = col_vec.transpose()\n",
    "print('The transposed version of vec_1 is:')\n",
    "print(row_vec_transposed)"
   ]
  },
  {
   "cell_type": "markdown",
   "metadata": {},
   "source": [
    "Notice that the output here is a 2D array, meaning there is a row with three elements, inside a list of columns with only one column in it. To get a typical row vector, we can simply index as follows:"
   ]
  },
  {
   "cell_type": "code",
   "execution_count": null,
   "metadata": {},
   "outputs": [],
   "source": [
    "normal_row_vec=row_vec_transposed[0]\n",
    "print(normal_row_vec)"
   ]
  },
  {
   "cell_type": "markdown",
   "metadata": {},
   "source": [
    "**Adding Vectors.** You can add vectors with +, as long as they're either both row vectors or both column vectors and have the same dimension:"
   ]
  },
  {
   "cell_type": "code",
   "execution_count": null,
   "metadata": {},
   "outputs": [],
   "source": [
    "row_vec_1=np.array([9,8,6])\n",
    "row_vec_2=np.array([1,2,3])\n",
    "print(row_vec_1+row_vec_2)"
   ]
  },
  {
   "cell_type": "markdown",
   "metadata": {},
   "source": [
    "**Multiplication by a Scalar.** We can also multiply a row or column vector by a scalar as follows."
   ]
  },
  {
   "cell_type": "code",
   "execution_count": null,
   "metadata": {},
   "outputs": [],
   "source": [
    "row_vec_scaled=5*row_vec\n",
    "col_vec_scaled=5*col_vec\n",
    "print('Scaled row vector', row_vec_scaled)\n",
    "print('Scaled column vector\\n',col_vec_scaled)"
   ]
  },
  {
   "cell_type": "markdown",
   "metadata": {},
   "source": [
    "**Inner Product.** The inner product, or dot product, uses `np.dot()`. Recall that this is a scalar quantity. Notice that the format of the output is slightly differend depending on whether we use vectors of the same type. Don't be too worried about this, you can simply adjust your output to be in whatever format you need it."
   ]
  },
  {
   "cell_type": "code",
   "execution_count": null,
   "metadata": {},
   "outputs": [],
   "source": [
    "dot_product_row_row=np.dot(row_vec_1, row_vec_2)\n",
    "dot_product_row_col=np.dot(row_vec,col_vec)\n",
    "print('row, row:', dot_product_row_row)\n",
    "print('row, col:', dot_product_row_col)"
   ]
  },
  {
   "cell_type": "markdown",
   "metadata": {},
   "source": [
    "**Magnitude.** The magnitude, or norm of the vector, is a function in the `linalg` sub-package in `numpy`. To access functions in sub-packages in python, we use `package.subpackage.function`. In this case we use `np.linalg.norm()` as follows:"
   ]
  },
  {
   "cell_type": "code",
   "execution_count": null,
   "metadata": {},
   "outputs": [],
   "source": [
    "magnitude=np.linalg.norm(col_vec)\n",
    "print(magnitude)"
   ]
  },
  {
   "cell_type": "markdown",
   "metadata": {},
   "source": [
    "Notice that transforming a vector from a column to a row and vice versa doesn't affect its length:"
   ]
  },
  {
   "cell_type": "code",
   "execution_count": null,
   "metadata": {},
   "outputs": [],
   "source": [
    "magnitude=np.linalg.norm(row_vec)\n",
    "magnitude_transpose=np.linalg.norm(row_vec.transpose())\n",
    "print('Magnitude', magnitude)\n",
    "print('Magnitude of transpose', magnitude_transpose)"
   ]
  },
  {
   "cell_type": "markdown",
   "metadata": {
    "toc-hr-collapsed": false
   },
   "source": [
    "<h2 style=\"color:MediumSeaGreen;\">Matrices</h2>\n",
    "\n",
    "Matrices are ubiquitous throughout mathematics. You might have encountered matrices when you studied systems of linear equations. Matrices are especially important in quantum information as they specify linear transformations, and they govern how quantum states evolve. As we will teach you in the next module, *quantum states* are nothing more than vectors. The vectors evolve according to *quantum gates*, which themselves are nothing other than matrices; applying a quantum gate to a quantum state simply amounts to multiplying a matrix by a vector.\n",
    "\n",
    "A matrix is a collection of numbers arranged in $m$ rows of $n$ entries, or equivalently in $n$ columns of $m$ entries, where $m$ and $n$ are integers, as follows:\n",
    "\n",
    "<img src=\"images/matrix_detail.png\" height=\"450\" width=\"450\" />\n",
    "\n",
    "We call this an $m \\times n$ matrix. If the entries $a_{ij}$ are real numbers, then we call this an $m \\times n$ real matrix. If they are allowed to be complex numbers, we call it an $m \\times n$ complex matrix.\n",
    "\n",
    "For example, the following is a $2 \\times 3$ real matrix:\n",
    "\n",
    "$$ \\begin{bmatrix}\n",
    "3 & 0 & 7\\\\\n",
    "9 & 12 & 20\n",
    "\\end{bmatrix}\n",
    "$$\n",
    "\n",
    "And this is a $3 \\times 1$ complex matrix:\n",
    "\n",
    "$$ \\begin{bmatrix}\n",
    "8+3i\\\\\n",
    "3-10i\\\\\n",
    "5-6i \\end{bmatrix}\n",
    "$$\n",
    "\n",
    "If this looks like a vector, that's because it is! An $n$-dimensional vector is just an $n\\times1$ matrix!"
   ]
  },
  {
   "cell_type": "markdown",
   "metadata": {},
   "source": [
    "<h3 style=\"color:#b64c35;\">Adding Matrices and Scalar Multiplication</h3>\n",
    "\n",
    "Just like vectors, two matrices can be added together. In order for this to be possible, the matrices must have the same dimensions. In this case, the result is a matrix with the same dimensions, where each entry is the sum of the corresponding entries in the two matrices being added. For example, \n",
    "\n",
    "$$\\begin{bmatrix} 3 & 2\\\\ 1 & 3 \\end{bmatrix} + \\begin{bmatrix} 4 & 1\\\\ 2 & 7 \\end{bmatrix} = \\begin{bmatrix} 7 & 3\\\\ 3 & 10 \\end{bmatrix}$$\n",
    "\n",
    "Also just like a vector, when multiplying a matrix by a scalar, each element of a matrix is multiplied. For example,\n",
    "\n",
    "$$2 \\cdot \\begin{bmatrix} 1 & 3 & 5\\\\ 2 & 6 & 2 \\end{bmatrix} = \\begin{bmatrix} 2 & 6 & 10\\\\ 4 & 12 & 4 \\end{bmatrix}$$"
   ]
  },
  {
   "cell_type": "markdown",
   "metadata": {},
   "source": [
    "<h3 style=\"color:#b64c35;\">Multiplying a matrix and a vector</h3>\n",
    "\n",
    "Matrices and vectors can also be multiplied! This is a *very* important operation for quantum computing, as we mentioned earlier. So, take as long as you need to make sure you understand the next few sections.\n",
    "\n",
    "Let's start by multiplying a $2 \\times 2$ matrix and a $2$-dimensional vector. Let's take the matrix $M = \\begin{bmatrix} 1 & 2\\\\ 3 & 4\\\\ \\end{bmatrix}$ and the $2$-dimensional vector $v = \\begin{bmatrix}\n",
    "5 \\\\\n",
    "6 \\\\\n",
    "\\end{bmatrix}$.\n",
    "\n",
    "The product between these two, $M\\cdot v$, is a sequence of inner products. Consider each row of the matrix as if it were a row vector, like this:\n",
    "\n",
    "$$M = \\begin{bmatrix} 1 & 2\\\\ 3 & 4\\\\ \\end{bmatrix} =\n",
    "\\begin{bmatrix}\n",
    "    \\begin{bmatrix} 1 & 2\\\\ \\end{bmatrix} \\\\\n",
    "    \\begin{bmatrix} 3 & 4\\\\ \\end{bmatrix} \\\\\n",
    "\\end{bmatrix}$$\n",
    "\n",
    "In this case, the product of $M$ and $v$ is a *vector* whose entries are the inner products of these row vectors with the column vector $v$:\n",
    "\n",
    "$$M \\cdot v = \n",
    "\\begin{bmatrix}\n",
    "    \\begin{bmatrix} 1 & 2\\\\ \\end{bmatrix} \\\\\n",
    "    \\begin{bmatrix} 3 & 4\\\\ \\end{bmatrix} \\\\\n",
    "\\end{bmatrix} \\cdot \\begin{bmatrix} 5 \\\\ 6 \\\\ \\end{bmatrix} = \n",
    "\\begin{bmatrix}\n",
    "    \\Big( \\begin{bmatrix} 1 & 2\\\\ \\end{bmatrix} \\cdot \\begin{bmatrix} 5 \\\\ 6 \\\\ \\end{bmatrix}\\Big)\\\\\n",
    "    \\Big( \\begin{bmatrix} 3 & 4\\\\ \\end{bmatrix} \\cdot \\begin{bmatrix} 5 \\\\ 6 \\\\ \\end{bmatrix}\\Big) \\\\\n",
    "\\end{bmatrix} = \\begin{bmatrix}\n",
    "17 \\\\\n",
    "39 \\\\\n",
    "\\end{bmatrix}\n",
    "$$"
   ]
  },
  {
   "cell_type": "markdown",
   "metadata": {},
   "source": [
    "Notice that this operation only makes sense if each row of the matrix has the same number of entries as the vector you are trying to multiply it with. This means that for the multiplication of a matrix with a $n$-dimensional vector to be well-defined, the matrix must have dimension $m\\times n$, where $m$ can be any other positive integer. In the case of $m=1$, this reduces to a single inner product between two vectors. If $m=2$, one needs to compute two inner products, and so on. Therefore, the product of an $m\\times n$ matrix and an $n$-dimensional vector will be an $m$-dimensional vector, comprised of the $m$ inner products of the rows of the matrix and the vector.\n",
    "\n",
    "To recap concisely, when multiplying a $2\\times 2 $ matrix by $2$-dimensional vector, we have:\n",
    "\n",
    "$$ \\begin{bmatrix}\n",
    "a_{11} & a_{12}\\\\\n",
    "a_{21} & a_{22}\\\\\n",
    "\\end{bmatrix} \\begin{bmatrix}\n",
    "v_1 \\\\\n",
    "v_2 \\\\\n",
    "\\end{bmatrix} = \\begin{bmatrix} a_{11} v_1 + a_{12} v_2\\\\\n",
    "a_{21} v_1 + a_{22} v_2\\\\ \n",
    "\\end{bmatrix}\n",
    "$$ \n",
    "\n",
    "\n",
    "**Exercise.**"
   ]
  },
  {
   "cell_type": "code",
   "execution_count": null,
   "metadata": {},
   "outputs": [],
   "source": [
    "from qbraid_quiz_widget import MultipleChoiceQuestion\n",
    "MultipleChoiceQuestion('What_is_beginbmatrix-k9fw8cursu')"
   ]
  },
  {
   "cell_type": "markdown",
   "metadata": {},
   "source": [
    "<h3 style=\"color:#b64c35;\">A fruitful viewpoint: a Matrix describes an operation on Vectors</h3>\n",
    "\n",
    "We will now consider how we can represent particular *operations* on vectors as explicit matrices. There are several useful operations you might be able to describe to another person in words, but we will need to write these in mathematical terms. For example, imagine you have a point in the right half of the $xy$-plane, and you want to reflect the point about the $y$-axis. What matrix should you use to perform this operation? How about if you wanted to rotate this vector by $90$ degrees? From now on, we'll be considering how a particular matrix \"operates on\" or \"acts on\" various vectors by multiplication."
   ]
  },
  {
   "cell_type": "markdown",
   "metadata": {},
   "source": [
    "Let's see some examples first:\n",
    "\n",
    "\n",
    "**Example.** The particular matrix $I = \\begin{bmatrix}\n",
    "1 & 0\\\\\n",
    "0 & 1\n",
    "\\end{bmatrix}$ is known as the *identity* matrix. This is because it leaves the vector it multiplies unchanged, i.e. $I v = v$ for all possible choices of the vector $v$.\n",
    "\n",
    "**Example.** The particular matrix $T = \\begin{bmatrix}\n",
    "1& 0\\\\\n",
    "0& -1\n",
    "\\end{bmatrix}$ acts so that $T \\cdot v$ is the *reflection* of $v$ across the $x$-axis. You can test this using the code below.\n",
    "\n",
    "**Example.** For the particular matrix $R = \\begin{bmatrix}\n",
    "\\cos{\\theta}& -\\sin{\\theta}\\\\\n",
    "\\sin{\\theta }& \\cos{\\theta}\n",
    "\\end{bmatrix}$, the product $R \\cdot v$ is a *rotation* of any $v$ by an angle of $\\theta$, counterclockwise in the plane. You can again explore this using the code below."
   ]
  },
  {
   "cell_type": "markdown",
   "metadata": {},
   "source": [
    "**In the next code block, you can choose any x and y values for the starting vector $v$ which you will act on.** Any time you wish to update the starting vector, be sure to run this code block after you edit it!"
   ]
  },
  {
   "cell_type": "code",
   "execution_count": null,
   "metadata": {},
   "outputs": [],
   "source": [
    "import numpy as np\n",
    "import matplotlib.pyplot as plt\n",
    "from numpy import sin, cos #we need sin and cos functions from the numpy library in order to create our rotation matrix\n",
    "\n",
    "# CHOOSE YOUR STARTING VECTOR v by modifying x and y (please choose coordinates between -4 and 4, or otherwise change the axis limits below)\n",
    "x = -3  \n",
    "y = -1\n",
    "\n",
    "starting_vec = [x,y]\n",
    "print('starting vector is ['+str(x)+','+str(y)+']')"
   ]
  },
  {
   "cell_type": "code",
   "execution_count": null,
   "metadata": {},
   "outputs": [],
   "source": [
    "# the reflection matrix\n",
    "reflection_matrix = [[1, 0], [0, -1]]\n",
    "\n",
    "# computing the final vector\n",
    "final_vec = np.dot(reflection_matrix,starting_vec) #np.dot can multiply a matrix and a vector as well as two vectors\n",
    "final_x = final_vec[0]\n",
    "final_y = final_vec[1]\n",
    "print('starting vector (in blue) is ['+str(x)+','+str(y)+']')\n",
    "print('final vector (in orange) is ['+str(round(final_x))+','+str(round(final_y))+']')\n",
    "\n",
    "\n",
    "# PLOT the starting vector (in BLUE) and the final vectors (in ORANGE) on the same graph.\n",
    "fig = plt.figure()                                                           # create figure\n",
    "ax = fig.add_subplot(111, autoscale_on=False, xlim=(-4, 4), ylim=(-4, 4))    # axis limits\n",
    "ax.set_aspect('equal')                                                       # ratio of length of x and y axis.\n",
    "ax.grid()                                                                    # add a grid\n",
    "ax.set_xlabel('x-axis')                                                      # label the axes\n",
    "ax.set_ylabel('y-axis')\n",
    "ax.set_title('Vector reflection about the x-axis')                           # Setting title of figure \n",
    "line1 = ax.plot([0,x], [0,y], '-', lw=3)                                     # add the starting vector.\n",
    "line2 = ax.plot([0,final_x], [0,final_y], '-', lw=3)                         # adding the final vector\n",
    "plt.show()                                                                   # show the figure"
   ]
  },
  {
   "cell_type": "markdown",
   "metadata": {},
   "source": [
    "**In the next code block, feel free to choose the angle $\\theta$ for the rotation**. Make sure to run this code block again if you update $\\theta$. (the starting vector is still chosen using the first code block above)."
   ]
  },
  {
   "cell_type": "code",
   "execution_count": null,
   "metadata": {},
   "outputs": [],
   "source": [
    "# CHOOSE THE ANGLE OF ROTATION (in degrees)\n",
    "angle_degrees = 90\n",
    "\n",
    "print('theta='+str(angle_degrees))\n",
    "theta = 2*np.pi*angle_degrees/360 # converting to radians"
   ]
  },
  {
   "cell_type": "code",
   "execution_count": null,
   "metadata": {},
   "outputs": [],
   "source": [
    "# Build the rotation matrix\n",
    "rotation_matrix = [[np.cos(-theta), np.sin(-theta)], [-np.sin(-theta), np.cos(-theta)]]\n",
    "\n",
    "# computing the final vector\n",
    "final_vec = np.dot(rotation_matrix,starting_vec) #np.dot can multiply a matrix and a vector as well as two vectors\n",
    "final_x = final_vec[0]\n",
    "final_y = final_vec[1]\n",
    "print('starting vector (in blue) is ['+str(x)+','+str(y)+']')\n",
    "print('final vector (in orange) is ['+str(round(final_x))+','+str(round(final_y))+']')\n",
    "\n",
    "\n",
    "# PLOT the starting vector (in BLUE) and the final vectors (in ORANGE) on the same graph.\n",
    "fig = plt.figure()                                                           # create figure\n",
    "ax = fig.add_subplot(111, autoscale_on=False, xlim=(-4, 4), ylim=(-4, 4))    # axis limits\n",
    "ax.set_aspect('equal')                                                       # ratio of length of x and y axis.\n",
    "ax.grid()                                                                    # add a grid\n",
    "ax.set_xlabel('x-axis')                                                      # label the axes\n",
    "ax.set_ylabel('y-axis')\n",
    "ax.set_title(\"Vector rotation by \"+str(angle_degrees)+' degrees')            # Setting title of figure (we are converting to strings!)\n",
    "line1 = ax.plot([0,x], [0,y], '-', lw=3)                                     # add the starting vector.\n",
    "line2 = ax.plot([0,final_x], [0,final_y], '-', lw=3)                         # adding the final vector\n",
    "plt.show()                                                                   # show the figure"
   ]
  },
  {
   "cell_type": "markdown",
   "metadata": {},
   "source": [
    "<h4 style=\"color:#b64c35;\">Simple multiplication exercises</h4>"
   ]
  },
  {
   "cell_type": "code",
   "execution_count": null,
   "metadata": {},
   "outputs": [],
   "source": [
    "from qbraid_quiz_widget import MultipleChoiceQuestion\n",
    "MultipleChoiceQuestion('Calculate_beginbmatr-la453vosx1')"
   ]
  },
  {
   "cell_type": "code",
   "execution_count": null,
   "metadata": {},
   "outputs": [],
   "source": [
    "from qbraid_quiz_widget import MultipleChoiceQuestion\n",
    "MultipleChoiceQuestion('Calculate_beginbmatr-yqsdsnll9c')"
   ]
  },
  {
   "cell_type": "markdown",
   "metadata": {},
   "source": [
    "<font size=3 color=b64c35>**Exercise.**</font> Can all operations on vectors be described as multiplication by a matrix? If not, what kind of operations can?"
   ]
  },
  {
   "cell_type": "markdown",
   "metadata": {},
   "source": [
    "<h3 style=\"color:#b64c35;\">Multiplying a matrix by a vector in general: A Recap</h3>\n",
    "\n",
    "An $m \\times n$ matrix can be multiplied by an $n$-dimensional vector. The result is an $m$-dimensional vector:\n",
    "\n",
    "$$ \\begin{bmatrix}\n",
    "a_{11} & a_{12} & \\dots & a_{1n} \\\\\n",
    "a_{21} & a_{22} & \\dots  & a_{2n}\\\\\n",
    "\\vdots & \\vdots & \\ddots & \\vdots \\\\\n",
    "a_{m1} & a_{m2} & \\dots & a_{mn}\n",
    "\\end{bmatrix} \\begin{bmatrix}\n",
    "v_1 \\\\\n",
    "v_2 \\\\\n",
    "\\vdots \\\\\n",
    "v_n \n",
    "\\end{bmatrix} = \\begin{bmatrix} a_{11} v_1 + a_{12} v_2 + \\cdots + a_{1n} v_n \\\\\n",
    "a_{21} v_1 + a_{22} v_2 + \\cdots + a_{2n} v_n \\\\\n",
    "\\vdots \\\\\n",
    "a_{m1} v_1 + a_{m2} v_2 + \\cdots + a_{mn} v_n \n",
    "\\end{bmatrix}\n",
    "$$ \n",
    "\n",
    "The $i$th element of the resulting vector is the inner product of the $i$th row of the matrix with the $n$-dimensional vector.\n",
    "\n",
    "$$\\begin{bmatrix}\n",
    "a_{i1} & a_{i2} & \\ldots & a_{in}\n",
    "\\end{bmatrix} \\cdot \\begin{bmatrix}\n",
    "v_{1} \\\\\n",
    "v_{2} \\\\ \n",
    "\\vdots \\\\ \n",
    "v_{n}\n",
    "\\end{bmatrix}$$\n",
    "\n",
    "**Notice:** \n",
    "1. It is important for the multiplication to be well-defined that the number of columns of the matrix matches the dimension of the vector. \n",
    "2. The outcome of the multiplication of an $m \\times n$ matrix by an $n$-dimensional vector is an $m$-dimensional vector.\n",
    "\n",
    "<h4 style=\"color:#b64c35;\">A few more multiplication exercises</h4>"
   ]
  },
  {
   "cell_type": "code",
   "execution_count": null,
   "metadata": {},
   "outputs": [],
   "source": [
    "from qbraid_quiz_widget import MultipleChoiceQuestion\n",
    "MultipleChoiceQuestion('Calculate_beginbmatr-lkugg66x55')"
   ]
  },
  {
   "cell_type": "code",
   "execution_count": null,
   "metadata": {},
   "outputs": [],
   "source": [
    "from qbraid_quiz_widget import MultipleChoiceQuestion\n",
    "MultipleChoiceQuestion('Calculate_beginbmatr-d2oy4kkpfc')"
   ]
  },
  {
   "cell_type": "markdown",
   "metadata": {},
   "source": [
    "**Remark.** We've understood matrix multiplication as a series of vector inner products, but it's equally fine to define the matrix multiplication procedure first, and discover that the inner product of two vectors is in fact a matrix multiplication, when the first vector is written as a $1 \\times n$ matrix (a row) and the second vector is written as an $n \\times 1$ matrix (a column)."
   ]
  },
  {
   "cell_type": "markdown",
   "metadata": {},
   "source": [
    "<h3 style=\"color:#b64c35;\">Linear Transformations</h3>\n",
    "\n",
    "As we mentioned at the start, matrices play a crucial role in quantum computing. In particular, as we discussed in Section 2.3.3, matrices describe operations on vectors. Recall that multiplying a matrix by a vector yields another vector: you can think of the multiplication of a vector by a matrix as a *transformation* of the vector.\n",
    "\n",
    "As you will learn in the next module, quantum states are nothing other than vectors, and it turns out that the kind of operations on vectors which can be described by matrices, are almost exactly the kind of operations that nature allows us to perform on quantum states.\n",
    "\n",
    "Importantly, as you may have already found out through a previous exercise, operations on vectors which can be described via a matrix satisfy certain structural properties of **linearity**, namely, for any $m \\times n$ matrix $A$, any $n$-dimensional vectors $v_1$, $v_2$, and any complex number $c$:\n",
    "\n",
    "**1.** $A (c \\cdot v_1) = c \\cdot (A v)$\n",
    "\n",
    "**2.** $A (v_1 + v_2) = Av_1 + A v_2$\n",
    "\n",
    "(Check for yourself that such properties hold!)\n",
    "\n",
    "In technical jargon, the properties above are what makes a transformation a *linear* transformation. We thus refer to multiplication of a vector by a matrix as a *linear transformation* of the vector. We will use these two terms interchangeably in the modules to come."
   ]
  },
  {
   "cell_type": "markdown",
   "metadata": {},
   "source": [
    "<h4 style=\"color:#b64c35;\">A linear transformation is specified by how it acts on the standard Basis</h4>\n",
    "\n",
    "A very important property of linear transformations is that they are entirely specified by the way they act on the standard basis. \n",
    "\n",
    "Consider a matrix $A$, and a vector $v = \\begin{bmatrix} v_1\\\\ v_2\\\\ v_3 \\end{bmatrix}$. Then, notice that \n",
    "\n",
    "\\begin{align} A v &= A \\begin{bmatrix} v_1\\\\ v_2\\\\ v_3 \\end{bmatrix} \\\\\n",
    "                  &= A \\left(v_1 \\begin{bmatrix} 1\\\\0\\\\0\\\\ \\end{bmatrix} + v_2 \\begin{bmatrix} 0\\\\1\\\\0\\\\ \\end{bmatrix} + v_3 \\begin{bmatrix} 0\\\\0\\\\1\\\\ \\end{bmatrix} \\right)\n",
    " \\end{align}\n",
    "                \n",
    "By property 2 above, this is equal to\n",
    "\n",
    "$$ A \\left(v_1 \\cdot \\begin{bmatrix} 1\\\\0\\\\0\\\\ \\end{bmatrix}\\right) + A \\left(v_2 \\cdot \\begin{bmatrix} 0\\\\1\\\\0\\\\ \\end{bmatrix} \\right)+ A \\left( v_3 \\cdot  \\begin{bmatrix} 0\\\\0\\\\1\\\\ \\end{bmatrix} \\right), $$\n",
    "\n",
    "and by property 1, the latter is equal to \n",
    "\n",
    "$$ v_1 \\cdot A \\begin{bmatrix} 1\\\\0\\\\0\\\\ \\end{bmatrix} + v_2\\cdot  A \\begin{bmatrix} 0\\\\1\\\\0\\\\ \\end{bmatrix} + v_3 \\cdot A \\begin{bmatrix} 0\\\\0\\\\1\\\\ \\end{bmatrix} \\,.$$\n",
    "\n",
    "Notice, crucially, that once we fix the vectors \n",
    "\n",
    "$$A \\begin{bmatrix} 1\\\\0\\\\0\\\\ \\end{bmatrix},\\,\\,\\, A \\begin{bmatrix} 0\\\\1\\\\0\\\\ \\end{bmatrix}, \\,\\,\\, A \\begin{bmatrix} 0\\\\0\\\\1\\\\ \\end{bmatrix}$$\n",
    "\n",
    "$A v$ is also fixed! \n",
    "\n",
    "We will make use of this observation very often in future modules. In particular, we will often specify a linear transformation by simply specifying how it acts on the standard basis.\n",
    "\n",
    "Did you notice anything special about the examples from <span style=\"color:#b64c35;\">**5.3.2.1 Simple Vector Examples**</span>? We asked you to multiply a matrix $\\begin{bmatrix} a & b\\\\c & d \\end{bmatrix}$ by the two vectors from the **standard basis** of two dimensional vectors, $\\begin{bmatrix} 1\\\\0 \\end{bmatrix}$ and $\\begin{bmatrix} 0\\\\1 \\end{bmatrix}$. Hopefully, you noticed that you ended up respectively with the first and second columns of the matrix $\\begin{bmatrix} a & b\\\\c & d \\end{bmatrix}$! What this means is that, in particular, specifying how a matrix acts on the $i$th standard basis vector fixes the $i$th column of the matrix. "
   ]
  },
  {
   "cell_type": "markdown",
   "metadata": {},
   "source": [
    "<h3 style=\"color:#b64c35;\">Matrix manipulation in NumPy</h3>\n",
    "\n",
    "Through the following code snippets, you can familiarize yourself with some of the basic matrix manipulation operations in Numpy."
   ]
  },
  {
   "cell_type": "code",
   "execution_count": null,
   "metadata": {},
   "outputs": [],
   "source": [
    "import numpy as np\n",
    "# A matrix is created by stacking row vectors on top of each other.\n",
    "# Essentially, we are creating an array of arrays. Try to pick up on notation:\n",
    "matrix_1 = np.array([[3, 2, 8],\n",
    "                     [2, 4, 7],\n",
    "                     [1, 4, 6]])\n",
    "\n",
    "matrix_2 = np.array([[4, 2, 8],\n",
    "                     [5, 3, 7],\n",
    "                     [8, 5, 6]])\n",
    "\n",
    "matrix_3 = matrix_1+matrix_2\n",
    "print('adding matrices')\n",
    "print(matrix_3)"
   ]
  },
  {
   "cell_type": "code",
   "execution_count": null,
   "metadata": {},
   "outputs": [],
   "source": [
    "# Similar to how we accessed a given entry in vector, to access an entry of a matrix, we specify two indices using square brackets.\n",
    "# The first number is the row, and the second is the column (counting from 0). So, the (1,2) entry is third element of the second row:\n",
    "entry = matrix_3[1,2]\n",
    "print('the third entry of the second row of the matrix is '+str(entry))"
   ]
  },
  {
   "cell_type": "code",
   "execution_count": null,
   "metadata": {},
   "outputs": [],
   "source": [
    "print('Matrix and vector multiplication')\n",
    "vec = np.array([1, 2, 3])\n",
    "# We multiply matrix_1, which we defined earlier, and vec. To do so, we use the numpy function .dot\n",
    "print(np.dot(matrix_1,vec_1))\n",
    "\n",
    "# We can also use the .dot function to multiply two matrices!\n",
    "print(np.dot(matrix_1,matrix_2))"
   ]
  },
  {
   "cell_type": "markdown",
   "metadata": {},
   "source": [
    "<hr />\n",
    "\n",
    "<font size=3 color=b64c35>Prev module: </font><font size=4 color=b64c35>[3. Background math: complex numbers](./03_Background_math_complex_numbers.ipynb)</font>  &nbsp;&nbsp;&nbsp; &nbsp;&nbsp; &nbsp;&nbsp;&nbsp; &nbsp;&nbsp; &nbsp;&nbsp;&nbsp; &nbsp;&nbsp; &nbsp;&nbsp;&nbsp; &nbsp;&nbsp; &nbsp;&nbsp;&nbsp; &nbsp;&nbsp; &nbsp;&nbsp;&nbsp; &nbsp;&nbsp; &nbsp;&nbsp;&nbsp; &nbsp;&nbsp; &nbsp;&nbsp;&nbsp; &nbsp;&nbsp; &nbsp;&nbsp;&nbsp; &nbsp;&nbsp; \n",
    "<font size=3 color=b64c35>Next module: </font> <font size=4 color=b64c35>[5. Qubits and quantum gates](./05_Qubit_and_quantum_gates.ipynb)</font>"
   ]
  }
 ],
 "metadata": {
  "kernelspec": {
   "display_name": "Python 3",
   "language": "python",
   "name": "python3"
  },
  "language_info": {
   "codemirror_mode": {
    "name": "ipython",
    "version": 3
   },
   "file_extension": ".py",
   "mimetype": "text/x-python",
   "name": "python",
   "nbconvert_exporter": "python",
   "pygments_lexer": "ipython3",
   "version": "3.7.6"
  },
  "toc-autonumbering": true,
  "toc-showcode": true,
  "widgets": {
   "application/vnd.jupyter.widget-state+json": {
    "state": {},
    "version_major": 2,
    "version_minor": 0
   }
  }
 },
 "nbformat": 4,
 "nbformat_minor": 4
}
