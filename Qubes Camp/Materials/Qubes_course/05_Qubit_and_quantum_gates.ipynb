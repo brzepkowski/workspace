{
 "cells": [
  {
   "cell_type": "markdown",
   "metadata": {},
   "source": [
    "<font size=3 color=b64c35>Prev module: </font><font size=4 color=b64c35>[4. Background math](./04_Background_math_linear_algebra.ipynb)</font>  &nbsp;&nbsp;&nbsp; &nbsp;&nbsp; &nbsp;&nbsp;&nbsp; &nbsp;&nbsp; &nbsp;&nbsp;&nbsp; &nbsp;&nbsp; &nbsp;&nbsp;&nbsp; &nbsp;&nbsp; &nbsp;&nbsp;&nbsp; &nbsp;&nbsp; &nbsp;&nbsp;&nbsp; &nbsp;&nbsp; &nbsp;&nbsp;&nbsp; &nbsp;&nbsp; &nbsp;&nbsp;&nbsp; &nbsp;&nbsp; &nbsp;&nbsp;&nbsp; &nbsp;&nbsp; \n",
    "<font size=3 color=b64c35>Next module: </font> <font size=4 color=b64c35>[6. Writing quantum programs](./06_Writing_quantum_programs.ipynb)</font>\n",
    "\n",
    "<hr />"
   ]
  },
  {
   "cell_type": "markdown",
   "metadata": {},
   "source": [
    "<h1 style=\"color:MediumSeaGreen;\">Summary</h1>\n",
    "\n",
    "- Qubits\n",
    "- Single qubit gates\n",
    "- A thought experiment"
   ]
  },
  {
   "cell_type": "markdown",
   "metadata": {
    "toc-hr-collapsed": false
   },
   "source": [
    "<h1 style=\"color:MediumSeaGreen;\">Qubit</h1>\n",
    "\n",
    "One of the reasons why we covered classical computing in Module 2 was that in order to appreciate quantum computing as a revolutionary paradigm for computation, you first need to be familiar with the basic principles of how classical computers operate.\n",
    "\n",
    "Recall from Module 2 on classical computing that the fundamental unit of information is a *bit*. Executing a computation is nothing other than manipulating the information stored in a string of bits via a sequence of logical gates to produce an *output* bit or an output string. Any paradigm for computation must have some basic unit of information and some rules according to which this information can be manipulated. \n",
    "    \n",
    "The equivalent of a bit in quantum computing is called a *qubit*, and the information stored in a qubit is manipulated via *quantum gates*. In this module we will introduce both of these basic elements."
   ]
  },
  {
   "cell_type": "markdown",
   "metadata": {
    "toc-hr-collapsed": true
   },
   "source": [
    "<h2 style=\"color:MediumSeaGreen;\">Single qubit states</h2>\n",
    "\n",
    "Just like classical bits, quantum bits or qubits can be in one of the two states 0 and 1.\n",
    "\n",
    "What differentiates a qubit from a bit is that a qubit is a *quantum system*, and the state of qubit is a *quantum state*: not only can the state of a qubit be 0 or 1, but it can be in a *superposition* of the 0 state and the 1 state. The states 0 and 1, in the case of qubits, are represented by:\n",
    "- $\\left|0\\right\\rangle$ (pronounced \"ket 0\") and\n",
    "-  $\\left|1\\right\\rangle$ (\"ket 1\"). <br/>\n",
    "\n",
    "This funky looking notation, $\\left|0\\right\\rangle$ and $\\left|1\\right\\rangle$, is called Dirac notation and is the standard notation to represent quantum state in quantum mechanics.\n",
    "    \n",
    "The most general state of a qubit is represented as:\n",
    "\n",
    "$$\\begin{align}\\left| \\psi \\right\\rangle=\\alpha \\left| 0 \\right\\rangle+\\beta \\left| 1 \\right\\rangle \\end{align} \\label{general_state}\\tag{1}$$\n",
    "\n",
    "where $\\alpha$ and $\\beta$ are complex numbers. This is a more precise way to describe superposition than \"both 0 and 1 at the same time,\" which is often used informally to describe this concept. This state, as a superposition of $\\left|0\\right\\rangle$ and $\\left|1\\right\\rangle$, is the combination of exactly \"$\\alpha$ amount of $\\left|0\\right\\rangle$\" and \"$\\beta$ amount of $\\left|1\\right\\rangle$.\" We will interpret this very soon.\n",
    "\n",
    "<font size=3 color=b64c35> *The following section will make a lot of use of the Linear Algebra concepts from Module 4. It might be helpful to keep that subsection open as a reference, if you don't feel to familiar yet!*</font>\n",
    "\n",
    "From above, we learn that the state of a qubit is described by two complex numbers. What is interesting is that you can make a vector out of these two complex numbers. Formally, the state of a qubit $\\left|\\psi \\right \\rangle$ is a 2-dimensional vector with complex entries, and we can represent it as:\n",
    "\n",
    "$$\\left|\\psi\\right\\rangle = \\begin{bmatrix}\n",
    "\\alpha\\\\\n",
    "\\beta\\\\\n",
    "\\end{bmatrix} $$\n",
    "\n",
    "Notice that, in vector notation, \n",
    "- $\\left | 0 \\right> = 1 \\cdot \\left | 0 \\right> + 0 \\cdot \\left | 1 \\right> = \\begin{bmatrix}\n",
    "1\\\\\n",
    "0\n",
    "\\end{bmatrix}$, and\n",
    "- $\\left | 0 \\right> = 0 \\cdot \\left | 0 \\right> + 1 \\cdot \\left | 1 \\right> = \\begin{bmatrix}\n",
    "0\\\\\n",
    "1\n",
    "\\end{bmatrix}$.\n",
    "\n",
    "In other words, the quantum states $\\left | 0 \\right>$ and $\\left | 1 \\right>$ coincide with the unit vectors $\\begin{bmatrix}\n",
    "1\\\\\n",
    "0\n",
    "\\end{bmatrix}$ and $\\begin{bmatrix}\n",
    "0\\\\\n",
    "1\n",
    "\\end{bmatrix}$ respectively, and any quantum state can be written as a *linear combination* of these two.\n",
    " \n",
    "The two complex values, $\\alpha$ and $\\beta$, uniquely define where a particular qubit state sits between $\\left|0\\right\\rangle$ and $\\left|1\\right\\rangle$. The only additional requirement that $\\alpha$ and $\\beta$ must satisfy, in order for them to define a valid qubit state, is the equality $|\\alpha|^2 + |\\beta|^2 = 1$, i.e. the quantum state vector has norm $1$ (we will tell you more about this shortly). We refer to $\\alpha$ and $\\beta$ as *amplitudes*. \n",
    "\n",
    "A qubit is a $2$-dimensional quantum system, but in general, a quantum system can be $n$-dimensional for any positive integer $n$. However, for the purpose of computational tasks, it is convenient to use qubits as building blocks, just like we use bits for classical computing. It would of course be possible to rewrite classical computing in terms of, say, *ternary* strings (i.e. strings of $0,1,2$'s), as opposed to binary strings, but by convention (and for convenience) classical programs manipulate strings of bits. Likewise, in the case of quantum computing, quantum circuits (which we will discuss in the next module) manipulate sets of qubits.\n",
    "        "
   ]
  },
  {
   "cell_type": "markdown",
   "metadata": {},
   "source": [
    "<font size=3 color=b64c35>**Exercise.**</font> Given a state\n",
    "$$\\begin{align}\\left| \\psi \\right\\rangle=\\alpha \\left| 0 \\right\\rangle+\\beta \\left| 1 \\right\\rangle \\end{align} \\label{general_state}$$\n",
    "\n",
    "If $\\alpha = 0.68$, and $\\beta=0.4+i \\cdot b$ for some real number $b$, what is the value of $b$? \n",
    "\n",
    "*Hint:* Recall that a valid state satisfies $|\\alpha|^2 + |\\beta|^2 = 1$."
   ]
  },
  {
   "cell_type": "code",
   "execution_count": null,
   "metadata": {},
   "outputs": [],
   "source": [
    "from qbraid_quiz_widget import MultipleChoiceQuestion\n",
    "MultipleChoiceQuestion('Select_one_of_the_fo-b3yj9fued2')"
   ]
  },
  {
   "cell_type": "markdown",
   "metadata": {},
   "source": [
    "Now that we understand precisely what a qubit is from a mathematical standpoint, a natural question is:  \n",
    "    <br/> \n",
    "<font size=3 color=b64c35>How do we interpret the state $\\left|\\psi \\right\\rangle$ physically?</font>\n",
    "\n",
    "<!-- <center>How do we interpret the state $\\left|\\psi \\right\\rangle$ physically? <center/>  <br/> -->\n",
    "    \n",
    "As we discussed when presenting the double slit experiment in Module 1, the only way that a quantum particle could have produced the interference pattern on the screen is, informally speaking, by passing through both the slits *at the same time*. In a similar way, the state of a qubit can be thought of as being both 0 and 1 at the same time. However, as we saw in the double slit experiment, it is only when we \"observe\" the photon that we force it to tell us whether it passed through the first or the second slit, or at what precise point it hit the wall. So, a more precise way to talk about the state of a qubit is to say that the state is described by the above vector, and the notion of whether it is 0 or 1 does not exist until it is observed. \n",
    "\n",
    "In technical jargon, the process of *observing* a quantum system is referred to as a **measurement**. The concept of a measurement is central to quantum information, and to the way it differs from its classical counterpart. "
   ]
  },
  {
   "cell_type": "markdown",
   "metadata": {
    "toc-hr-collapsed": true
   },
   "source": [
    "<h2 style=\"color:MediumSeaGreen;\">Measurement of Single Qubit States</h2>\n",
    "\n",
    "The process of observing whether the qubit is 0 or 1 is referred to as a *measurement*. When we measure a qubit, we obtain a *measurement outcome* 0 or 1. What happens to the quantum state of the qubit after it has been measured? If the measurement outcome is 0, then the state of the qubit \"collapses\" to $\\left| 0\\right \\rangle$. If the measurement outcome was 1, the state of the qubit collapses to $\\left| 1 \\right \\rangle$. \n"
   ]
  },
  {
   "cell_type": "markdown",
   "metadata": {},
   "source": [
    "<font size=3 color=b64c35>Why does this collapse occur?</font> <br/> No one really knows; it is one of the postulates of quantum mechanics (which we described in Module 1) that we simply accept. This postulate is known as <font size=3 color=b64c35>*Born's rule*,</font> and it says something more than just what the post-measurement state will be: it tells us also what the probabilities of seeing outcomes 0 and 1 are.\n",
    "    \n",
    "The rule is that if we measure the state $\\left|\\psi \\right\\rangle = \\alpha \\left| 0 \\right\\rangle+\\beta \\left| 1 \\right\\rangle$ we will see\n",
    "- outcome $|0\\rangle$ with probability $|\\alpha|^2$, and\n",
    "- outcome $|1\\rangle$ with probability $|\\beta|^2$. <br/>\n",
    "(Recall that for a complex number $c$, its magnitude or modulus is denoted by $|c|$). Since the probabilities of all outcomes must add up to $1$, Born's rule implies that $|\\alpha|^2 + |\\beta|^2 = 1$."
   ]
  },
  {
   "cell_type": "markdown",
   "metadata": {},
   "source": [
    "<font size=3 color=b64c35>**Example.**</font> Consider a qubit in the state\n",
    "$\\left| \\psi \\right\\rangle=\\sqrt{\\frac{2}{3}} \\left| 0 \\right\\rangle+\\frac{1}{\\sqrt{3}} \\left| 1 \\right\\rangle$. Now, suppose we make a measurement and we obtain outcome $\\left| 1 \\right\\rangle$. Immediately after this measurement, suppose we measure the system a second time. What will the result of this second measurement be?\n",
    "- $\\left| 0 \\right\\rangle$ with probability 1\n",
    "- $\\left| 1 \\right\\rangle$ with probability 1\n",
    "- $\\left| 0 \\right\\rangle$ with probability $\\frac{2}{3}$ and $\\left| 1 \\right\\rangle$ with probability $\\frac{1}{3}$\n",
    "- The qubit is no longer a quantum system.\n",
    "\n",
    "**Solution**: When we measure the system and observe the outcome 1, as we mentioned earlier, the system collapses to the state $\\left| 1 \\right\\rangle$. Therefore, any subsequent measurement made on this system will result in the same outcome 1."
   ]
  },
  {
   "cell_type": "markdown",
   "metadata": {},
   "source": [
    "<font size=3 color=b64c35>**Exercise.**</font> Given a state\n",
    "$$\\begin{align}\\left| \\psi \\right\\rangle=\\alpha \\left| 0 \\right\\rangle+\\beta \\left| 1 \\right\\rangle \\end{align} \\label{general_state}$$\n",
    "\n",
    "- Suppose $\\alpha = \\frac{1}{2}(1+i)$ and $\\beta=\\frac{1}{2}(1-i)$. Upon measuring, what is the probability of finding the qubit in the state $|0\\rangle$ (i.e.  obtaining 0 as a measurement outcome)?"
   ]
  },
  {
   "cell_type": "code",
   "execution_count": null,
   "metadata": {},
   "outputs": [],
   "source": [
    "from qbraid_quiz_widget import MultipleChoiceQuestion\n",
    "MultipleChoiceQuestion('Select_one_of_the_fo-mgom7tmk0i')"
   ]
  },
  {
   "cell_type": "markdown",
   "metadata": {},
   "source": [
    "- Suppose $\\alpha = \\sqrt{\\frac23}$, and $\\beta=\\frac{i}{\\sqrt{3}}$. Upon measuring, what is the probability of finding the qubit in state $|1\\rangle$?"
   ]
  },
  {
   "cell_type": "code",
   "execution_count": null,
   "metadata": {},
   "outputs": [],
   "source": [
    "from qbraid_quiz_widget import MultipleChoiceQuestion\n",
    "MultipleChoiceQuestion('Select_one_of_the_fo-r2xejvix96')"
   ]
  },
  {
   "cell_type": "markdown",
   "metadata": {},
   "source": [
    "<font size=3 color=b64c35>**Exercise.**</font> The code block below simulates a qubit in the state $\\left|\\psi \\right\\rangle = \\frac{1}{\\sqrt{2}} \\left| 0 \\right\\rangle+\\frac{1}{\\sqrt{2}}\\left| 1 \\right\\rangle$ and measures it. For now, don't worry about how the code works (we will discuss this in Module 6). How often do you expect the outcome of the measurement to be $\\left| 0 \\right\\rangle$? What about for the outcome $\\left| 1 \\right\\rangle$? Run the code cell several times to see if your predictions were correct."
   ]
  },
  {
   "cell_type": "code",
   "execution_count": null,
   "metadata": {},
   "outputs": [],
   "source": [
    "from qiskit import QuantumCircuit, Aer, execute\n",
    "#build circuit\n",
    "circ = QuantumCircuit(1,1)\n",
    "circ.h(0)\n",
    "circ.measure(0,0)\n",
    "#run simulation\n",
    "backend_sim = Aer.get_backend('qasm_simulator')\n",
    "sim = execute(circ, backend_sim, shots=1)\n",
    "counts=sim.result().get_counts(circ)\n",
    "print('The measured outcome is |{}>.'.format(list(counts.keys())[0]))"
   ]
  },
  {
   "cell_type": "markdown",
   "metadata": {},
   "source": [
    "As you can see, measuring a qubit, only gives us a single bit of information. In some sense, a lot of the information previously \"contained\" in the qubit is lost. It is only when we are able to prepare the same qubit state many times, and measure it over and over that we gather meaningful statistics, which allows to reconstruct the qubit state more accurately."
   ]
  },
  {
   "cell_type": "markdown",
   "metadata": {
    "toc-hr-collapsed": true
   },
   "source": [
    "<h2 style=\"color:MediumSeaGreen;\">Relative Phase</h2>\n",
    "\n",
    "As you may have noticed, the measurement probabilities of a qubit state depend exclusively on the absolute values of $\\alpha$ and $\\beta$. So for example, the states:\n",
    "- $\\alpha \\left| 0 \\right\\rangle+\\beta \\left| 1 \\right\\rangle$, \n",
    "- $\\alpha \\left| 0 \\right\\rangle - \\beta \\left| 1 \\right\\rangle$,\n",
    "- $\\alpha \\left| 0 \\right\\rangle + i\\beta \\left| 1 \\right\\rangle$ \n",
    "\n",
    "all give rise to the same probabilities of the outcome of measurements on the qubit. As a result, you might wonder, why does it matter that we allow $\\alpha$ and $\\beta$ to be complex numbers, or even negative real numbers: couldn't we just restrict ourselves to *non-negative* real numbers? \n",
    "\n",
    "We will return to this question several times in the next modules: the fact that amplitudes can be negative is truly at the heart of quantum mechanics and quantum computing.\n",
    "\n",
    "For now, let's understand a little more what makes these states different, by discussing the concept of **relative phase**.\n",
    "\n",
    "Consider the quantum state\n",
    "\n",
    "$$\\begin{align}\\left| \\psi \\right\\rangle=\\alpha \\left| 0 \\right\\rangle+\\gamma \\beta \\left| 1 \\right\\rangle \\end{align} \\label{general_state}\\,,$$\n",
    "\n",
    "where we have added a new constant $\\gamma$ to the coefficient of ket one. Gamma is called the relative phase, and has the property $|\\gamma|^2=1$. Some possible values of $\\gamma$ include $1$, $-1$, and $i$, but $\\gamma$ has many other possible values. In general, $\\gamma$ takes the form\n",
    "\n",
    "$$\\gamma=a+ib,$$\n",
    "\n",
    "where $a^2+b^2=1$. We can confirm that $\\gamma$ has no impact on the measurement probabilities by squaring the coefficient of $\\left|1\\right>$:\n",
    "\n",
    "$$|\\gamma\\beta|^2=|\\gamma|^2|\\beta|^2=|\\beta|^2,$$\n",
    "\n",
    "where we have used the fact that the square modulus of $\\gamma$ is one. \n",
    "\n",
    "We can plot all possible values of $\\gamma$ in the complex plane, which results in what is called the *complex unit circle*. Each point on the circle is a valid value of $\\gamma$. In particular, each value can be written as\n",
    "\n",
    "$$\\gamma(\\phi)=\\cos\\phi+i\\sin\\phi.$$ \n",
    "\n",
    "The quantity $\\phi$ is called the phase angle, and ranges from zero to $2\\pi$. The phase angle is important to understanding constructive and destructive interference, as we will see in later modules."
   ]
  },
  {
   "cell_type": "markdown",
   "metadata": {},
   "source": [
    "<img src=\"images/complex_unit_circle.png\" width=300>"
   ]
  },
  {
   "cell_type": "markdown",
   "metadata": {},
   "source": [
    "<font size=3 color=b64c35>**Exercise.**</font> What values of $\\phi$ correspond to the following relative phases $\\gamma$:\n",
    "- $-1$\n",
    "- $-i$\n",
    "- $\\frac{1}{\\sqrt{2}}\\left(1+i\\right)$\n",
    "\n",
    "<font size=3 color=b64c35>**Exercise.**</font> The widget below shows the position on the complex unit circle for any two phase angles $\\phi_1$ and $\\phi_2$. What is important with relative phases is the angle between them. What is the maximum difference between the two phase angles? What is the minimum?"
   ]
  },
  {
   "cell_type": "code",
   "execution_count": null,
   "metadata": {},
   "outputs": [],
   "source": [
    "%run python_functions/complex_unit_circle.py"
   ]
  },
  {
   "cell_type": "markdown",
   "metadata": {},
   "source": [
    "<font size=3 color=b64c35>**Exercise.**</font> Another interpretation of phase angle is in the superposition of periodic wave functions. The widget below shows the interference of two sine functions. The green function is the baseline, which we can say has phase angle $\\phi_1=0$. The yellow function has phase $\\phi_2$ as a variable, manipulated by the slider. The bottom graph shows the sum, or superposition of the two sine functions. For what value(s) of $\\phi_2$ does maximum constructive interference occur? For what value of $\\phi_2$ does maximum *destructive* interference occur? What is the difference in phase angles in each case?"
   ]
  },
  {
   "cell_type": "code",
   "execution_count": null,
   "metadata": {},
   "outputs": [],
   "source": [
    "%run python_functions/demo.py"
   ]
  },
  {
   "cell_type": "markdown",
   "metadata": {},
   "source": [
    "**The Significance of Relative Phase**\n",
    "\n",
    "Think back to the double-slit experiement. We found that quantum particles displayed an interference pattern characteristic of waves. When it comes to superposition, thinking of quantum objects as a superposition of different states can be very useful. Consider the state\n",
    "$$\\left|\\psi\\right>=\\left|0\\right> + \\left|1\\right> -\\left|1\\right>$$\n",
    "You might notice that this equation is unsimplified, and is completely equivalent to the state $\\left|0\\right>$. This is because the states $\\left|1\\right>$ and $-\\left|1\\right>$ destructively interfere! The phase angle for the state $\\left|1\\right>$ is $\\phi=0$, and the phase angle for $-\\left|1\\right>$ is $\\phi=\\pi$. This accounts for the maximum possible phase difference, corresponding to destructive interference.\n",
    "\n",
    "Once again we should ask the question, if the relative phase $\\gamma$ has no impact on the measurement probabilities of a qubit, why should we care about it at all? It turns out that we can do a lot more with quantum states than just measure them. \n",
    "\n",
    "When we measure a quantum system, we are asking it to return to us a classical answer. In some sense, we are forcing it to lose much of the *quantum* information that it was carrying originally in order to interact with us *classically*. However, instead of measuring it and forcing it to collapse, we could avoid looking at the state, and instead transform it according to a sequence of *quantum gates* (these are the quantum analogue of the classical logical gates that you encountered in Module 2, and we will talk about these in a few sections), and then only after applying such a sequence of quantum gates, perform a measurement. The process of applying gates does not cause us to lose information the way measurement does. When we apply quantum gates to states, the relative phase will definitely matter. Starting from $\\alpha \\left| 0 \\right\\rangle+\\beta \\left| 1 \\right\\rangle$, $\\alpha \\left| 0 \\right\\rangle - \\beta \\left| 1 \\right\\rangle$ or $i\\alpha \\left| 0 \\right\\rangle+ \\beta \\left| 1 \\right\\rangle$ and applying a fixed sequence of quantum gates can potentially result in very different outcomes, so that if we eventually measure them *after* applying a sequence of quantum gates, we could get very different outcome distributions for the three cases.\n",
    "\n",
    "Much like in the double slit experiment example from Module 1, observing the particles to see which slit they passed through destroys any quantum effect. But letting them proceed unobserved leads to interference patterns. These interference patterns depend on these amplitudes adding up and cancelling -- this is why even though we can't immediately distinguish between states with different relative phases, these difference can become very important and distinguishable if we let the quantum states evolve first, before measuring them."
   ]
  },
  {
   "cell_type": "markdown",
   "metadata": {},
   "source": [
    "<h2 style=\"color:#b64c35;\"> Global Phase</h2>\n",
    "\n",
    "Sometimes, we find that a state in superposition has an overall factor in front of it. This factor is called a global phase, much like relative phase, has no impact on distribution of measurement outcomes for that state. To see this, consider the state\n",
    "\n",
    "$$\\begin{align}\\left|\\psi\\right> =\\frac{1}{\\sqrt{2}}\\left( \\left| 0 \\right> - \\left| 1 \\right> \\right)\\end{align}.$$\n",
    "\n",
    "Measuring this state results in the outcome $\\left| 0 \\right>$ with probability $\\frac{1}{2}$ and $\\left| 1 \\right>$ with probability $\\frac{1}{2}$. Consider now the similar state $-\\left| \\psi \\right>$, which differs from $\\left| \\psi \\right>$ by the *global phase* $-1$:\n",
    "\n",
    "$$-\\left| \\psi \\right> =\\frac{(-1)}{\\sqrt{2}}\\left( \\left| 0 \\right> - \\left| 1 \\right> \\right)\\,.$$\n",
    "\n",
    "Notice first that the modulus of this global phase is $\\left|-1\\right|^2=1$, so the state above is still a valid quantum state, since the squares of the magnitudes of the amplitudes sum to $1$. \n",
    "\n",
    "Additionally, it is easy to see that measuring $-\\left| \\psi \\right>$ results in the same measurement outcome distribution as $-\\left| \\psi \\right>$: \n",
    "\n",
    "- $\\left| 0 \\right>$ with probability $\\frac{1}{2}$,\n",
    "- $\\left| 1 \\right>$ with probability $\\frac{1}{2}$. \n",
    "\n",
    "More generally, any global phase $\\phi$ (which satistfies $\\left|\\phi\\right|^2=1$) will have no impact on the distribution of measurement outcomes.\n",
    "\n",
    "However, notice that the *global* phase leaves the *relative* phase unchanged! This is because both amplitudes are multiplied by the same phase (you can think of the phases for each amplitude as being shifted by the same angle).\n",
    "\n",
    "The following is the crucial difference between global phases and relative phases:\n",
    "\n",
    "- Relative phases, as we discussed in the previous section, can be noticed by letting the quantum state first evolve through an appropriate sequence of quantum gates, and only eventually measuring it.\n",
    "- Global phases are truly undetectable! Any quantum gate (i.e linear transformation) applied to two states differing only by a global phase will result in identical measurement outcome distributions.\n",
    "\n",
    "This distinction will become more apparent as we discuss quantum gates in the rest of this module.\n",
    "\n",
    "<font size=3 color=b64c35>**Exercise.**</font> Give an example of a valid global phase different than $-1$. Apply the global phase to any valid qubit state, and verify that the modified state has the same measurement probabilities as the original state."
   ]
  },
  {
   "cell_type": "markdown",
   "metadata": {
    "toc-hr-collapsed": false
   },
   "source": [
    "<h1 style=\"color:MediumSeaGreen;\">Single Qubit Quantum Gates</h1>\n",
    "\n",
    "Recall that in the case of classical computing, when dealing with just a single bit, there were essentially only two non-trivial single bit logic gates: the identity gate, and the gate that flips the bit (i.e. the NOT gate). Let's say your bit is in the state 0, then there are only two things that you can do to it: leave it as it is, or flip it. \n",
    "\n",
    "<!-- Of course, many more gates are available with more bits, but the single bit case is very limited.  -->\n",
    "The situation is quite different for a single *qubit*. Recall that the general state of a single qubit is a vector of the form:\n",
    "\n",
    "$$ \\left|\\psi\\right\\rangle = \\begin{bmatrix}\n",
    "\\alpha\\\\\n",
    "\\beta\\\\\n",
    "\\end{bmatrix} $$\n",
    "\n",
    "where $\\alpha$ and $\\beta$ obey the constraint that $|\\alpha|^2+|\\beta|^2=1$ (i.e. the vector has norm $1$). Even with this constraint, there are infinite possibilites for what the state of a qubit could be, and there are infinite possibilities for what the state could be after the application of a gate. Hence, the number of possible single qubit gates are actually infinite! (We will tell you shortly what a single qubit gate is precisely.)\n",
    "\n",
    "Quantum mechanics postulates that states evolve in one of two ways; the first we have discussed in the previous section, and the second we will talk about in this section:\n",
    "    \n",
    "1. Via a measurement.\n",
    "2. Via a linear transformation, i.e. via multiplication by a matrix. (there is just one additional condition on the matrix, which is that it should be *unitary*. We will discuss this below).\n",
    "\n",
    "You can think of the first as being a more *abrupt* kind of evolution, where the quantum state is observed to extract classical information and forced to collapse to one of two states. You can think of the second as being a more gentle evolution, which the qubit state undergoes if left on its own to evolve inside a box (for example under the influence of some electric or magnetic field). \n",
    "\n",
    "We have already discussed measurement above. In the next section we will take a look at the linear transformation of qubit states.\n"
   ]
  },
  {
   "cell_type": "markdown",
   "metadata": {
    "toc-hr-collapsed": true
   },
   "source": [
    "<h2 style=\"color:#b64c35;\">Single qubit gates as multiplication by a matrix</h2>\n",
    "\n",
    "Recall how in Module 4 we learnt that multiplying a matrix by a vector results in another vector. For example, \n",
    "    \n",
    "$$ \\begin{bmatrix} \n",
    "    1 & 1 \\\\\n",
    "    1 & -1 \\\\\n",
    "    \\end{bmatrix} \\begin{bmatrix}\n",
    "    1 \\\\\n",
    "    0 \\\\\n",
    "    \\end{bmatrix} = \\begin{bmatrix}\n",
    "    1 \\\\\n",
    "    1 \\\\\n",
    "    \\end{bmatrix}$$\n",
    "\n",
    "This led us to interpret multiplication of a vector by a matrix as a *transformation* of the vector: the matrix $\\big[ \\begin{smallmatrix} \n",
    "    1 & 1 \\\\\n",
    "    1 & -1 \\\\\n",
    "    \\end{smallmatrix}\\big]$ transforms the vector $\\big[ \\begin{smallmatrix}\n",
    "    1 \\\\\n",
    "    0 \\\\\n",
    "    \\end{smallmatrix}\\big]$ into the vector $\\big[ \\begin{smallmatrix}\n",
    "    1 \\\\\n",
    "    1 \\\\\n",
    "    \\end{smallmatrix}\\big].$ We also referred to such transformation as a *linear transformation*, since it satisfied certain natural linear properties (we encourage you to review this properties in Module 4 if you feel like you have forgotten them).\n",
    "\n",
    "A single qubit quantum gate is specified by a $2\\times 2$ matrix, and it transforms the state of a qubit, i.e. a $2$-dimensional complex vector with unit norm, into another state of a qubit via matrix multiplication, i.e via a linear transformation. For example, the single qubit quantum gate $X = \\big[ \\begin{smallmatrix}\n",
    "0 & 1\\\\\n",
    "1 & 0\\\\\n",
    " \\end{smallmatrix}\\big]$ transforms the qubit state $\\left| \\psi \\right \\rangle = \\alpha \\left| 0\\right \\rangle+ \\beta  \\left| 1\\right \\rangle$, which is represented as a vector as $ \\big[ \\begin{smallmatrix}\n",
    "    \\alpha\\\\\n",
    "    \\beta \\\\\n",
    "    \\end{smallmatrix}\\big]$, into the qubit state \n",
    "    \n",
    "$$\\left| \\psi'\\right \\rangle = X\\left| \\psi \\right \\rangle = \\begin{bmatrix}\n",
    "0 & 1\\\\\n",
    "1 & 0\\\\\n",
    "\\end{bmatrix} \\begin{bmatrix}\\alpha\\\\\n",
    "    \\beta \\\\\n",
    "    \\end{bmatrix}=\\begin{bmatrix}\\alpha'\\\\\n",
    "    \\beta' \\\\\n",
    "    \\end{bmatrix}.$$\n",
    "\n",
    "The fact that a single qubit quantum gate transforms vectors with unit norm into vectors with unit norm (i.e. if we start from a vector $\\big[ \\begin{smallmatrix}\n",
    "\\alpha\\\\\n",
    "\\beta\\\\\n",
    "\\end{smallmatrix}\\big]$ with $|\\alpha|^2+|\\beta|^2=1$, and the vector after multiplying by the matrix is $\\big[ \\begin{smallmatrix}\n",
    "\\alpha'\\\\\n",
    "\\beta'\\\\\n",
    "\\end{smallmatrix}\\big]$, then it must be $|\\alpha'|^2+|\\beta'|^2=1$) imposes an additional condition on the matrix, which is referred to as *unitarity*. Unitary matrices are precisely those matrices which transform vectors with unit norm into vectors with unit norm. One can show, but you can take this as a fact for the purpose of this course, that unitary matrices are precisely those matrices $U$ which satisfy $UU^{\\dagger}=I$, where $U^{\\dagger}$ is obtained from $U$ by taking the complex conjugate of each entry, and transposing the resulting matrix.\n",
    "\n",
    "**Summary.** To recap, a single-qubit gate is specified by a $2 \\times 2$ unitary matrix."
   ]
  },
  {
   "cell_type": "markdown",
   "metadata": {
    "toc-hr-collapsed": true
   },
   "source": [
    "<h2 style=\"color:#b64c35;\">Some Single Qubit Gates</h2>\n",
    "\n",
    "The following table contains some common examples of single-qubit gates and information about how they act on the computational basis states as well as on a general state. Recall a linear transformation is fixed entirely by specifying how it acts on the standard basis.\n",
    "\n",
    "<table style=\"width:100%\">\n",
    "    <colgroup>\n",
    "        <col span=\"1\" style=\"width: 13%; text-align:center;\">\n",
    "        <col span=\"1\" style=\"width: 23%;\">\n",
    "        <col span=\"1\" style=\"width: 23%;\">\n",
    "        <col span=\"1\" style=\"width: 41%;\">\n",
    "    </colgroup>\n",
    "    <tbody>\n",
    "        <tr>\n",
    "            <th>Gate</th>\n",
    "            <th>Mapping</th>\n",
    "            <th>Matrix Representation</th>\n",
    "            <th>Acting on a General State</th>\n",
    "        </tr>\n",
    "        <tr>\n",
    "            <td style=\"text-align:center\">$I$</td>\n",
    "            <td>$$\\begin{array}{1} I\\left|0\\right\\rangle=\\left|0\\right\\rangle \\\\ I\\left|1\\right\\rangle=\\left|1\\right\\rangle\\end{array}$$</td>\n",
    "            <td style=\"text-align:center\">$$I=\\begin{bmatrix}1 & 0\\\\0 & 1 \\\\ \\end{bmatrix}$$</td>\n",
    "            <td> $$I\\big(\\alpha\\left|0\\right\\rangle+\\beta\\left|1\\right\\rangle\\big)=\\alpha\\left|0\\right\\rangle+\\beta\\left|1\\right\\rangle$$</td>\n",
    "        </tr>\n",
    "        <tr>\n",
    "            <td style=\"text-align:center\">$X$</td>\n",
    "            <td>$$\\begin{array}{1} X\\left|0\\right\\rangle=\\left|1\\right\\rangle \\\\ X\\left|1\\right\\rangle=\\left|0\\right\\rangle\\end{array}$$</td>\n",
    "            <td style=\"text-align:center\">$$X=\\begin{bmatrix}0 & 1\\\\1 & 0 \\\\ \\end{bmatrix}$$</td>\n",
    "            <td> $$X\\big(\\alpha\\left|0\\right\\rangle+\\beta\\left|1\\right\\rangle\\big)=\\alpha\\left|1\\right\\rangle+\\beta\\left|0\\right\\rangle$$</td>\n",
    "        </tr>\n",
    "        <tr>\n",
    "            <td style=\"text-align:center\">$Z$</td>\n",
    "            <td>$$\\begin{array}{1} Z\\left|0\\right\\rangle=\\left|0\\right\\rangle \\\\ Z\\left|1\\right\\rangle=-\\left|1\\right\\rangle\\end{array}$$</td>\n",
    "            <td style=\"text-align:center\">$$Z=\\begin{bmatrix}1 & 0\\\\0 & -1 \\\\ \\end{bmatrix}$$</td>\n",
    "            <td> $$Z\\big(\\alpha\\left|0\\right\\rangle+\\beta\\left|1\\right\\rangle\\big)=\\alpha\\left|0\\right\\rangle-\\beta\\left|1\\right\\rangle$$</td>\n",
    "        </tr>\n",
    "        <tr>\n",
    "            <td style=\"text-align:center\">$H$</td>\n",
    "            <td>$$\\begin{array}{1} H\\left|0\\right\\rangle= \\frac{1}{\\sqrt{2}}\\big(\\left|0\\right\\rangle+\\left|1\\right\\rangle\\big)\n",
    "            \\\\ H\\left|1\\right\\rangle=\\frac{1}{\\sqrt{2}}\\big(\\left|0\\right\\rangle-\\left|1\\right\\rangle\\big)\\end{array}$$</td>\n",
    "            <td style=\"text-align:center\">$$H=\\frac{1}{\\sqrt{2}}\\begin{bmatrix}1 & 1\\\\1 & -1 \\\\ \\end{bmatrix}$$</td>\n",
    "            <td> $$H\\big(\\alpha\\left|0\\right\\rangle+\\beta\\left|1\\right\\rangle\\big)=\\frac{\\alpha}{\\sqrt{2}}\\big(\\left|0\\right\\rangle+\\left|1\\right\\rangle\\big)+\\frac{\\beta}{\\sqrt{2}}\\big(\\left|0\\right\\rangle-\\left|1\\right\\rangle\\big)$$</td>\n",
    "        </tr>\n",
    "        <tr>\n",
    "            <td style=\"text-align:center\">$Y$</td>\n",
    "            <td>$$\\begin{array}{1} Y\\left|0\\right\\rangle=i\\left|1\\right\\rangle \\\\ Y\\left|1\\right\\rangle=-i\\left|0\\right\\rangle\\end{array}$$</td>\n",
    "            <td style=\"text-align:center\">$$Y=\\begin{bmatrix}0 & -i\\\\i & 0 \\\\ \\end{bmatrix}$$</td>\n",
    "            <td> $$Y\\big(\\alpha\\left|0\\right\\rangle+\\beta\\left|1\\right\\rangle\\big)=i \\alpha \\left|1\\right\\rangle-i\\beta\\left|0\\right\\rangle$$</td>\n",
    "        </tr>\n",
    "    </tbody>\n",
    "</table>\n",
    "</font>"
   ]
  },
  {
   "cell_type": "markdown",
   "metadata": {},
   "source": [
    "**The Identity Gate.** The identity gate maps $\\left|0\\right\\rangle$ to $\\left|0\\right\\rangle$ and $\\left|1\\right\\rangle$ to $\\left|1\\right\\rangle$. As you can expect, it corresponds to the identity matrix $\\begin{bmatrix}\n",
    "1 & 0\\\\\n",
    "0 & 1 \\\\\n",
    "\\end{bmatrix}$.\n",
    "    \n",
    "    \n",
    "**The NOT Gate.** The next simplest single qubit gate is the equivalent of the NOT gate of classical computing, which acts by flipping the bit. We refer to the quantum version of a NOT gate as the Pauli $X$ gate. Since this is the quantum analogue, we expect that it flips the state of a qubit. Indeed this is how it acts on the standard basis elements $\\left|0\\right\\rangle$ and $\\left|1\\right\\rangle$:\n",
    "    \n",
    "$$X\\left|0\\right\\rangle=\\left|1\\right\\rangle \\qquad X\\left|1\\right\\rangle=\\left|0\\right\\rangle$$\n",
    "    \n",
    "How does it act on a general state? Since it is a linear transformation, it acts *linearly*:\n",
    "    \n",
    "$$X(\\alpha\\left|0\\right\\rangle+\\beta\\left|1\\right\\rangle)=\\alpha\\left|1\\right\\rangle+\\beta\\left|0\\right\\rangle$$\n",
    "    \n",
    "The matrix representation of the NOT-gate is shown in the table above. We can check that it acts as expected:\n",
    "$$ \\begin{bmatrix}\n",
    "0 & 1\\\\\n",
    "1 & 0\\\\\n",
    "\\end{bmatrix}\\begin{bmatrix}\n",
    "\\alpha\\\\\n",
    "\\beta\\\\\n",
    "\\end{bmatrix} = \\begin{bmatrix}\n",
    "\\beta\\\\\\alpha\\\\\n",
    "\\end{bmatrix}  $$\n",
    "    \n",
    "**The Phase Gate.** The Pauli $Z$ matrix adds a factor of $-1$ to the coefficient of $\\left|1\\right\\rangle$, that is, the standard basis element (i.e. $\\left|1\\right\\rangle$ maps to $-\\left|1\\right\\rangle$), and leaves the $\\left|0\\right\\rangle$ standard basis element unchanged. Then, $$Z=\\begin{bmatrix}\n",
    "1 & 0\\\\\n",
    "0 & -1\\\\\n",
    "\\end{bmatrix}$$\n",
    "    \n",
    "**The Hadamard Gate.** The Hadamard gate is defined as\n",
    "$$H=\\frac{1}{\\sqrt{2}}\\begin{bmatrix}\n",
    "1 & 1\\\\\n",
    "1 & -1\\\\\n",
    "\\end{bmatrix}$$\n",
    "It maps the $\\left|0\\right\\rangle$ state to $\\tfrac{1}{\\sqrt{2}}(\\left|0\\right\\rangle+\\left|1\\right\\rangle)$, and the $\\left|1\\right\\rangle$ state to $\\tfrac{1}{\\sqrt{2}}(\\left|0\\right\\rangle-\\left|1\\right\\rangle)$. In other words, it creates equal superpositions of $\\left|0\\right\\rangle$ and $\\left|1\\right\\rangle$ starting from the computational basis states, with slightly different phases. Much of the power in quantum computing comes from creating superpositions and using them to our advantage. For this reason, the Hadamard gate will become very important in later sections.  <br/>\n",
    "\n",
    "<!-- It turns out that any single qubit quantum gate can be broken down into products of the following two gates:\n",
    "    \n",
    "$$R=\\begin{bmatrix}\n",
    "\\cos{\\gamma/2} & -\\sin{\\gamma/2}\\\\\n",
    "\\sin{\\gamma/2} & \\cos{\\gamma/2}\\\\\n",
    "\\end{bmatrix} \\qquad \\text{and} \\qquad P=\\begin{bmatrix}\n",
    "e^{-i\\beta/2} & 0\\\\\n",
    "0 & e^{i\\beta/2}\\\\\n",
    "\\end{bmatrix},$$\n",
    "    \n",
    "up to scalar multiplication by some $e^{i\\alpha}$. -->"
   ]
  },
  {
   "cell_type": "markdown",
   "metadata": {},
   "source": [
    "<font size=3 color=b64c35>**Exercise.**</font> Apply the Hadamard gate to the state $\\begin{align}\\left| \\psi \\right\\rangle=  \\frac{1}{\\sqrt{2}} \\left| 0 \\right\\rangle + \\frac{1}{\\sqrt{2}} \\left| 1 \\right\\rangle \\end{align} \\label{general_state}$. What is the resulting state?\n",
    "\n",
    "(i)  $\\,\\,\\,\\,\n",
    "\\,\\left| 0 \\right\\rangle$ <br>\n",
    "(ii) $\\,\\,\\,\\,\\left| 1 \\right\\rangle$ <br>\n",
    "(iii) $\\,\\,\\,\\,\\frac{1}{\\sqrt{2}} \\left| 0 \\right\\rangle + \\frac{1}{\\sqrt{2}} \\left| 1 \\right\\rangle$<br>\n",
    "(iv) $\\,\\,\\,\\,\\frac{1}{\\sqrt{2}} \\left| 0 \\right\\rangle + \\frac{1}{\\sqrt{2}} \\left| 1 \\right\\rangle$  <br>"
   ]
  },
  {
   "cell_type": "code",
   "execution_count": null,
   "metadata": {},
   "outputs": [],
   "source": [
    "from qbraid_quiz_widget import MultipleChoiceQuestion\n",
    "MultipleChoiceQuestion('Select_one_of_the_fo-4srts80nsw')"
   ]
  },
  {
   "cell_type": "markdown",
   "metadata": {},
   "source": [
    "<font size=3 color=b64c35>**Exercise.**</font> Apply first a Hadamard ($H$) gate, then a $Z$ gate, then a Hadamard ($H$) gate to the state $\\left| \\psi \\right\\rangle =  \\left| 0 \\right\\rangle$. What is the resulting state?\n",
    "\n",
    "(i)  $\\,\\,\\,\\,\\,\\left| 0 \\right\\rangle$ <br>\n",
    "(ii) $\\,\\,\\,\\,\\left| 1 \\right\\rangle$ <br>\n",
    "(iii) $\\,\\,\\,\\,\\frac{1}{\\sqrt{2}} \\left| 0 \\right\\rangle + \\frac{1}{\\sqrt{2}} \\left| 1 \\right\\rangle$<br>\n",
    "(iv) $\\,\\,\\,\\,\\frac{1}{\\sqrt{2}} \\left| 0 \\right\\rangle + \\frac{1}{\\sqrt{2}} \\left| 1 \\right\\rangle$  <br>"
   ]
  },
  {
   "cell_type": "code",
   "execution_count": null,
   "metadata": {},
   "outputs": [],
   "source": [
    "from qbraid_quiz_widget import MultipleChoiceQuestion\n",
    "MultipleChoiceQuestion('Select_one_of_the_ab-omld478bqt')"
   ]
  },
  {
   "cell_type": "markdown",
   "metadata": {},
   "source": [
    "<font size=3 color=b64c35>**Exercise.**</font> Applying single-qubit gates twice in a row sometimes yields some interesting results. Calculate the 2x2 matrix for the following gates: $H^2$, $X^2$, $Y^2$ and $Z^2$. What do you notice about the result?"
   ]
  },
  {
   "cell_type": "markdown",
   "metadata": {
    "toc-hr-collapsed": false
   },
   "source": [
    "<h1 style=\"color:MediumSeaGreen;\">Fireworks, photons, and an illuminating thought experiment</h1>\n",
    "\n",
    "In this section, we describe an eye-opening thought experiment which will, at the very least, make you better understand what you have learned so far, and, in the best case scenario, will leave you completely awe-struck at quantum mechanics. You might remember this thought experiment from our introductory module, where it was posed as a puzzle with seemingly no solution. At this point, you are finally ready to understand how quantum mechanics provides one! We recall the thought experiment.\n",
    "\n",
    "Imagine a box which could be holding a firework. If the firework is present, it is designed to set off as soon as it is hit by a single photon (a particle of light). What this means is, if you shine a photon through a hole on the box to 'see' if the firework is present, it will set off. The box has two holes on two of the opposite faces, so that you can send in light from one side. If you do so, you will either see the light come out on the opposite side, in which case you conclude that the box is empty, or you will not see light coming out, in which case you conclude that the firework was present to block it. Of course, if this happens, our photon-sensitive firework will be set off.\n",
    "\n",
    "The question is: Is there a way to find out if the firework is present or not, without letting it go off? No tricks, no weighing, touching, or interacting with the box in any way but with light and the two holes. \n",
    "\n",
    "It seems pretty clear that it is impossible to succeed at this task: the only way to know if the firework is present or not is to shine a photon at it, but once you do, it explodes!\n",
    "\n",
    "Well... hold that thought: quantum physics says that there is, in fact, a way to succeed! The solution is given by the following circuit:\n",
    "\n",
    "<img src=\"images/evb_image.png\" height=\"350\" width=\"400\" />\n",
    "\n",
    "Let's understand the components of this circuit.\n",
    "- There are two mirrors. A mirror simply reflects any photon that hits it. \n",
    "- There are two *beam* splitters*. A *beam splitter* either lets a photon through or reflects it. These two options happen with equal probabilities. \n",
    "- There are two detectors, labelled A and B. These simply record any photon that hits them.\n",
    "- A source (in purple), which emits photons.\n",
    "\n"
   ]
  },
  {
   "cell_type": "markdown",
   "metadata": {},
   "source": [
    "<h2 style=\"color:MediumSeaGreen;\">Case 1: No Firework</h2>\n",
    "\n",
    "**Classical Expectations.** Before we do anything with a firework, let's first understand how the circuit works on its own. Try to think about what would happen in the following circuit when the source emits a photon. \n",
    "1. The first beam splitter causes half the photons to deflect up, while the other continue straight.</font>\n",
    "2. The second beam splitter has photons incoming from two directions:\n",
    "  - The photons coming from the up-then-right path.  Half of these (25% of the total number of photons) will deflect up to detector A, and the other half will continue to detector B.\n",
    "  - The photons coming from the right-then-up path. Half of these (25% of the total) will deflect right to detector B, and the other half will continue straight to detector A.\n",
    "3. You conclude that 50% of photons will end up at detector A, and 50% at detector B.\n",
    "A schematic of this idea is shown here.\n",
    "\n",
    "<img src=\"images/evb_1.gif\" height=\"350\" width=\"400\" />\n",
    "\n",
    "Such a circuit doesn't seem to help us in solving the firework puzzle. \n",
    "\n",
    "However, it turns out that the prediction we just made is false, and does **not** correctly describe what happens! \n",
    "\n",
    "Stunningly, what you actually observe if you carry out the experiment is that the photon hits detector A with 100% probability! "
   ]
  },
  {
   "cell_type": "markdown",
   "metadata": {},
   "source": [
    "**A Quantum Look**. How could this be? The reason is that the photon is a *quantum* object, and the beam splitter is actually a *quantum* gate. It changes the state of the photon, which is initially, say, $\\left| 0 \\right \\rangle$, into an equal superposition of $\\left| 0 \\right \\rangle$ and $\\left| 1 \\right \\rangle$, i.e. into the state $\\frac{\\left| 0 \\right \\rangle + \\left| 1 \\right \\rangle}{2}$. More precisely the beam splitter applies the Hadamard gate $H$, which you have encountered in Example 4, and which acts as follows:\n",
    "\n",
    "$$ \\left| 0 \\right \\rangle \\mapsto \\frac{\\left| 0 \\right \\rangle + \\left| 1 \\right \\rangle}{2}\\\\\n",
    "\\left|1\\right\\rangle\\rightarrow \\frac{\\left| 0\\right \\rangle - \\left| 1 \\right \\rangle}{2}$$\n",
    "\n",
    "i.e. it creates an equal superposition of 0 and 1, with a different relative phase depending on whether the input is 0 or 1. Each path that results from the beam splitter is a different part of the superposition. To distinguish them, we will decide that $\\left| 0 \\right \\rangle$ corresponds to the upper path, and $\\left| 1 \\right \\rangle$ to the lower path. Now that we have a more precise defintion of how a beam splitter works, lets go through the experiment again:\n",
    "1. The state of the photon starts in the state $\\left|0\\right>$.\n",
    "2. The first beam splitter transforms the state of the photon by applying the Hadamard ($H$) gate, resulting in the state \n",
    "$$ H\\left| 0 \\right \\rangle =  \\frac{\\left| 0 \\right \\rangle + \\left| 1 \\right \\rangle}{\\sqrt{2}}$$\n",
    "3. The second beam splitter applies the $H$ gate again, and the state becomes (using linearity of quantum gates)\n",
    "$$\\begin{align}\n",
    "H \\frac{\\left| 0 \\right \\rangle + \\left| 1 \\right \\rangle}{\\sqrt{2}} &= \\frac{1}{\\sqrt{2}} H \\left| 0 \\right \\rangle+  \\frac{1}{\\sqrt{2}} H \\left| 1 \\right \\rangle \\\\\n",
    "&= \\frac{1}{\\sqrt{2}} \\left(\\frac{\\left| 0 \\right \\rangle + \\left| 1 \\right \\rangle}{\\sqrt{2}}\\right) + \\frac{1}{\\sqrt{2}} \\left(\\frac{\\left| 0 \\right \\rangle - \\left| 1 \\right \\rangle}{\\sqrt{2}}\\right) \\\\\n",
    "&= \\frac12 \\left| 0 \\right \\rangle + \\frac12 \\left| 1 \\right \\rangle + \\frac12 \\left| 0 \\right \\rangle - \\frac12 \\left| 1 \\right \\rangle \\\\ \n",
    "&=\\left| 0 \\right \\rangle\n",
    "\\end{align}$$\n",
    "\n",
    "where in the calculation above we used the linearity of quantum gates. What this means is that when the photon hits the second beam splitter it will always be *reflected*, and thus it will hit detector A. As you can see from the last calculation, the amplitudes corresponding to $\\left| 0 \\right \\rangle$ terms have interfered *constructively*, while the amplitudes corresponding to $\\left| 1 \\right \\rangle$ terms have interfered *destructively*. You could interpret this as the photon having \"interfered with itself\". (A similar effect explains the interference patterns that we saw in the double-slit experiment of the previous module. Now you have a better understanding of that phenomenon too!). So what is happening to the photon as it goes through the circuit looks something more like this:\n",
    "\n",
    "<img src=\"images/evb_2.gif\" height=\"350\" width=\"400\" />"
   ]
  },
  {
   "cell_type": "markdown",
   "metadata": {},
   "source": [
    "<h2 style=\"color:MediumSeaGreen;\">Case 2: With the Firework</h2>\n",
    "\n",
    "Armed with this analysis, we can easily understand what happens if we place an empty box in the lower path of the circuit, as shown in the figure below. Since the empty box lets photons pass through unaffected, this circuit leads to an identical outcome as the circuit above; the photon will hit detector A with probability 1, just as if the box were not there.\n",
    "\n",
    "<img src=\"images/evb_3.gif\" height=\"350\" width=\"400\" />\n",
    "\n",
    "However, what about when the box contains the firework? What is the outcome of the above circuit? This is where the magic happens. The firework acts as a measurement device (it will either set off or not depending on whether the photon has taken the lower or upper path). Thus the firework *forces* the photon to decide, i.e. it measures the photon! Formally, recall that after the first beam splitter the state of the photon is \n",
    "\n",
    "$$\\frac{\\left| 0 \\right \\rangle + \\left| 1 \\right \\rangle}{\\sqrt{2}}$$\n",
    "\n",
    "Placing a firework in the box corresponds to making a standard basis *measurement*, i.e. a measurement that asks \"is the state of the photon $\\left| 0 \\right \\rangle$ or $\\left| 1 \\right \\rangle$?\". Let's analyze what happens. By Born's rule, with probability $\\frac12$ the outcome of the measurement will be $1$, i.e. the photon has taken the lower path and the firework sets off. In this case, no photon will be detected at either detector. \n",
    "\n",
    "<img src=\"images/evb_4.gif\" height=\"350\" width=\"400\" />\n",
    "\n",
    "With probability $\\frac12$ the outcome will be $0$, i.e. the photon has taken the upper path and the firework does not set off. In this case, the photon, in the state $\\left| 0 \\right \\rangle$ will hit the second beam splitter, after which it will again be in an equal superposition of $\\left| 0 \\right \\rangle$ (reflected by the beam splitter and going towards detector A) and $\\left| 1 \\right \\rangle$ (going through the beam splitter and towards detector B). What this means is that when we finally check whether the photon has hit detector A or B (i.e. we measure!), by Born's rule the photon will hit detector A with probability $\\frac12$ and detector B with probability $\\frac12$!\n",
    "\n",
    "<img src=\"images/evb_5.gif\" height=\"350\" width=\"400\" />\n",
    "\n",
    "To recap, in the case that box is empty, the photon always hits detector A. When the box contains the firework:\n",
    "- 50% of the times no photon hits the detectors (i.e the firework has set off)\n",
    "- 25% of the times the photon hits detector A.\n",
    "- 25% of the times the photon hits detector B.\n",
    "\n",
    "The really big deal is that in case 3, when the photon hits detector B, we are certain that the box contains the firework, but we learned this **without** setting it off! All in all, we have shown you a way to identify if there is a firework in the box without making it set off, which succeeds at least some significant fraction of the time."
   ]
  },
  {
   "cell_type": "markdown",
   "metadata": {},
   "source": [
    "<h2 style=\"color:MediumSeaGreen;\">Axioms of Quantum Mechanics Revisited</h2>\n",
    "\n",
    "Now that we have discussed qubits, the essential building blocks of quantum computing, let's revisit their properties according to the fundamental axioms of quantum mechanics described in Module 1.\n",
    "\n",
    "1. A quantum state is a vector with complex entries. The quantum state of a qubit is a 2-dimensional vector represented as\n",
    "    $$\\begin{bmatrix}\n",
    "    \\alpha \\\\\n",
    "    \\beta\n",
    "    \\end{bmatrix},$$\n",
    "or equivalently as $\\alpha \\left|0 \\right> + \\beta \\left|1 \\right>$, where $\\left| 0 \\right> = \\begin{bmatrix}\n",
    "    1\\\\\n",
    "    0\n",
    "    \\end{bmatrix}$ and $\\left| 1 \\right> = \\begin{bmatrix}\n",
    "    0\\\\\n",
    "    1\n",
    "    \\end{bmatrix}$.\n",
    "\n",
    "2. A quantum state evolves in one of two ways: via a <b>measurement</b>, in which case the probabilities of the measurement outcomes obey *Born's rule*; via a unitary <b>linear transformation</b> (i.e. multiplication by a unitary matrix). \n",
    "\n",
    "3. Born's rule. When we measure a quantum state $\\alpha \\left|0 \\right> + \\beta \\left|1 \\right>$, we obtain an outcome '0',  upon which the state collapses to $\\left|0 \\right>$, or an outcome '1', upon which the state collapses to $\\left|1 \\right>$. The probabilities of these two outcomes are respectively $|\\alpha|^2$ and $|\\beta|^2$.\n"
   ]
  },
  {
   "cell_type": "markdown",
   "metadata": {},
   "source": [
    "<h1 style=\"color:MediumSeaGreen;\">Review</h1>\n",
    "\n",
    "- The general state of a qubit is $\\begin{align}\\left| \\psi \\right\\rangle=\\alpha \\left| 0 \\right\\rangle+\\beta \\left| 1 \\right\\rangle \\end{align} \\label{general_state}$, where $\\alpha$ and $\\beta$ are complex numbers.\n",
    "- Born's rule states that measuring a quantum state will cause a collapse of a quantum state to the measured outcome. This process is a fundamental axiom of quantum mechanics.\n",
    "- The probability of measuring a qubit in the state $\\left| 0 \\right>$ is $|\\alpha |^2$. The probability of measuring a qubit in the state $\\left| 1 \\right>$ is $|\\beta |^2$. The quantities $\\alpha$ and $\\beta$ must satisfy $|\\alpha|^2+|\\beta|^2=1$, such that the probability of all outcomes sums to one.\n",
    "- A single-qubit gate is defined by a unitary, linear transformation on the qubit state. In vector notation, a single-qubit gate is represented by a 2x2 matrix. Some common single-qubit gates are:\n",
    "$$\\begin{align} X&=\\begin{bmatrix} 0 & 1\\\\ \n",
    "1 & 0\\\\ \\end{bmatrix}\n",
    "& Y&=\\begin{bmatrix}\n",
    "0 & -i\\\\\n",
    "i & 0\\\\\n",
    "\\end{bmatrix}\\\\\n",
    "Z&=\\begin{bmatrix}\n",
    "1 & 0\\\\\n",
    "0 & -1\\\\\n",
    "\\end{bmatrix}\n",
    "&\n",
    "H&=\\frac{1}{\\sqrt{2}}\\begin{bmatrix}\n",
    "1 & 1\\\\\n",
    "1 & -1\\\\\n",
    "\\end{bmatrix}\n",
    "\\end{align}$$\n",
    "- One physical example of quantum circuit is a photon passing through beam-splitters and hitting a series of detectors. Each path of the beam-splitters describes one part of the superposition state. We find that placing a box with a firework amounts to \"measuring\" the system, and forces the superposition to collapse to one of the paths. This causes the photon to behave differently at the second beamsplitter in the cases where the firework is present or not, which allows us to determine (some of the time) whether the firework is in the box without setting it off."
   ]
  },
  {
   "cell_type": "markdown",
   "metadata": {},
   "source": [
    "<h1 style=\"color:MediumSeaGreen;\">Problems</h1>\n",
    "\n",
    "<font size=3 color=b64c35>**Problem.**</font> Certain light crystals behave in such a way as two \"slow down\" light as it travels through them. The effect of such a crystal is to add a phase to the light that passes through. For example, the crystal might act as follows:\n",
    "\n",
    "\\begin{align}\n",
    "\\left| 0 \\right> &\\rightarrow \\left| 0 \\right> \\\\\n",
    "\\left| 1 \\right> &\\rightarrow \\left(\\cos\\phi+i\\sin\\phi\\right)\\left| 1\\right>\n",
    "\\end{align}\n",
    "\n",
    "How could we use such a crystal to implement the $Z$ gate on our element above? What phase angle $\\phi$ should the crystal have?"
   ]
  },
  {
   "cell_type": "markdown",
   "metadata": {},
   "source": [
    "<font size=3 color=b64c35>**Problem.**</font> Beam splitters come in many types. In the firework example above, we used 50/50 beam splitters. What happens if we use other beamsplitters, such as 60/40 or 70/30? A more generalized version of a Hadamard gate ($Q$) can be written as\n",
    "$$Q=\\begin{bmatrix}\n",
    "\\alpha & \\beta\\\\\n",
    "\\beta & -\\alpha\\\\\n",
    "\\end{bmatrix},$$\n",
    "where $\\alpha$ and $\\beta$ obey the usual normalization rule $|\\alpha|^2+|\\beta|^2=1$. This has the following effect:\n",
    "$$ \\left| 0 \\right \\rangle \\mapsto \\alpha \\left| 0 \\right \\rangle + \\beta \\left| 1 \\right \\rangle\\\\\n",
    "\\left|1\\right\\rangle\\mapsto \\beta \\left| 0 \\right \\rangle - \\alpha \\left| 1 \\right \\rangle.$$\n",
    "First, consider the case with no firework. Suppose we replaced the first beam-splitter with a 60/40 beamsplitter. This means that 60% of the time, the photon will be deflected. \n",
    "1. What is the state of the qubit after the first beamsplitter?\n",
    "2. The second beamsplitter is still a 50/50 beamsplitter. Recalling that this beamsplitter behaves as a Hadamard gate, how does it affect each of these components separately?\n",
    "3. Given your answer to part 2, what is the probability of detecting the photon on detector A and detector B?\n",
    "\n",
    "<font size=3 color=b64c35>**Problem.**</font>  As posed, our firework problem is a bit counterproductive. We want to determine whether the firework is in the box, but in doing so we run the experiment a large number of times to determine the probability of the photon hitting detector A and detector B. In practice, it would be nice if the firework never blew up at all, and we could still find our answer. We can get closer to this goal by modifying the beam splitters. \n",
    "\n",
    "What we are looking for is to maximize the difference between what happens when the firework is present and what happens when there is no firework. The bigger this difference, more confident we can be in our answer. We also want to minimize the probability of the firework blowing up. We can define a *detection score* as:\n",
    "  $$\\Delta p_a+\\Delta p_b -2p_{\\text{firework}},$$\n",
    "where $\\Delta p_a$ and $\\Delta p_b$ are the differences between between the expected measurement probabilities with and without the firework. $p_{\\text{firework}}$ is the probability of the firework going off. In the case of our original problem (with two 50/50 beam splitters), this quantity is zero.\n",
    "\n",
    "1. What combination of beamsplitters maximizes the probability of detection on B? Using the the widget below, find the optimum and interpret your results."
   ]
  },
  {
   "cell_type": "code",
   "execution_count": 2,
   "metadata": {},
   "outputs": [
    {
     "data": {
      "application/vnd.jupyter.widget-view+json": {
       "model_id": "5f904501b695417a8e9b28a5838544e3",
       "version_major": 2,
       "version_minor": 0
      },
      "text/plain": [
       "HBox(children=(VBox(children=(IntSlider(value=50, continuous_update=False, description='Beam-splitter 1', step…"
      ]
     },
     "metadata": {},
     "output_type": "display_data"
    },
    {
     "data": {
      "application/vnd.jupyter.widget-view+json": {
       "model_id": "591f84836b5a42dc8085646e4795ef03",
       "version_major": 2,
       "version_minor": 0
      },
      "text/plain": [
       "Output(layout=Layout(height='325px'))"
      ]
     },
     "metadata": {},
     "output_type": "display_data"
    }
   ],
   "source": [
    "%run python_functions/modified_firework.py"
   ]
  },
  {
   "cell_type": "markdown",
   "metadata": {},
   "source": [
    "<hr />\n",
    "\n",
    "<font size=3 color=b64c35>Prev module: </font><font size=4 color=b64c35>[4. Background math](./04_Background_math_linear_algebra.ipynb)</font>  &nbsp;&nbsp;&nbsp; &nbsp;&nbsp; &nbsp;&nbsp;&nbsp; &nbsp;&nbsp; &nbsp;&nbsp;&nbsp; &nbsp;&nbsp; &nbsp;&nbsp;&nbsp; &nbsp;&nbsp; &nbsp;&nbsp;&nbsp; &nbsp;&nbsp; &nbsp;&nbsp;&nbsp; &nbsp;&nbsp; &nbsp;&nbsp;&nbsp; &nbsp;&nbsp; &nbsp;&nbsp;&nbsp; &nbsp;&nbsp; &nbsp;&nbsp;&nbsp; &nbsp;&nbsp; \n",
    "<font size=3 color=b64c35>Next module: </font> <font size=4 color=b64c35>[6. Writing quantum programs](./06_Writing_quantum_programs.ipynb)</font>"
   ]
  },
  {
   "cell_type": "code",
   "execution_count": null,
   "metadata": {},
   "outputs": [],
   "source": []
  }
 ],
 "metadata": {
  "kernelspec": {
   "display_name": "Python 3",
   "language": "python",
   "name": "python3"
  },
  "language_info": {
   "codemirror_mode": {
    "name": "ipython",
    "version": 3
   },
   "file_extension": ".py",
   "mimetype": "text/x-python",
   "name": "python",
   "nbconvert_exporter": "python",
   "pygments_lexer": "ipython3",
   "version": "3.7.6"
  },
  "toc-autonumbering": true,
  "toc-showcode": false,
  "toc-showmarkdowntxt": false,
  "toc-showtags": true,
  "widgets": {
   "application/vnd.jupyter.widget-state+json": {
    "state": {},
    "version_major": 2,
    "version_minor": 0
   }
  }
 },
 "nbformat": 4,
 "nbformat_minor": 4
}
