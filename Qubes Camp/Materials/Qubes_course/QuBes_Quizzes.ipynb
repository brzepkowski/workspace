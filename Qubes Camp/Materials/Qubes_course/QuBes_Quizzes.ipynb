{
 "cells": [
  {
   "cell_type": "code",
   "execution_count": 25,
   "metadata": {},
   "outputs": [],
   "source": [
    "# NOTE: Make sure to run this code block first!\n",
    "#\n",
    "# If any quizzes fail to load, select and run the notebook cell again\n",
    "# by hitting Shift+Enter or by pressing the Play Button in the top toolbar.\n",
    "#\n",
    "# Remember, these quizzes are not graded, and you have unlimited submission attempts.\n",
    "# They're here to help you practice what you've learned, and test your memory retention.\n",
    "from qbraid_quiz_widget import MultipleChoiceQuestion"
   ]
  },
  {
   "cell_type": "code",
   "execution_count": 15,
   "metadata": {},
   "outputs": [
    {
     "data": {
      "application/vnd.jupyter.widget-view+json": {
       "model_id": "2c66513667d94754b5b3c2dd3b5d4d1f",
       "version_major": 2,
       "version_minor": 0
      },
      "text/plain": [
       "MultipleChoiceQuestion(resource_id='Assuming_that_there_-fcjdpfvmvw')"
      ]
     },
     "metadata": {},
     "output_type": "display_data"
    }
   ],
   "source": [
    "MultipleChoiceQuestion('Assuming_that_there_-fcjdpfvmvw')"
   ]
  },
  {
   "cell_type": "code",
   "execution_count": 16,
   "metadata": {},
   "outputs": [
    {
     "data": {
      "application/vnd.jupyter.widget-view+json": {
       "model_id": "4d271f1534824b4688deb0f5e7bcbf8a",
       "version_major": 2,
       "version_minor": 0
      },
      "text/plain": [
       "MultipleChoiceQuestion(resource_id='Let_a_5__3i_and_b__1-9nep9ifyf4')"
      ]
     },
     "metadata": {},
     "output_type": "display_data"
    }
   ],
   "source": [
    "MultipleChoiceQuestion('Let_a_5__3i_and_b__1-9nep9ifyf4')"
   ]
  },
  {
   "cell_type": "code",
   "execution_count": 17,
   "metadata": {},
   "outputs": [
    {
     "data": {
      "application/vnd.jupyter.widget-view+json": {
       "model_id": "0822d0f304614b79817055496e85fe0e",
       "version_major": 2,
       "version_minor": 0
      },
      "text/plain": [
       "MultipleChoiceQuestion(resource_id='Let_a_2__i_and_b__3_-qdsrbmahed')"
      ]
     },
     "metadata": {},
     "output_type": "display_data"
    }
   ],
   "source": [
    "MultipleChoiceQuestion('Let_a_2__i_and_b__3_-qdsrbmahed')"
   ]
  },
  {
   "cell_type": "code",
   "execution_count": 18,
   "metadata": {},
   "outputs": [
    {
     "data": {
      "application/vnd.jupyter.widget-view+json": {
       "model_id": "da659c9c36424718a0adef5bdd4ebe0b",
       "version_major": 2,
       "version_minor": 0
      },
      "text/plain": [
       "MultipleChoiceQuestion(resource_id='Let_a_2i_and_b__34i_-py9zz5pi67')"
      ]
     },
     "metadata": {},
     "output_type": "display_data"
    }
   ],
   "source": [
    "MultipleChoiceQuestion('Let_a_2i_and_b__34i_-py9zz5pi67')"
   ]
  },
  {
   "cell_type": "code",
   "execution_count": 19,
   "metadata": {},
   "outputs": [
    {
     "data": {
      "application/vnd.jupyter.widget-view+json": {
       "model_id": "a24e95142580478d89661049d4b27545",
       "version_major": 2,
       "version_minor": 0
      },
      "text/plain": [
       "MultipleChoiceQuestion(resource_id='Let_a_4i_and_b__1i_W-u2cbtye2s6')"
      ]
     },
     "metadata": {},
     "output_type": "display_data"
    }
   ],
   "source": [
    "MultipleChoiceQuestion('Let_a_4i_and_b__1i_W-u2cbtye2s6')"
   ]
  },
  {
   "cell_type": "code",
   "execution_count": 20,
   "metadata": {},
   "outputs": [
    {
     "data": {
      "application/vnd.jupyter.widget-view+json": {
       "model_id": "da10cbd19b7d4bde905490d32e18f5ab",
       "version_major": 2,
       "version_minor": 0
      },
      "text/plain": [
       "MultipleChoiceQuestion(resource_id='What_is_beginbmatrix-k9fw8cursu')"
      ]
     },
     "metadata": {},
     "output_type": "display_data"
    }
   ],
   "source": [
    "MultipleChoiceQuestion('What_is_beginbmatrix-k9fw8cursu')"
   ]
  },
  {
   "cell_type": "code",
   "execution_count": 21,
   "metadata": {},
   "outputs": [
    {
     "data": {
      "application/vnd.jupyter.widget-view+json": {
       "model_id": "3fdc97a32fd14f8a956f52aaa99d5e23",
       "version_major": 2,
       "version_minor": 0
      },
      "text/plain": [
       "MultipleChoiceQuestion(resource_id='Calculate_beginbmatr-la453vosx1')"
      ]
     },
     "metadata": {},
     "output_type": "display_data"
    }
   ],
   "source": [
    "MultipleChoiceQuestion('Calculate_beginbmatr-la453vosx1')"
   ]
  },
  {
   "cell_type": "code",
   "execution_count": 22,
   "metadata": {},
   "outputs": [
    {
     "data": {
      "application/vnd.jupyter.widget-view+json": {
       "model_id": "a61702d85e504f7192f958fe563b85f1",
       "version_major": 2,
       "version_minor": 0
      },
      "text/plain": [
       "MultipleChoiceQuestion(resource_id='Calculate_beginbmatr-yqsdsnll9c')"
      ]
     },
     "metadata": {},
     "output_type": "display_data"
    }
   ],
   "source": [
    "MultipleChoiceQuestion('Calculate_beginbmatr-yqsdsnll9c')"
   ]
  },
  {
   "cell_type": "code",
   "execution_count": 23,
   "metadata": {},
   "outputs": [
    {
     "data": {
      "application/vnd.jupyter.widget-view+json": {
       "model_id": "39537d56bbcb481a9f42cae22341968b",
       "version_major": 2,
       "version_minor": 0
      },
      "text/plain": [
       "MultipleChoiceQuestion(resource_id='Calculate_beginbmatr-lkugg66x55')"
      ]
     },
     "metadata": {},
     "output_type": "display_data"
    }
   ],
   "source": [
    "MultipleChoiceQuestion('Calculate_beginbmatr-lkugg66x55')"
   ]
  },
  {
   "cell_type": "code",
   "execution_count": 24,
   "metadata": {},
   "outputs": [
    {
     "data": {
      "application/vnd.jupyter.widget-view+json": {
       "model_id": "41a44c9a428c4b5b9bc54b290acf295f",
       "version_major": 2,
       "version_minor": 0
      },
      "text/plain": [
       "MultipleChoiceQuestion(resource_id='Calculate_beginbmatr-d2oy4kkpfc')"
      ]
     },
     "metadata": {},
     "output_type": "display_data"
    }
   ],
   "source": [
    "MultipleChoiceQuestion('Calculate_beginbmatr-d2oy4kkpfc')"
   ]
  }
 ],
 "metadata": {
  "kernelspec": {
   "display_name": "Python 3",
   "language": "python",
   "name": "python3"
  },
  "language_info": {
   "codemirror_mode": {
    "name": "ipython",
    "version": 3
   },
   "file_extension": ".py",
   "mimetype": "text/x-python",
   "name": "python",
   "nbconvert_exporter": "python",
   "pygments_lexer": "ipython3",
   "version": "3.7.6"
  }
 },
 "nbformat": 4,
 "nbformat_minor": 4
}
