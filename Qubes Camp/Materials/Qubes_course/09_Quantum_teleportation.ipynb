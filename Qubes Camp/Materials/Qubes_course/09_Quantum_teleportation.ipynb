{
 "cells": [
  {
   "cell_type": "markdown",
   "metadata": {},
   "source": [
    "<font size=3 color=b64c35>Prev module: </font><font size=4 color=b64c35>[8. Deutsch's algorithm](./08_Deutsch_algorithm.ipynb)</font>  &nbsp;&nbsp;&nbsp; &nbsp;&nbsp; &nbsp;&nbsp;&nbsp; &nbsp;&nbsp; &nbsp;&nbsp;&nbsp; &nbsp;&nbsp; &nbsp;&nbsp;&nbsp; &nbsp;&nbsp; &nbsp;&nbsp;&nbsp; &nbsp;&nbsp; &nbsp;&nbsp;&nbsp; &nbsp;&nbsp; &nbsp;&nbsp;&nbsp; &nbsp;&nbsp; &nbsp;&nbsp;&nbsp; &nbsp;&nbsp; &nbsp;&nbsp;&nbsp; &nbsp;&nbsp; \n",
    "<font size=3 color=b64c35>Next module: </font> <font size=4 color=b64c35>[10. Quantum algorithms discussion](./10_Quantum_algorithms_discussion.ipynb)</font>\n",
    "\n",
    "<hr/>"
   ]
  },
  {
   "cell_type": "markdown",
   "metadata": {},
   "source": [
    "<h1 style=\"color:MediumSeaGreen;\">Quantum teleportation</h1>\n",
    "\n",
    "Quantum teleportation is a protocol for transporting quantum states from place to another across any distance, whether across a room or across the galaxy. This is a particularly fun one to think about, as it displays many of the surprising features of quantum mechanics. Unfortunately, despite what some headlines might suggest, the story is not as simple as faster-than-light communication, as we will soon see. Let's begin with a story.\n",
    "\n",
    "Imagine two people, Alice and Bob, living happily on earth until space war breaks out, forcing Alice to leave for a mission on Proxima Centauri-B while Bob remains on Earth. As a symbol of their shared bond, they decide to make a Bell pair of qubits, and each holds onto one of them. The two qubits shall remain carefully entangled in this state. While on her mission, Alice discovers a qubit in enemy territory. The exact superposition state of this qubit is what enemies use as a password for some important information stored in a quantum memory machine. One of these machines was captured in the previous missions and is currently being studied on Earth.\n",
    "\n",
    "With this password qubit in possession, standing alone in a quantum lab of the enemy, Alice realizes that she will be captured soon and needs to send the qubit/information in the qubit back to Bob on\n",
    "Earth. The big question is, how can she send either the qubit itself/the information in the qubit?\n",
    "\n",
    "Now, we want you to appreciate the following aspects of the mission at hand:\n",
    "1. As we have learned, she cannot just measure the information and send it to Bob, because, as we have learned, measuring the qubit collapses the state of the qubit to one of the possible standard basis states. Let's say the state of the qubit was:\n",
    "\n",
    "$$\\begin{align}\\left| \\psi \\right\\rangle=\\alpha \\left| 0 \\right\\rangle+\\beta \\left| 1 \\right\\rangle \\end{align} \\label{general_state}\\tag{1}$$\n",
    "\n",
    " If Alice measures it, she will measure the qubit to be in $\\left| 0 \\right \\rangle$ or in $\\left|1\\right\\rangle$, and she would have no idea what the superposition defined by $\\alpha$ and $\\beta$ was.\n",
    "\n",
    "2. She also cannot just beam the qubit through space. A quantum state is very fragile: if the qubit interacts with anything on its way, the quantum information would be destroyed. With Earth being light years away, the latter would happen with overwhelming probability.\n",
    "\n",
    "So, what can she do? \n",
    "Remember that Bell pair that Alice and Bob shared. Alice and Bob will be able to use their entangled pair of qubits to communicate this superposition:\n",
    "\n",
    "- Alice entangles her Bell pair qubit with the password qubit.\n",
    "- Alice then measures both the qubits in possession, which will affect the state of Bob's qubit. The states of the qubits upon measurement will be one of the following options: 00, 01, 10, 11.\n",
    "- She then beams her measurement results back to earth and based on the measurement, Bob applies some quantum gates to his qubit (depending on the received measurement results), upon which he will recover the state of the qubit that Alice intended to send.\n",
    "\n"
   ]
  },
  {
   "cell_type": "markdown",
   "metadata": {},
   "source": [
    "<img src=\"images/teleportation.png\"\n",
    "     alt=\"Cat\" height=\"450\" width=\"700\" />"
   ]
  },
  {
   "cell_type": "markdown",
   "metadata": {},
   "source": [
    "This is the conceptual sketch of teleportation. Let's explore the protocol in detail,\n",
    "\n",
    "- The three qubits involved here, from top to bottom of the circuit diagram below, are the password qubit $\\left| \\psi \\right\\rangle$, Alice's Bell qubit, and Bob's Bell qubit. At this point, with subscript notation to differentiate between the Password (P), Alice (A), and Bob (B) qubits, the states are: \n",
    " - $| $<span style=\"color:orange\">$ Password $</span>$ \\rangle = $<span style=\"color:orange\">$\\alpha \\left| 0_{Password} \\right\\rangle+\\beta \\left| 1_{Password} \\right\\rangle $</span>$ = $<span style=\"color:orange\">$\\alpha \\left| 0_{P} \\right\\rangle+\\beta \\left| 1_{P} \\right\\rangle$</span>\n",
    " \n",
    " - $| $<span style=\"color:seagreen\">$ Alice,Bob $</span>$\\rangle = $<span style=\"color:seagreen\">$\\frac{1}{\\sqrt{2}} \\left| 0_{Alice} 0_{Bob} \\right\\rangle + \\frac{1}{\\sqrt{2}} \\left| 1_{Alice} 1_{Bob} \\right\\rangle$</span>$ = $<span style=\"color:seagreen\">$\\frac{1}{\\sqrt{2}} \\left| 0_{A} 0_{B} \\right\\rangle + \\frac{1}{\\sqrt{2}} \\left| 1_{A} 1_{B} \\right\\rangle$</span>\n",
    " \n",
    "- Alice uses the password qubit as the control for a CNOT operation on her Bell qubit; recall this operation flips her qubit only in the case that the password qubit is in the one state, and leaves it alone if it is in the zero state. At this point, the state of the *whole system* of three qubits denoted as $\\left| \\psi_1 \\right\\rangle$ in the diagram above is: \n",
    "\n",
    "$\\left| \\psi_1 \\right\\rangle = \\big|$<span style=\"color:orange\">$Password$</span>$, $<span style=\"color:seagreen\">$Alice, Bob$</span>$ \\big\\rangle = \\big|$<span style=\"color:orange\">$P$</span>$, $<span style=\"color:seagreen\">$A, B$</span>$\\big\\rangle = \\big( $<span style=\"color:orange\">$ \\alpha \\left| 0_P \\right\\rangle $</span>$ \\big) * \\Big($<span style=\"color:seagreen\">$\\frac{1}{\\sqrt{2}} \\left| 0_A 0_B \\right\\rangle + \\frac{1}{\\sqrt{2}} \\left| 1_A 1_B \\right\\rangle$</span>$ \\Big) + \\big( $<span style=\"color:orange\">$\\beta \\left| 1_P \\right\\rangle $</span>$ \\big) * \\Big( $<span style=\"color:seagreen\">$ \\frac{1}{\\sqrt{2}} \\left| 1_A 0_B \\right\\rangle + \\frac{1}{\\sqrt{2}} \\left| 0_A 1_B \\right\\rangle$</span>$ \\Big)$\n",
    "\n",
    "\n",
    "\n",
    "- Alice performs the Hadamard gate on the *password qubit*, which turns the <span style=\"color:orange\">$\\left|0_P\\right\\rangle$</span> state to <span style=\"color:orange\">$\\frac{1}{\\sqrt{2}}\\big(\\left|0_P\\right\\rangle+\\left|1_P\\right\\rangle\\big)$</span>, and the <span style=\"color:orange\">$\\left|1_P\\right\\rangle$</span> state to <span style=\"color:orange\">$\\frac{1}{\\sqrt{2}}\\big(\\left|0_P\\right\\rangle-\\left|1_P\\right\\rangle\\big)$</span>, so that the overall system is now:\n",
    "\n",
    "$\\left| \\psi_2 \\right\\rangle = \\big|$<span style=\"color:orange\">$P$</span>$, $<span style=\"color:seagreen\">$A, B$</span>$\\big\\rangle = \\Big( $<span style=\"color:orange\">$ \\alpha \\frac{1}{\\sqrt{2}}\\big(\\left|0_P\\right\\rangle+\\left|1_P\\right\\rangle\\big)$</span>$ \\Big) * \\Big($<span style=\"color:seagreen\">$\\frac{1}{\\sqrt{2}} \\left| 0_A 0_B \\right\\rangle + \\frac{1}{\\sqrt{2}} \\left| 1_A 1_B \\right\\rangle$</span>$ \\Big) + \\Big( $<span style=\"color:orange\">$ \\beta \\frac{1}{\\sqrt{2}}\\big(\\left|0_P\\right\\rangle-\\left|1_P\\right\\rangle\\big)$</span>$ \\Big) * \\Big( $<span style=\"color:seagreen\">$ \\frac{1}{\\sqrt{2}} \\left| 1_A 0_B \\right\\rangle + \\frac{1}{\\sqrt{2}} \\left| 0_A 1_B \\right\\rangle$</span>$ \\Big)$\n",
    "\n",
    "- At this point, Alice measures both the password qubit and her personal qubit, obtaining one of $4$ possible outcomes: '00', '01', '10', '11'. These correspond to the state collapsing respectively to: <span style=\"color:orange\">$\\left|0_P\\right\\rangle$</span><span style=\"color:seagreen\">$\\left|0_A\\right\\rangle$</span>, <span style=\"color:orange\">$\\left|0_P\\right\\rangle$</span><span style=\"color:seagreen\">$\\left|1_A\\right\\rangle$</span>, <span style=\"color:orange\">$\\left|1_P\\right\\rangle$</span><span style=\"color:seagreen\">$\\left|0_A\\right\\rangle$</span>, and <span style=\"color:orange\">$\\left|1_P\\right\\rangle$</span><span style=\"color:seagreen\">$\\left|1_A\\right\\rangle$</span>. \n",
    "\n",
    "**What has happened to Bob's qubit state by this point?**\n",
    "\n",
    "An easier question to answer is the following. \n",
    "\n",
    "What would be the overall state of the system (including Bob's qubit), if the outcome from measuring the password qubit and Alice's qubit is '00'?\n",
    "\n",
    "Very simply, the resulting state consists of all of the terms in $\\left| \\psi_2 \\right\\rangle$ which begin with <span style=\"color:orange\">$\\left|0_P\\right\\rangle$</span><span style=\"color:seagreen\">$\\left|0_A\\right\\rangle$</span>!\n",
    "\n",
    "You can expand the expression for the state $\\left| \\psi_2 \\right\\rangle$ above, throwing away everything which does not begin with <span style=\"color:orange\">$\\left|0_P\\right\\rangle$</span><span style=\"color:seagreen\">$\\left|0_A\\right\\rangle$</span>. Please take your time, and convince yourself that the following expression is what you obtain!\n",
    "\n",
    "$\\left| \\psi_2 \\right\\rangle $<span style=\"color:orange\">$_{0_P}$</span><span style=\"color:seagreen\">$_{0_A}$</span>$ = \\big($<span style=\"color:orange\">$\\alpha \\frac{1}{\\sqrt{2}} \\left|0_P\\right\\rangle$</span>$\\big)\\big($<span style=\"color:seagreen\">$ \\frac{1}{\\sqrt{2}} \\left|0_A 0_B\\right\\rangle$</span>$\\big)+\\big($<span style=\"color:orange\">$\\beta \\frac{1}{\\sqrt{2}} \\left|0_P\\right\\rangle$</span>$\\big)\\big($<span style=\"color:seagreen\">$ \\frac{1}{\\sqrt{2}} \\left|0_A 1_B\\right\\rangle$</span>$\\big) = \\frac{1}{2}\\big($<span style=\"color:orange\">$\\alpha \\left|0_P\\right\\rangle$</span><span style=\"color:seagreen\">$ \\left|0_A 0_B\\right\\rangle$</span>$+$<span style=\"color:orange\">$\\beta \\left|0_P\\right\\rangle$</span><span style=\"color:seagreen\">$ \\left|0_A 1_B\\right\\rangle$</span>$\\big)$,\n",
    "\n",
    "where we denote by $\\left| \\psi_2 \\right\\rangle $<span style=\"color:orange\">$_{0_P}$</span><span style=\"color:seagreen\">$_{0_A}$</span> the state that results from measuring the first two qubits of $\\left| \\psi_2 \\right\\rangle $, and obtaining outcome '00'.\n",
    "\n",
    "Of course, you shouldn't forget to normalize the state after the measurement! You can check that the norm of the final expression for $\\left| \\psi_2 \\right\\rangle $<span style=\"color:orange\">$_{0_P}$</span><span style=\"color:seagreen\">$_{0_A}$</span> that we wrote down is $\\frac12 \\sqrt{|\\alpha|^2 + |\\beta|^2} = \\frac12$. Hence, after normalization, the valid post-measurement state is:\n",
    "\n",
    "$\\left| \\psi_2 \\right\\rangle $<span style=\"color:orange\">$_{0_P}$</span><span style=\"color:seagreen\">$_{0_A}$</span>$ = \\big($<span style=\"color:orange\">$\\alpha \\left|0_P\\right\\rangle$</span><span style=\"color:seagreen\">$ \\left|0_A 0_B\\right\\rangle$</span>$+$<span style=\"color:orange\">$\\beta \\left|0_P\\right\\rangle$</span><span style=\"color:seagreen\">$ \\left|0_A 1_B\\right\\rangle$</span>$\\big) = \\,\\,\\,$<span style=\"color:orange\">$  \\left|0_P\\right\\rangle$</span><span style=\"color:seagreen\">$ \\left|0_A \\right\\rangle$</span>$ \\big($<span style=\"color:orange\">$\\alpha$ </span> <span style=\"color:seagreen\">$ \\left|0_B\\right\\rangle$</span>$ + $ <span style=\"color:orange\">$\\beta$ </span> <span style=\"color:seagreen\">$ \\left|1_B\\right\\rangle$</span>$ \\big),$\n",
    "\n",
    "where the last expression is obtained by a simple rearrangement.\n",
    "\n",
    "Using similar calculations (we suggest that you check them for practice), you can find the post-measurement state of the system upon obtaining the three other possible outcomes:\n",
    "\n",
    "$\\left| \\psi_2 \\right\\rangle $<span style=\"color:orange\">$_{0_P}$</span><span style=\"color:seagreen\">$_{1_A}$</span>$ = \\big($<span style=\"color:orange\">$\\alpha \\frac{1}{\\sqrt{2}} \\left|0_P\\right\\rangle$</span>$\\big)\\big($<span style=\"color:seagreen\">$ \\frac{1}{\\sqrt{2}} \\left|1_A 1_B\\right\\rangle$</span>$\\big)+\\big($<span style=\"color:orange\">$\\beta \\frac{1}{\\sqrt{2}} \\left|0_P\\right\\rangle$</span>$\\big)\\big($<span style=\"color:seagreen\">$ \\frac{1}{\\sqrt{2}} \\left|1_A 0_B\\right\\rangle$</span>$\\big) = \\frac{1}{2}\\big($<span style=\"color:orange\">$\\alpha \\left|0_P\\right\\rangle$</span><span style=\"color:seagreen\">$ \\left|1_A 1_B\\right\\rangle$</span>$+$<span style=\"color:orange\">$\\beta \\left|0_P\\right\\rangle$</span><span style=\"color:seagreen\">$ \\left|1_A 0_B\\right\\rangle$</span>$\\big) = \\,\\,\\,$<span style=\"color:orange\">$  \\left|0_P\\right\\rangle$</span><span style=\"color:seagreen\">$ \\left|1_A \\right\\rangle$</span>$ \\big($<span style=\"color:orange\">$\\alpha$ </span> <span style=\"color:seagreen\">$ \\left|1_B\\right\\rangle$</span>$ + $ <span style=\"color:orange\">$\\beta$ </span> <span style=\"color:seagreen\">$ \\left|0_B\\right\\rangle$</span>$ \\big)$.\n",
    "\n",
    "$\\left| \\psi_2 \\right\\rangle $<span style=\"color:orange\">$_{1_P}$</span><span style=\"color:seagreen\">$_{0_A}$</span>$ = \\big($<span style=\"color:orange\">$\\alpha \\frac{1}{\\sqrt{2}} \\left|1_P\\right\\rangle$</span>$\\big)\\big($<span style=\"color:seagreen\">$ \\frac{1}{\\sqrt{2}} \\left|0_A 0_B\\right\\rangle$</span>$\\big)+\\big($<span style=\"color:orange\">$ -\\beta \\frac{1}{\\sqrt{2}} \\left|1_P\\right\\rangle$</span>$\\big)\\big($<span style=\"color:seagreen\">$ \\frac{1}{\\sqrt{2}} \\left|0_A 1_B\\right\\rangle$</span>$\\big) = \\frac{1}{2}\\big($<span style=\"color:orange\">$\\alpha \\left|1_P\\right\\rangle$</span><span style=\"color:seagreen\">$ \\left|0_A 0_B\\right\\rangle$</span>$-$<span style=\"color:orange\">$\\beta \\left|1_P\\right\\rangle$</span><span style=\"color:seagreen\">$ \\left|0_A 1_B\\right\\rangle$</span>$\\big) = \\,\\,\\,$<span style=\"color:orange\">$  \\left|1_P\\right\\rangle$</span><span style=\"color:seagreen\">$ \\left|0_A \\right\\rangle$</span>$ \\big($<span style=\"color:orange\">$\\alpha$ </span> <span style=\"color:seagreen\">$ \\left|0_B\\right\\rangle$</span>$ - $ <span style=\"color:orange\">$\\beta$ </span> <span style=\"color:seagreen\">$ \\left|1_B\\right\\rangle$</span>$ \\big)$.\n",
    "\n",
    "$\\left| \\psi_2 \\right\\rangle $<span style=\"color:orange\">$_{1_P}$</span><span style=\"color:seagreen\">$_{1_A}$</span>$ = \\big($<span style=\"color:orange\">$\\alpha \\frac{1}{\\sqrt{2}} \\left|1_P\\right\\rangle$</span>$\\big)\\big($<span style=\"color:seagreen\">$ \\frac{1}{\\sqrt{2}} \\left|1_A 1_B\\right\\rangle$</span>$\\big)+\\big($<span style=\"color:orange\">$ -\\beta \\frac{1}{\\sqrt{2}} \\left|1_P\\right\\rangle$</span>$\\big)\\big($<span style=\"color:seagreen\">$ \\frac{1}{\\sqrt{2}} \\left|1_A 0_B\\right\\rangle$</span>$\\big) = \\frac{1}{2}\\big($<span style=\"color:orange\">$\\alpha \\left|1_P\\right\\rangle$</span><span style=\"color:seagreen\">$ \\left|1_A 1_B\\right\\rangle$</span>$-$<span style=\"color:orange\">$\\beta \\left|1_P\\right\\rangle$</span><span style=\"color:seagreen\">$ \\left|1_A 0_B\\right\\rangle$</span>$\\big) = \\,\\,\\,$<span style=\"color:orange\">$  \\left|1_P\\right\\rangle$</span><span style=\"color:seagreen\">$ \\left|1_A \\right\\rangle$</span>$ \\big($<span style=\"color:orange\">$\\alpha$ </span> <span style=\"color:seagreen\">$ \\left|1_B\\right\\rangle$</span>$ - $ <span style=\"color:orange\">$\\beta$ </span> <span style=\"color:seagreen\">$ \\left|0_B\\right\\rangle$</span>$ \\big)$.\n"
   ]
  },
  {
   "cell_type": "markdown",
   "metadata": {},
   "source": [
    "So, now the question is: what is the leftover state of Bob's qubit in each of the four cases? \n",
    "\n",
    "From each of the four expressions $\\left| \\psi_2 \\right\\rangle $<span style=\"color:orange\">$_{0_P}$</span><span style=\"color:seagreen\">$_{0_A}$</span>, $\\left| \\psi_2 \\right\\rangle $<span style=\"color:orange\">$_{0_P}$</span><span style=\"color:seagreen\">$_{1_A}$</span>, $\\left| \\psi_2 \\right\\rangle $<span style=\"color:orange\">$_{1_P}$</span><span style=\"color:seagreen\">$_{0_A}$</span>, $\\left| \\psi_2 \\right\\rangle $<span style=\"color:orange\">$_{1_P}$</span><span style=\"color:seagreen\">$_{1_A}$</span>, we can simply read out the state of Bob's qubit by *ignoring the password qubit and Alice's qubit* in these expressions:\n",
    "\n",
    " - If the measurement outcome was '00': $\\left| \\psi_2 \\right\\rangle $<span style=\"color:orange\">$_{0_P}$</span><span style=\"color:seagreen\">$_{0_A} = $</span> <span style=\"color:orange\">$ \\alpha \\left|0_P\\right\\rangle$</span><span style=\"color:seagreen\">$ \\left|0_A 0_B\\right\\rangle$</span>$+$<span style=\"color:orange\">$\\beta \\left|0_P\\right\\rangle$</span><span style=\"color:seagreen\">$ \\left|0_A 1_B\\right\\rangle$</span>$\\implies$\n",
    " $| $<span style=\"color:seagreen\">$ Bob $</span>$\\rangle $ $ = $ <span style=\"color:orange\">$\\alpha$</span><span style=\"color:seagreen\">$ \\left| 0_B\\right\\rangle$</span>$+$<span style=\"color:orange\">$\\beta $</span><span style=\"color:seagreen\">$ \\left|1_B\\right\\rangle$</span> $ = $ $\\alpha \\left| 0\\right\\rangle+\\beta \\left|1\\right\\rangle$</span>\n",
    " \n",
    " - If the measurement outcome was '01': $\\left| \\psi_2 \\right\\rangle $<span style=\"color:orange\">$_{0_P}$</span><span style=\"color:seagreen\">$_{1_A} = $</span> <span style=\"color:orange\">$ \\alpha \\left|0_P\\right\\rangle$</span><span style=\"color:seagreen\">$ \\left|1_A 1_B\\right\\rangle$</span>$+$<span style=\"color:orange\">$\\beta \\left|0_P\\right\\rangle$</span><span style=\"color:seagreen\">$ \\left|1_A 0_B\\right\\rangle$</span> $\\implies$\n",
    " $| $<span style=\"color:seagreen\">$ Bob $</span>$\\rangle $ $ = $ <span style=\"color:orange\">$\\alpha$</span><span style=\"color:seagreen\">$ \\left| 1_B\\right\\rangle$</span>$+$<span style=\"color:orange\">$\\beta $</span><span style=\"color:seagreen\">$ \\left|0_B\\right\\rangle$</span> $ = $ $\\alpha \\left| 1\\right\\rangle+\\beta \\left|0\\right\\rangle$</span>\n",
    " \n",
    " - If the measurement outcome was '10': $\\left| \\psi_2 \\right\\rangle $<span style=\"color:orange\">$_{1_P}$</span><span style=\"color:seagreen\">$_{0_A} = $</span> <span style=\"color:orange\">$ \\alpha \\left|1_P\\right\\rangle$</span><span style=\"color:seagreen\">$ \\left|0_A 0_B\\right\\rangle$</span>$-$<span style=\"color:orange\">$\\beta \\left|1_P\\right\\rangle$</span><span style=\"color:seagreen\">$ \\left|0_A 1_B\\right\\rangle$</span> $\\implies$\n",
    " $| $<span style=\"color:seagreen\">$ Bob $</span>$\\rangle $ $ = $ <span style=\"color:orange\">$\\alpha$</span><span style=\"color:seagreen\">$ \\left| 0_B\\right\\rangle$</span>$-$<span style=\"color:orange\">$\\beta $</span><span style=\"color:seagreen\">$ \\left|1_B\\right\\rangle$</span> $ = $ $\\alpha \\left| 0\\right\\rangle-\\beta \\left|1\\right\\rangle$</span>\n",
    " \n",
    " - If the measurement outcome was '11': $\\left| \\psi_2 \\right\\rangle $<span style=\"color:orange\">$_{1_P}$</span><span style=\"color:seagreen\">$_{1_A} = $</span> <span style=\"color:orange\">$ \\alpha \\left|1_P\\right\\rangle$</span><span style=\"color:seagreen\">$ \\left|1_A 1_B\\right\\rangle$</span>$-$<span style=\"color:orange\">$\\beta \\left|1_P\\right\\rangle$</span><span style=\"color:seagreen\">$ \\left|1_A 0_B\\right\\rangle$</span> $\\implies$\n",
    " $| $<span style=\"color:seagreen\">$ Bob $</span>$\\rangle $ $ = $ <span style=\"color:orange\">$\\alpha$</span><span style=\"color:seagreen\">$ \\left| 1_B\\right\\rangle$</span>$-$<span style=\"color:orange\">$\\beta $</span><span style=\"color:seagreen\">$ \\left|0_B\\right\\rangle$</span> $ = $ $\\alpha \\left| 1\\right\\rangle-\\beta \\left|0\\right\\rangle$</span>\n",
    " \n",
    "Where we dropped the subscripts at the end to make it easier to see how close Bob's qubit was to the original password qubit! In the case that Alice sees two 0 qubits, which happens 25% of the time, Bob already holds the original password qubit state! In the other cases, it's just a case of swapping the 0 and 1 states of his qubit, flipping the sign of the 1 state coefficient, or both. Recall that the $X$ gate swaps the two states, and the $Z$ gate multiplies the 1 state by negative one. Notice that, in order for Bob to recover the original state of the password qubit, it suffices that he does the following. If the password qubit was measured as '1', then Bob must apply an $X$ gate and if Alice's qubit was measured as '1', then Bob must also apply a $Z$ gate. In order to be totally sure that he has the correct password qubit in his possession, it is necessary for Bob to wait until Alice *classically* communicates the outcomes of her measurement. This completes the quantum teleportation protocol - congratulations for making it this far!\n",
    "\n",
    "With this in hand, Bob is able to decode the enemy's exact plans and launch a counteroffensive, thereby freeing Alice from the brig on Proxima Centauri-B!"
   ]
  },
  {
   "cell_type": "markdown",
   "metadata": {},
   "source": [
    "<h1 style=\"color:MediumSeaGreen;\">Implications</h1>\n",
    "\n",
    "We've emphasized that Bob must wait to receive the results from Alice's measurement, but why is this important? The instant that Alice makes the measurement, the state of Bob's qubit has changed, right? Like we've said, 25% of the time Bob goes from having one of a Bell pair of qubits to having whatever qubit Alice wanted to give him in as little time as it takes for her to run a tiny circuit! This could be near-instantaneous and doesn't even depend on how far away the two are -- isn't this faster-than-light communication?\n",
    "\n",
    "Of course, this is not quite the case. Bob has absolutely no way of knowing that he's received the correct qubit, or even that his qubit has been disturbed from its initial state, until he learns of Alice's measurement by classical means, which will at best travel to him at the speed of light by traditional means. What is useful about the quantum teleportation protocol is not that the state of a qubit instantly zips from one place to another (although that's certainly amazing!) but that after this protocol we have recreated any arbitrary exact superposition state without ever destroying it by careless measurement!"
   ]
  },
  {
   "cell_type": "markdown",
   "metadata": {},
   "source": [
    "<h1 style=\"color:MediumSeaGreen;\">A recap of quantum teleportation</h1>\n",
    "\n",
    "Based on our discussion above, we now understand that a quantum teleportation protocol takes as input:\n",
    "- an arbitrary qubit state.\n",
    "\n",
    "and requires as a resource:\n",
    "- a Bell state pair of qubits shared between the \"sender\" (Alice in our example) and the \"receiver\" (Bob in our example).\n",
    "\n",
    "The circuit to perform quantum teleportation consists of two subcircuits:\n",
    "- the two-qubit circuit Alice performs on the password qubit and on her half of the Bell state pair.\n",
    "- the circuit that Bob performs to retrieve the state of the original the password qubit, based on Alice's measurement outcomes.\n",
    "\n",
    "Importantly, quantum teleportation does not allow Alice and Bob to communicate faster than the speed of light. Alice still has to send Bob *classical* information about her measurement outcomes, which definitely can't travel faster than the speed of light, in order for Bob to know what correction to apply on his side and be sure he's in possession of the correct state."
   ]
  },
  {
   "cell_type": "markdown",
   "metadata": {},
   "source": [
    "<hr/>\n",
    "\n",
    "<font size=3 color=b64c35>Prev module: </font><font size=4 color=b64c35>[8. Deutsch's algorithm](./08_Deutsch_algorithm.ipynb)</font>  &nbsp;&nbsp;&nbsp; &nbsp;&nbsp; &nbsp;&nbsp;&nbsp; &nbsp;&nbsp; &nbsp;&nbsp;&nbsp; &nbsp;&nbsp; &nbsp;&nbsp;&nbsp; &nbsp;&nbsp; &nbsp;&nbsp;&nbsp; &nbsp;&nbsp; &nbsp;&nbsp;&nbsp; &nbsp;&nbsp; &nbsp;&nbsp;&nbsp; &nbsp;&nbsp; &nbsp;&nbsp;&nbsp; &nbsp;&nbsp; &nbsp;&nbsp;&nbsp; &nbsp;&nbsp; \n",
    "<font size=3 color=b64c35>Next module: </font> <font size=4 color=b64c35>[10. Quantum algorithms discussion](./10_Quantum_algorithms_discussion.ipynb)</font>"
   ]
  }
 ],
 "metadata": {
  "kernelspec": {
   "display_name": "Python 3",
   "language": "python",
   "name": "python3"
  },
  "language_info": {
   "codemirror_mode": {
    "name": "ipython",
    "version": 3
   },
   "file_extension": ".py",
   "mimetype": "text/x-python",
   "name": "python",
   "nbconvert_exporter": "python",
   "pygments_lexer": "ipython3",
   "version": "3.6.7"
  },
  "widgets": {
   "application/vnd.jupyter.widget-state+json": {
    "state": {},
    "version_major": 2,
    "version_minor": 0
   }
  }
 },
 "nbformat": 4,
 "nbformat_minor": 4
}
